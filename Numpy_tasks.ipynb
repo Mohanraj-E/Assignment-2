{
  "cells": [
    {
      "cell_type": "markdown",
      "metadata": {
        "id": "view-in-github",
        "colab_type": "text"
      },
      "source": [
        "<a href=\"https://colab.research.google.com/github/Mohanraj-E/Assignment-2/blob/main/Numpy_tasks.ipynb\" target=\"_parent\"><img src=\"https://colab.research.google.com/assets/colab-badge.svg\" alt=\"Open In Colab\"/></a>"
      ]
    },
    {
      "cell_type": "markdown",
      "metadata": {
        "id": "ccsICx8DkLti"
      },
      "source": [
        "# Numpy\n",
        "\n"
      ]
    },
    {
      "cell_type": "markdown",
      "metadata": {
        "id": "0Bt4ygUakLtr"
      },
      "source": [
        "#### 1. Import the numpy package under the name `np` (★☆☆) \n",
        "(**hint**: import … as …)"
      ]
    },
    {
      "cell_type": "code",
      "execution_count": null,
      "metadata": {
        "collapsed": true,
        "id": "EHZTrzu2kLts"
      },
      "outputs": [],
      "source": [
        "import numpy as np"
      ]
    },
    {
      "cell_type": "markdown",
      "metadata": {
        "id": "criXFFDHkLtt"
      },
      "source": [
        "#### 2. Print the numpy version and the configuration (★☆☆) \n",
        "(**hint**: np.\\_\\_version\\_\\_, np.show\\_config)"
      ]
    },
    {
      "cell_type": "code",
      "execution_count": null,
      "metadata": {
        "colab": {
          "base_uri": "https://localhost:8080/"
        },
        "id": "Y6nvl1ArkLtu",
        "outputId": "098491aa-e836-4f26-ca78-891e948d9ed3"
      },
      "outputs": [
        {
          "output_type": "stream",
          "name": "stdout",
          "text": [
            "1.21.6\n",
            "blas_mkl_info:\n",
            "  NOT AVAILABLE\n",
            "blis_info:\n",
            "  NOT AVAILABLE\n",
            "openblas_info:\n",
            "    libraries = ['openblas', 'openblas']\n",
            "    library_dirs = ['/usr/local/lib']\n",
            "    language = c\n",
            "    define_macros = [('HAVE_CBLAS', None)]\n",
            "    runtime_library_dirs = ['/usr/local/lib']\n",
            "blas_opt_info:\n",
            "    libraries = ['openblas', 'openblas']\n",
            "    library_dirs = ['/usr/local/lib']\n",
            "    language = c\n",
            "    define_macros = [('HAVE_CBLAS', None)]\n",
            "    runtime_library_dirs = ['/usr/local/lib']\n",
            "lapack_mkl_info:\n",
            "  NOT AVAILABLE\n",
            "openblas_lapack_info:\n",
            "    libraries = ['openblas', 'openblas']\n",
            "    library_dirs = ['/usr/local/lib']\n",
            "    language = c\n",
            "    define_macros = [('HAVE_CBLAS', None)]\n",
            "    runtime_library_dirs = ['/usr/local/lib']\n",
            "lapack_opt_info:\n",
            "    libraries = ['openblas', 'openblas']\n",
            "    library_dirs = ['/usr/local/lib']\n",
            "    language = c\n",
            "    define_macros = [('HAVE_CBLAS', None)]\n",
            "    runtime_library_dirs = ['/usr/local/lib']\n",
            "Supported SIMD extensions in this NumPy install:\n",
            "    baseline = SSE,SSE2,SSE3\n",
            "    found = SSSE3,SSE41,POPCNT,SSE42,AVX,F16C,FMA3,AVX2\n",
            "    not found = AVX512F,AVX512CD,AVX512_KNL,AVX512_KNM,AVX512_SKX,AVX512_CLX,AVX512_CNL,AVX512_ICL\n",
            "None\n"
          ]
        }
      ],
      "source": [
        "print(np.__version__)\n",
        "print(np.show_config())"
      ]
    },
    {
      "cell_type": "markdown",
      "metadata": {
        "id": "8dnzBfOvkLtv"
      },
      "source": [
        "#### 3. Create a null vector of size 10 (★☆☆) \n",
        "(**hint**: np.zeros)"
      ]
    },
    {
      "cell_type": "code",
      "execution_count": null,
      "metadata": {
        "colab": {
          "base_uri": "https://localhost:8080/"
        },
        "id": "lxKe13HUkLtw",
        "outputId": "7bef6242-82a6-4354-ae00-a352bbb947f9"
      },
      "outputs": [
        {
          "output_type": "execute_result",
          "data": {
            "text/plain": [
              "array([0., 0., 0., 0., 0., 0., 0., 0., 0., 0.])"
            ]
          },
          "metadata": {},
          "execution_count": 8
        }
      ],
      "source": [
        "Z = np.zeros(10)\n",
        "print(Z)"
      ]
    },
    {
      "cell_type": "markdown",
      "metadata": {
        "id": "BpOwRIDwkLtx"
      },
      "source": [
        "#### 4.  How to find the memory size of any array (★☆☆) \n",
        "(**hint**: size, itemsize)"
      ]
    },
    {
      "cell_type": "code",
      "execution_count": null,
      "metadata": {
        "colab": {
          "base_uri": "https://localhost:8080/"
        },
        "id": "4TIuWHCJkLtz",
        "outputId": "46acdd51-102e-4d26-9584-24920dfc4013"
      },
      "outputs": [
        {
          "output_type": "stream",
          "name": "stdout",
          "text": [
            "200 bytes\n"
          ]
        }
      ],
      "source": [
        "A = np.zeros((5,5))\n",
        "\n",
        "print(\"%d bytes\" % (A.size * A.itemsize))"
      ]
    },
    {
      "cell_type": "markdown",
      "metadata": {
        "id": "DK_h6y6AkLt0"
      },
      "source": [
        "#### 5.  How to get the documentation of the numpy add function from the command line? (★☆☆) \n",
        "(**hint**: np.info)"
      ]
    },
    {
      "cell_type": "code",
      "execution_count": null,
      "metadata": {
        "collapsed": true,
        "colab": {
          "base_uri": "https://localhost:8080/"
        },
        "id": "4lNpSf42kLt0",
        "outputId": "c338b154-1840-47dc-ddf3-07af575d6c25"
      },
      "outputs": [
        {
          "output_type": "stream",
          "name": "stdout",
          "text": [
            "add(x1, x2, /, out=None, *, where=True, casting='same_kind', order='K', dtype=None, subok=True[, signature, extobj])\n",
            "\n",
            "Add arguments element-wise.\n",
            "\n",
            "Parameters\n",
            "----------\n",
            "x1, x2 : array_like\n",
            "    The arrays to be added.\n",
            "    If ``x1.shape != x2.shape``, they must be broadcastable to a common\n",
            "    shape (which becomes the shape of the output).\n",
            "out : ndarray, None, or tuple of ndarray and None, optional\n",
            "    A location into which the result is stored. If provided, it must have\n",
            "    a shape that the inputs broadcast to. If not provided or None,\n",
            "    a freshly-allocated array is returned. A tuple (possible only as a\n",
            "    keyword argument) must have length equal to the number of outputs.\n",
            "where : array_like, optional\n",
            "    This condition is broadcast over the input. At locations where the\n",
            "    condition is True, the `out` array will be set to the ufunc result.\n",
            "    Elsewhere, the `out` array will retain its original value.\n",
            "    Note that if an uninitialized `out` array is created via the default\n",
            "    ``out=None``, locations within it where the condition is False will\n",
            "    remain uninitialized.\n",
            "**kwargs\n",
            "    For other keyword-only arguments, see the\n",
            "    :ref:`ufunc docs <ufuncs.kwargs>`.\n",
            "\n",
            "Returns\n",
            "-------\n",
            "add : ndarray or scalar\n",
            "    The sum of `x1` and `x2`, element-wise.\n",
            "    This is a scalar if both `x1` and `x2` are scalars.\n",
            "\n",
            "Notes\n",
            "-----\n",
            "Equivalent to `x1` + `x2` in terms of array broadcasting.\n",
            "\n",
            "Examples\n",
            "--------\n",
            ">>> np.add(1.0, 4.0)\n",
            "5.0\n",
            ">>> x1 = np.arange(9.0).reshape((3, 3))\n",
            ">>> x2 = np.arange(3.0)\n",
            ">>> np.add(x1, x2)\n",
            "array([[  0.,   2.,   4.],\n",
            "       [  3.,   5.,   7.],\n",
            "       [  6.,   8.,  10.]])\n",
            "\n",
            "The ``+`` operator can be used as a shorthand for ``np.add`` on ndarrays.\n",
            "\n",
            ">>> x1 = np.arange(9.0).reshape((3, 3))\n",
            ">>> x2 = np.arange(3.0)\n",
            ">>> x1 + x2\n",
            "array([[ 0.,  2.,  4.],\n",
            "       [ 3.,  5.,  7.],\n",
            "       [ 6.,  8., 10.]])\n",
            "None\n"
          ]
        }
      ],
      "source": [
        "print(np.info(np.add))"
      ]
    },
    {
      "cell_type": "markdown",
      "metadata": {
        "id": "Q8dpj9KBkLt1"
      },
      "source": [
        "#### 6.  Create a null vector of size 10 but the fifth value which is 1 (★☆☆) \n",
        "(**hint**: array\\[4\\])"
      ]
    },
    {
      "cell_type": "code",
      "execution_count": null,
      "metadata": {
        "colab": {
          "base_uri": "https://localhost:8080/"
        },
        "id": "btKYGnjRkLt2",
        "outputId": "309f3b0c-36ce-4293-af8a-d3ff1f899883"
      },
      "outputs": [
        {
          "output_type": "stream",
          "name": "stdout",
          "text": [
            "[0. 0. 0. 0. 1. 0. 0. 0. 0. 0.]\n"
          ]
        }
      ],
      "source": [
        "array = np.zeros(10)\n",
        "array[4] = 1\n",
        "\n",
        "print(array)"
      ]
    },
    {
      "cell_type": "markdown",
      "metadata": {
        "id": "WVxoxc3gkLt2"
      },
      "source": [
        "#### 7.  Create a vector with values ranging from 10 to 49 (★☆☆) \n",
        "(**hint**: np.arange)"
      ]
    },
    {
      "cell_type": "code",
      "execution_count": null,
      "metadata": {
        "colab": {
          "base_uri": "https://localhost:8080/"
        },
        "id": "Af4OnI8SkLt3",
        "outputId": "954f86ba-0dc7-4f00-961b-c3906cd30c90"
      },
      "outputs": [
        {
          "output_type": "stream",
          "name": "stdout",
          "text": [
            "[10 11 12 13 14 15 16 17 18 19 20 21 22 23 24 25 26 27 28 29 30 31 32 33 34 35 36 37 38 39 40 41 42 43 44 45 46 47 48] \n",
            "\n",
            "[10 11 12 13 14 15 16 17 18 19 20 21 22 23 24 25 26 27 28 29 30 31 32 33 34 35 36 37 38 39 40 41 42 43 44 45 46 47 48 49]\n"
          ]
        }
      ],
      "source": [
        "vector = np.arange(10,49)\n",
        "print(vector,\"\\n\")\n",
        "\n",
        "# If 49 needs to be included the\n",
        "\n",
        "vector1 = np.arange(10,50)\n",
        "print(vector1)"
      ]
    },
    {
      "cell_type": "markdown",
      "metadata": {
        "id": "DhhoED4_kLt4"
      },
      "source": [
        "#### 8.  Reverse a vector (first element becomes last) (★☆☆) \n",
        "(**hint**: array\\[::-1\\])"
      ]
    },
    {
      "cell_type": "code",
      "execution_count": null,
      "metadata": {
        "colab": {
          "base_uri": "https://localhost:8080/"
        },
        "id": "FXJuKHm4kLt5",
        "outputId": "dac637d0-8e1b-465a-cd44-08e859fcc175"
      },
      "outputs": [
        {
          "output_type": "stream",
          "name": "stdout",
          "text": [
            "Vector before reversed :  \n",
            " [10 11 12 13 14 15 16 17 18 19 20 21 22 23 24 25 26 27 28 29 30 31 32 33\n",
            " 34 35 36 37 38 39 40 41 42 43 44 45 46 47 48] \n",
            "\n",
            "Vector after reversed :  \n",
            " [48 47 46 45 44 43 42 41 40 39 38 37 36 35 34 33 32 31 30 29 28 27 26 25\n",
            " 24 23 22 21 20 19 18 17 16 15 14 13 12 11 10]\n"
          ]
        }
      ],
      "source": [
        "vector = np.arange(10,49)\n",
        "\n",
        "print(\"Vector before reversed : \",\"\\n\",vector,\"\\n\")\n",
        "print(\"Vector after reversed : \",\"\\n\",vector[::-1])"
      ]
    },
    {
      "cell_type": "markdown",
      "metadata": {
        "id": "jyTrg-XRkLt5"
      },
      "source": [
        "#### 9.  Create a 3x3 matrix with values ranging from 0 to 8 (★☆☆) \n",
        "(**hint**: reshape)"
      ]
    },
    {
      "cell_type": "code",
      "execution_count": null,
      "metadata": {
        "colab": {
          "base_uri": "https://localhost:8080/"
        },
        "id": "SQSoz_cfkLt6",
        "outputId": "fee98b48-b01b-42a3-a8b9-a13d3170d78b"
      },
      "outputs": [
        {
          "output_type": "stream",
          "name": "stdout",
          "text": [
            "[[0 1 2]\n",
            " [3 4 5]\n",
            " [6 7 8]]\n"
          ]
        }
      ],
      "source": [
        "x =  np.arange(0,9).reshape(3,3)\n",
        "print(x)"
      ]
    },
    {
      "cell_type": "markdown",
      "metadata": {
        "id": "TH6B2LHOkLt6"
      },
      "source": [
        "#### 10. Find indices of non-zero elements from \\[1,2,0,0,4,0\\] (★☆☆) \n",
        "(**hint**: np.nonzero)"
      ]
    },
    {
      "cell_type": "code",
      "execution_count": null,
      "metadata": {
        "colab": {
          "base_uri": "https://localhost:8080/"
        },
        "id": "-77uGNbVkLt7",
        "outputId": "6c4cb87e-3dd5-4eac-f8a7-0c1a179457bc"
      },
      "outputs": [
        {
          "output_type": "stream",
          "name": "stdout",
          "text": [
            "Indices of non-zero elements from [1,2,0,0,4,0] is :  \n",
            " (array([0, 1, 4]),)\n"
          ]
        }
      ],
      "source": [
        "A = [1,2,0,0,4,0]\n",
        "print(\"Indices of non-zero elements from [1,2,0,0,4,0] is : \",\"\\n\",np.nonzero(A))"
      ]
    },
    {
      "cell_type": "markdown",
      "metadata": {
        "id": "M5G9CBW5kLt8"
      },
      "source": [
        "#### 11. Create a 3x3 identity matrix (★☆☆) \n",
        "(**hint**: np.eye)"
      ]
    },
    {
      "cell_type": "code",
      "execution_count": null,
      "metadata": {
        "colab": {
          "base_uri": "https://localhost:8080/"
        },
        "id": "UqGPyO1EkLt8",
        "outputId": "bd8d2635-d8cc-43e2-808b-67249868efe9"
      },
      "outputs": [
        {
          "output_type": "stream",
          "name": "stdout",
          "text": [
            "The 3x3 Identity Matrix is :  \n",
            " [[1. 0. 0.]\n",
            " [0. 1. 0.]\n",
            " [0. 0. 1.]]\n"
          ]
        }
      ],
      "source": [
        "Imat=np.eye(3,3)\n",
        "print(\"The 3x3 Identity Matrix is : \",\"\\n\",Imat)"
      ]
    },
    {
      "cell_type": "markdown",
      "metadata": {
        "id": "yjO17W7YkLt8"
      },
      "source": [
        "#### 12. Create a 3x3x3 array with random values (★☆☆) \n",
        "(**hint**: np.random.random)"
      ]
    },
    {
      "cell_type": "code",
      "execution_count": null,
      "metadata": {
        "collapsed": true,
        "colab": {
          "base_uri": "https://localhost:8080/"
        },
        "id": "hbOKKlMhkLt9",
        "outputId": "1d30687f-8abb-479c-a591-eb9fbd704543"
      },
      "outputs": [
        {
          "output_type": "stream",
          "name": "stdout",
          "text": [
            "The 3x3x3 Array with Random Values \n",
            " [[[0.92216549 0.25912293 0.19976905]\n",
            "  [0.23129221 0.58132105 0.11300904]\n",
            "  [0.27402942 0.03719456 0.55495405]]\n",
            "\n",
            " [[0.26823397 0.87155735 0.62660432]\n",
            "  [0.8467689  0.10049441 0.49983414]\n",
            "  [0.31125423 0.03742039 0.72187084]]\n",
            "\n",
            " [[0.15305946 0.75833696 0.9727895 ]\n",
            "  [0.78694398 0.94132765 0.58113354]\n",
            "  [0.96561676 0.37882964 0.26571725]]]\n"
          ]
        }
      ],
      "source": [
        "ran = np.random.random((3,3,3))\n",
        "print(\"The 3x3x3 Array with Random Values\",\"\\n\",ran)"
      ]
    },
    {
      "cell_type": "markdown",
      "metadata": {
        "id": "rZJIJOWfkLt9"
      },
      "source": [
        "#### 13. Create a 10x10 array with random values and find the minimum and maximum values (★☆☆) \n",
        "(**hint**: min, max)"
      ]
    },
    {
      "cell_type": "code",
      "execution_count": null,
      "metadata": {
        "colab": {
          "base_uri": "https://localhost:8080/"
        },
        "id": "Z6tqX2jwkLt9",
        "outputId": "b39f345e-c8d2-4a8c-d806-1ca6d379f576"
      },
      "outputs": [
        {
          "output_type": "stream",
          "name": "stdout",
          "text": [
            "The Minimum Value is :  0.004645570068016247\n",
            "The Maximum Value is :  0.9954645146674915\n"
          ]
        }
      ],
      "source": [
        "ran1 = np.random.random((10,10))\n",
        "print(\"The Minimum Value is : \",ran1.min())\n",
        "print(\"The Maximum Value is : \",ran1.max())"
      ]
    },
    {
      "cell_type": "markdown",
      "metadata": {
        "id": "EZIqtL4BkLt-"
      },
      "source": [
        "#### 14. Create a random vector of size 30 and find the mean value (★☆☆) \n",
        "(**hint**: mean)"
      ]
    },
    {
      "cell_type": "code",
      "execution_count": null,
      "metadata": {
        "colab": {
          "base_uri": "https://localhost:8080/"
        },
        "id": "EMo5bAHbkLt-",
        "outputId": "53c9e4c3-0c52-4810-f968-6619d2eaa7ef"
      },
      "outputs": [
        {
          "output_type": "stream",
          "name": "stdout",
          "text": [
            "The mean value of the random vector of size 30 is :  0.4566523702307503\n"
          ]
        }
      ],
      "source": [
        "ran2 = np.random.random(30)\n",
        "print(\"The mean value of the random vector of size 30 is : \",ran2.mean())"
      ]
    },
    {
      "cell_type": "markdown",
      "metadata": {
        "id": "xEpP8-ndkLt-"
      },
      "source": [
        "#### 15. Create a 2d array with 1 on the border and 0 inside (★☆☆) \n",
        "(**hint**: array\\[1:-1, 1:-1\\])"
      ]
    },
    {
      "cell_type": "code",
      "execution_count": null,
      "metadata": {
        "colab": {
          "base_uri": "https://localhost:8080/"
        },
        "id": "yBAlKn12kLt_",
        "outputId": "1ea96494-5b32-4580-fd20-7ab26c98c1db"
      },
      "outputs": [
        {
          "output_type": "stream",
          "name": "stdout",
          "text": [
            "2d array with 1 on the border and 0 inside :  \n",
            " [[1. 1. 1. 1. 1. 1. 1. 1. 1. 1.]\n",
            " [1. 0. 0. 0. 0. 0. 0. 0. 0. 1.]\n",
            " [1. 0. 0. 0. 0. 0. 0. 0. 0. 1.]\n",
            " [1. 0. 0. 0. 0. 0. 0. 0. 0. 1.]\n",
            " [1. 0. 0. 0. 0. 0. 0. 0. 0. 1.]\n",
            " [1. 0. 0. 0. 0. 0. 0. 0. 0. 1.]\n",
            " [1. 0. 0. 0. 0. 0. 0. 0. 0. 1.]\n",
            " [1. 0. 0. 0. 0. 0. 0. 0. 0. 1.]\n",
            " [1. 0. 0. 0. 0. 0. 0. 0. 0. 1.]\n",
            " [1. 1. 1. 1. 1. 1. 1. 1. 1. 1.]]\n"
          ]
        }
      ],
      "source": [
        "Z = np.ones((10,10))\n",
        "Z[1:-1,1:-1]=0\n",
        "print(\"2d array with 1 on the border and 0 inside : \",\"\\n\",Z)"
      ]
    },
    {
      "cell_type": "markdown",
      "metadata": {
        "id": "_Bh4Y3FjkLt_"
      },
      "source": [
        "#### 16. How to add a border (filled with 0's) around an existing array? (★☆☆) \n",
        "(**hint**: np.pad)"
      ]
    },
    {
      "cell_type": "code",
      "execution_count": null,
      "metadata": {
        "colab": {
          "base_uri": "https://localhost:8080/"
        },
        "id": "-NqIElkikLt_",
        "outputId": "c67eee8a-18ad-494d-95e9-95adec9ecce8"
      },
      "outputs": [
        {
          "output_type": "stream",
          "name": "stdout",
          "text": [
            "A border (filled with 0's) around an existing array :  \n",
            " [[0. 0. 0. 0. 0. 0. 0. 0. 0. 0. 0. 0.]\n",
            " [0. 1. 1. 1. 1. 1. 1. 1. 1. 1. 1. 0.]\n",
            " [0. 1. 1. 1. 1. 1. 1. 1. 1. 1. 1. 0.]\n",
            " [0. 1. 1. 1. 1. 1. 1. 1. 1. 1. 1. 0.]\n",
            " [0. 1. 1. 1. 1. 1. 1. 1. 1. 1. 1. 0.]\n",
            " [0. 1. 1. 1. 1. 1. 1. 1. 1. 1. 1. 0.]\n",
            " [0. 1. 1. 1. 1. 1. 1. 1. 1. 1. 1. 0.]\n",
            " [0. 1. 1. 1. 1. 1. 1. 1. 1. 1. 1. 0.]\n",
            " [0. 1. 1. 1. 1. 1. 1. 1. 1. 1. 1. 0.]\n",
            " [0. 1. 1. 1. 1. 1. 1. 1. 1. 1. 1. 0.]\n",
            " [0. 1. 1. 1. 1. 1. 1. 1. 1. 1. 1. 0.]\n",
            " [0. 0. 0. 0. 0. 0. 0. 0. 0. 0. 0. 0.]]\n"
          ]
        }
      ],
      "source": [
        "Z = np.ones((10,10))\n",
        "Z = np.pad(Z, pad_width=1, mode='constant', constant_values=0)\n",
        "print(\"A border (filled with 0's) around an existing array : \",\"\\n\",Z)"
      ]
    },
    {
      "cell_type": "markdown",
      "metadata": {
        "id": "yrGRSGlBkLuA"
      },
      "source": [
        "#### 17. What is the result of the following expression? (★☆☆) \n",
        "(**hint**: NaN = not a number, inf = infinity)"
      ]
    },
    {
      "cell_type": "markdown",
      "metadata": {
        "id": "ABFYJXVokLuA"
      },
      "source": [
        "```python\n",
        "0 * np.nan\n",
        "np.nan == np.nan\n",
        "np.inf > np.nan\n",
        "np.nan - np.nan\n",
        "0.3 == 3 * 0.1\n",
        "```"
      ]
    },
    {
      "cell_type": "code",
      "execution_count": null,
      "metadata": {
        "colab": {
          "base_uri": "https://localhost:8080/"
        },
        "id": "iKsJs9YBkLuB",
        "outputId": "9badb624-1d1a-4cde-e3b6-5a61ce3e140a"
      },
      "outputs": [
        {
          "output_type": "stream",
          "name": "stdout",
          "text": [
            "nan\n",
            "False\n",
            "False\n",
            "nan\n",
            "False\n"
          ]
        }
      ],
      "source": [
        "print(0 * np.nan)\n",
        "print(np.nan == np.nan)\n",
        "print(np.inf > np.nan)\n",
        "print(np.nan - np.nan)\n",
        "print(0.3 == 3 * 0.1)"
      ]
    },
    {
      "cell_type": "markdown",
      "metadata": {
        "id": "2EOk78aPkLuB"
      },
      "source": [
        "#### 18. Create a 5x5 matrix with values 1,2,3,4 just below the diagonal (★☆☆) \n",
        "(**hint**: np.diag)"
      ]
    },
    {
      "cell_type": "code",
      "execution_count": null,
      "metadata": {
        "colab": {
          "base_uri": "https://localhost:8080/"
        },
        "id": "1o6hD5z7kLuB",
        "outputId": "09df9874-ba8d-4815-af02-8003c0cb76a1"
      },
      "outputs": [
        {
          "output_type": "stream",
          "name": "stdout",
          "text": [
            "[[0 0 0 0 0]\n",
            " [1 0 0 0 0]\n",
            " [0 2 0 0 0]\n",
            " [0 0 3 0 0]\n",
            " [0 0 0 4 0]]\n"
          ]
        }
      ],
      "source": [
        "Z = np.diag(1+np.arange(4), k = -1)\n",
        "\n",
        "print (Z)"
      ]
    },
    {
      "cell_type": "markdown",
      "metadata": {
        "id": "kbWhViVtkLuC"
      },
      "source": [
        "#### 19. Create a 8x8 matrix and fill it with a checkerboard pattern (★☆☆) \n",
        "(**hint**: array\\[::2\\])"
      ]
    },
    {
      "cell_type": "code",
      "execution_count": null,
      "metadata": {
        "colab": {
          "base_uri": "https://localhost:8080/"
        },
        "id": "n8janFKPkLuC",
        "outputId": "5751c003-9e54-4d7a-a569-ee6c9f491f2b"
      },
      "outputs": [
        {
          "output_type": "stream",
          "name": "stdout",
          "text": [
            "[[0 1 0 1 0 1 0 1]\n",
            " [1 0 1 0 1 0 1 0]\n",
            " [0 1 0 1 0 1 0 1]\n",
            " [1 0 1 0 1 0 1 0]\n",
            " [0 1 0 1 0 1 0 1]\n",
            " [1 0 1 0 1 0 1 0]\n",
            " [0 1 0 1 0 1 0 1]\n",
            " [1 0 1 0 1 0 1 0]]\n"
          ]
        }
      ],
      "source": [
        "Checker = np.zeros ((8,8), dtype=int)\n",
        "\n",
        "Checker[1::2, ::2]= 1\n",
        "Checker[::2, 1::2] = 1\n",
        "\n",
        "print (Checker)"
      ]
    },
    {
      "cell_type": "markdown",
      "metadata": {
        "id": "LyNhkRfhkLuC"
      },
      "source": [
        "#### 20. Consider a (6,7,8) shape array, what is the index (x,y,z) of the 100th element? \n",
        "(**hint**: np.unravel_index)"
      ]
    },
    {
      "cell_type": "code",
      "execution_count": null,
      "metadata": {
        "colab": {
          "base_uri": "https://localhost:8080/"
        },
        "id": "fhW-n8aKkLuD",
        "outputId": "c7904db5-9fca-4c1b-adaf-0d011d04f349"
      },
      "outputs": [
        {
          "output_type": "stream",
          "name": "stdout",
          "text": [
            "In (6,7,8) shape array the index (x,y,z) of the 100th element is :  (1, 5, 4)\n"
          ]
        }
      ],
      "source": [
        "print (\"In (6,7,8) shape array the index (x,y,z) of the 100th element is : \",np.unravel_index(100, (6,7,8)))"
      ]
    },
    {
      "cell_type": "markdown",
      "metadata": {
        "id": "NZ5yAt5_kLuD"
      },
      "source": [
        "#### 21. Create a checkerboard 8x8 matrix using the tile function (★☆☆) \n",
        "(**hint**: np.tile)"
      ]
    },
    {
      "cell_type": "code",
      "execution_count": null,
      "metadata": {
        "colab": {
          "base_uri": "https://localhost:8080/"
        },
        "id": "4Rc8Oil9kLuD",
        "outputId": "4601f41a-1159-4393-e938-9921616a44e0"
      },
      "outputs": [
        {
          "output_type": "stream",
          "name": "stdout",
          "text": [
            "Checkerboard 8x8 matrix using the tile function :  \n",
            " [[0 1 0 1 0 1 0 1]\n",
            " [1 0 1 0 1 0 1 0]\n",
            " [0 1 0 1 0 1 0 1]\n",
            " [1 0 1 0 1 0 1 0]\n",
            " [0 1 0 1 0 1 0 1]\n",
            " [1 0 1 0 1 0 1 0]\n",
            " [0 1 0 1 0 1 0 1]\n",
            " [1 0 1 0 1 0 1 0]]\n"
          ]
        }
      ],
      "source": [
        "array1= np.array([[0,1], [1,0]])\n",
        "Za = np.tile(array1,(4,4))\n",
        "\n",
        "print (\"Checkerboard 8x8 matrix using the tile function : \",\"\\n\",Za)"
      ]
    },
    {
      "cell_type": "markdown",
      "metadata": {
        "id": "NgIKupgVkLuE"
      },
      "source": [
        "#### 22. Normalize a 5x5 random matrix (★☆☆) \n",
        "(**hint**: (x - min) / (max - min))"
      ]
    },
    {
      "cell_type": "code",
      "execution_count": null,
      "metadata": {
        "colab": {
          "base_uri": "https://localhost:8080/"
        },
        "id": "337cCwQdkLuE",
        "outputId": "8a2d9ef2-685f-4387-8433-c5f1902b1b9c"
      },
      "outputs": [
        {
          "output_type": "stream",
          "name": "stdout",
          "text": [
            "Normalized a 5x5 random matrix is : \n",
            " [[0.48303437 0.76818561 0.         1.         0.93848092]\n",
            " [0.26139761 0.05253568 0.49604607 0.28129776 0.00249424]\n",
            " [0.70864803 0.41973432 0.39974675 0.99565645 0.51491512]\n",
            " [0.17318114 0.80810194 0.46479606 0.04332177 0.94213923]\n",
            " [0.84623212 0.78585184 0.87810074 0.94470133 0.51156244]]\n"
          ]
        }
      ],
      "source": [
        "Norm = np.random.random((5,5))\n",
        "Normmax, Normmin = Norm.max(), Norm.min()\n",
        "mat= (Norm-Normmin)/(Normmax-Normmin)\n",
        "\n",
        "print (\"Normalized a 5x5 random matrix is :\",\"\\n\",mat)"
      ]
    },
    {
      "cell_type": "markdown",
      "metadata": {
        "id": "8AH_3w1hkLuE"
      },
      "source": [
        "#### 23. Create a custom dtype that describes a color as four unsigned bytes (RGBA) (★☆☆) \n",
        "(**hint**: np.dtype)"
      ]
    },
    {
      "cell_type": "code",
      "execution_count": null,
      "metadata": {
        "collapsed": true,
        "colab": {
          "base_uri": "https://localhost:8080/"
        },
        "id": "WfChMSJIkLuE",
        "outputId": "7a1d4c74-91d3-4706-f13b-b0b143d1cbe4"
      },
      "outputs": [
        {
          "output_type": "stream",
          "name": "stdout",
          "text": [
            "blue\n",
            "4\n"
          ]
        },
        {
          "output_type": "execute_result",
          "data": {
            "text/plain": [
              "numpy.ndarray"
            ]
          },
          "metadata": {},
          "execution_count": 192
        }
      ],
      "source": [
        "RGBA = np.dtype([('red',np.uint8),('green',np.uint8),('blue',np.uint8),('alpha',np.uint8)])\n",
        "color = np.array((1,2,4,3),dtype = RGBA)\n",
        "\n",
        "col = input()\n",
        "print(color[col])\n",
        "type(color)"
      ]
    },
    {
      "cell_type": "markdown",
      "metadata": {
        "id": "G_4QqbeakLuF"
      },
      "source": [
        "#### 24. Multiply a 5x3 matrix by a 3x2 matrix (real matrix product) (★☆☆) \n",
        "(**hint**: np.dot | @)"
      ]
    },
    {
      "cell_type": "code",
      "execution_count": null,
      "metadata": {
        "colab": {
          "base_uri": "https://localhost:8080/"
        },
        "id": "OxfJKvlgkLuF",
        "outputId": "7bce524f-7a22-4588-bd85-632a3c795c14"
      },
      "outputs": [
        {
          "output_type": "stream",
          "name": "stdout",
          "text": [
            "[[3. 3.]\n",
            " [3. 3.]\n",
            " [3. 3.]\n",
            " [3. 3.]\n",
            " [3. 3.]]\n"
          ]
        }
      ],
      "source": [
        "mat1= np.dot(np.ones((5,3)), np.ones((3,2)))\n",
        "\n",
        "print (mat1)"
      ]
    },
    {
      "cell_type": "markdown",
      "metadata": {
        "id": "jQWJEmoIkLuF"
      },
      "source": [
        "#### 25. Given a 1D array, negate all elements which are between 3 and 8, in place. (★☆☆) \n",
        "(**hint**: >, <=)"
      ]
    },
    {
      "cell_type": "code",
      "execution_count": null,
      "metadata": {
        "colab": {
          "base_uri": "https://localhost:8080/"
        },
        "id": "Uoh3BfVokLuF",
        "outputId": "af4044f2-c557-44ed-9e35-8b9cca28b78d"
      },
      "outputs": [
        {
          "output_type": "stream",
          "name": "stdout",
          "text": [
            "If 3 and 8 Not to be included :  \n",
            "\n",
            "[ 0  1  2 -1 -1 -1 -1 -1 -1  9 10 11 12 13 14 15] \n",
            "\n",
            "If 3 and 8 are to be included :  \n",
            "\n",
            "[ 0  1  2  3 -1 -1 -1 -1  8  9 10 11 12 13 14 15]\n",
            "Or According to the hint :  \n",
            "\n",
            "[ 0  1  2  3 -1 -1 -1 -1 -1  9 10 11 12 13 14 15]\n"
          ]
        }
      ],
      "source": [
        "arr1 = np.arange(16)\n",
        "\n",
        "print(\"If 3 and 8 Not to be included : \",\"\\n\")\n",
        "arr1 [(arr1 >= 3) & (arr1 <= 8)] = (-1)\n",
        "print(arr1,\"\\n\")\n",
        "\n",
        "arr2 = np.arange(16)\n",
        "print(\"If 3 and 8 are to be included : \",\"\\n\")\n",
        "arr2 [(arr2 > 3) & (arr2 < 8)] = (-1)\n",
        "print(arr2)\n",
        "\n",
        "arr3 = np.arange(16)\n",
        "print(\"Or According to the hint : \",\"\\n\")\n",
        "arr3 [(arr3 > 3) & (arr3 <= 8)] = (-1)\n",
        "print(arr3)"
      ]
    },
    {
      "cell_type": "markdown",
      "metadata": {
        "id": "jTGz2rCJkLuG"
      },
      "source": [
        "#### 26. What is the output of the following script? (★☆☆) \n",
        "(**hint**: np.sum)"
      ]
    },
    {
      "cell_type": "code",
      "execution_count": null,
      "metadata": {
        "colab": {
          "base_uri": "https://localhost:8080/"
        },
        "id": "DvC2CuA3kLuG",
        "outputId": "2d136b95-4fcf-4672-9ddb-6e3adc2a68f3"
      },
      "outputs": [
        {
          "output_type": "stream",
          "name": "stdout",
          "text": [
            "10\n",
            "10\n"
          ]
        }
      ],
      "source": [
        "print(np.sum(range(5),-1))\n",
        "from numpy import *\n",
        "print(np.sum(range(5),-1))"
      ]
    },
    {
      "cell_type": "markdown",
      "metadata": {
        "id": "nqh0ia8ZkLuG"
      },
      "source": [
        "#### 27. Consider an integer vector Z, which of these expressions are legal? (★☆☆)"
      ]
    },
    {
      "cell_type": "markdown",
      "metadata": {
        "id": "Jq43qyPrkLuH"
      },
      "source": [
        "```python\n",
        "Z**Z\n",
        "2 << Z >> 2\n",
        "Z <- Z\n",
        "1j*Z\n",
        "Z/1/1\n",
        "Z<Z>Z\n",
        "```"
      ]
    },
    {
      "cell_type": "code",
      "execution_count": null,
      "metadata": {
        "colab": {
          "base_uri": "https://localhost:8080/",
          "height": 287
        },
        "id": "KviwnMtIkLuH",
        "outputId": "75761089-9881-451c-c310-a04ce2179cf8"
      },
      "outputs": [
        {
          "output_type": "stream",
          "name": "stdout",
          "text": [
            "[1 1 4]\n",
            "[0 1 2]\n",
            "[False False False]\n",
            "[0.+0.j 0.+1.j 0.+2.j]\n",
            "[0. 1. 2.]\n"
          ]
        },
        {
          "output_type": "error",
          "ename": "ValueError",
          "evalue": "ignored",
          "traceback": [
            "\u001b[0;31m---------------------------------------------------------------------------\u001b[0m",
            "\u001b[0;31mValueError\u001b[0m                                Traceback (most recent call last)",
            "\u001b[0;32m<ipython-input-64-0d6818a84fe1>\u001b[0m in \u001b[0;36m<module>\u001b[0;34m\u001b[0m\n\u001b[1;32m      5\u001b[0m \u001b[0mprint\u001b[0m\u001b[0;34m(\u001b[0m\u001b[0;36m1j\u001b[0m\u001b[0;34m*\u001b[0m\u001b[0mZ\u001b[0m\u001b[0;34m)\u001b[0m\u001b[0;34m\u001b[0m\u001b[0;34m\u001b[0m\u001b[0m\n\u001b[1;32m      6\u001b[0m \u001b[0mprint\u001b[0m\u001b[0;34m(\u001b[0m\u001b[0mZ\u001b[0m\u001b[0;34m/\u001b[0m\u001b[0;36m1\u001b[0m\u001b[0;34m/\u001b[0m\u001b[0;36m1\u001b[0m\u001b[0;34m)\u001b[0m\u001b[0;34m\u001b[0m\u001b[0;34m\u001b[0m\u001b[0m\n\u001b[0;32m----> 7\u001b[0;31m \u001b[0mprint\u001b[0m\u001b[0;34m(\u001b[0m\u001b[0mZ\u001b[0m\u001b[0;34m<\u001b[0m\u001b[0mZ\u001b[0m\u001b[0;34m>\u001b[0m\u001b[0mZ\u001b[0m\u001b[0;34m)\u001b[0m\u001b[0;34m\u001b[0m\u001b[0;34m\u001b[0m\u001b[0m\n\u001b[0m",
            "\u001b[0;31mValueError\u001b[0m: The truth value of an array with more than one element is ambiguous. Use a.any() or a.all()"
          ]
        }
      ],
      "source": [
        "Z = np.arange(3) \n",
        "print(Z**Z)\n",
        "print(2 << Z >> 2)\n",
        "print(Z <- Z)\n",
        "print(1j*Z)\n",
        "print(Z/1/1)\n",
        "print(Z<Z>Z) # This expression is illegal"
      ]
    },
    {
      "cell_type": "markdown",
      "metadata": {
        "id": "fdIvuHOQkLuH"
      },
      "source": [
        "#### 28. What are the result of the following expressions?"
      ]
    },
    {
      "cell_type": "markdown",
      "metadata": {
        "id": "Dshprk0ckLuH"
      },
      "source": [
        "```python\n",
        "np.array(0) / np.array(0)\n",
        "np.array(0) // np.array(0)\n",
        "np.array([np.nan]).astype(int).astype(float)\n",
        "```"
      ]
    },
    {
      "cell_type": "code",
      "execution_count": null,
      "metadata": {
        "colab": {
          "base_uri": "https://localhost:8080/"
        },
        "id": "ZulKqYTPkLuI",
        "outputId": "73890294-b0d8-4a69-bf7d-10746c8159ea"
      },
      "outputs": [
        {
          "output_type": "stream",
          "name": "stdout",
          "text": [
            "nan\n",
            "0\n",
            "[-9.22337204e+18]\n"
          ]
        },
        {
          "output_type": "stream",
          "name": "stderr",
          "text": [
            "/usr/local/lib/python3.7/dist-packages/ipykernel_launcher.py:1: RuntimeWarning: invalid value encountered in true_divide\n",
            "  \"\"\"Entry point for launching an IPython kernel.\n",
            "/usr/local/lib/python3.7/dist-packages/ipykernel_launcher.py:2: RuntimeWarning: divide by zero encountered in floor_divide\n",
            "  \n"
          ]
        }
      ],
      "source": [
        "print(np.array(0) / np.array(0))\n",
        "print(np.array(0) // np.array(0))\n",
        "print(np.array([np.nan]).astype(int).astype(float))"
      ]
    },
    {
      "cell_type": "markdown",
      "metadata": {
        "id": "9gR80ZmbkLuI"
      },
      "source": [
        "#### 29. How to round away from zero a float array ? (★☆☆) \n",
        "(**hint**: np.uniform, np.copysign, np.ceil, np.abs)"
      ]
    },
    {
      "cell_type": "code",
      "execution_count": null,
      "metadata": {
        "colab": {
          "base_uri": "https://localhost:8080/"
        },
        "id": "3qEyMjlrkLuI",
        "outputId": "b0b34343-195d-4250-b671-87345d019247"
      },
      "outputs": [
        {
          "output_type": "stream",
          "name": "stdout",
          "text": [
            "[-9.  5. -8. -9.  8.  3. 10. -2.  2.  9.]\n"
          ]
        }
      ],
      "source": [
        "round = np.random.uniform(-10, +10, 10)\n",
        "Rounds = np.copysign(np.ceil(np.abs(round)), round)\n",
        "\n",
        "print(Rounds)"
      ]
    },
    {
      "cell_type": "markdown",
      "metadata": {
        "id": "tAgvBtANkLuI"
      },
      "source": [
        "#### 30. How to find common values between two arrays? (★☆☆) \n",
        "(**hint**: np.intersect1d)"
      ]
    },
    {
      "cell_type": "code",
      "execution_count": null,
      "metadata": {
        "colab": {
          "base_uri": "https://localhost:8080/"
        },
        "id": "R44KKT0AkLuJ",
        "outputId": "778856d4-180d-4f8b-c6ee-f2caa9c06664"
      },
      "outputs": [
        {
          "output_type": "stream",
          "name": "stdout",
          "text": [
            "[15 16 17 18 19]\n"
          ]
        }
      ],
      "source": [
        "A1 = np.arange(0, 20)\n",
        "A2 = np.arange(15, 30)\n",
        "CA = np.intersect1d(A1,A2)\n",
        "\n",
        "print(CA)"
      ]
    },
    {
      "cell_type": "markdown",
      "metadata": {
        "id": "BuFusicdkLuJ"
      },
      "source": [
        "#### 31. How to ignore all numpy warnings (not recommended)? (★☆☆) \n",
        "(**hint**: np.seterr, np.errstate)"
      ]
    },
    {
      "cell_type": "code",
      "execution_count": null,
      "metadata": {
        "colab": {
          "base_uri": "https://localhost:8080/"
        },
        "id": "o1XIf0EnkLuJ",
        "outputId": "af418097-77dd-4a89-d30d-dcd4f3014854"
      },
      "outputs": [
        {
          "output_type": "stream",
          "name": "stdout",
          "text": [
            "[inf]\n"
          ]
        }
      ],
      "source": [
        "defaults = np.seterr(all=\"ignore\")\n",
        "Zd = np.ones(1) / 0\n",
        "print(Zd)\n",
        "\n",
        "# Back to Normal\n",
        "_ = np.seterr(**defaults)"
      ]
    },
    {
      "cell_type": "markdown",
      "metadata": {
        "id": "AmHbJpDBkLuJ"
      },
      "source": [
        "#### 32. Is the following expressions true? (★☆☆) \n",
        "(**hint**: imaginary number)"
      ]
    },
    {
      "cell_type": "markdown",
      "metadata": {
        "id": "LrSu42SlkLuJ"
      },
      "source": [
        "```python\n",
        "np.sqrt(-1) == np.emath.sqrt(-1)\n",
        "```"
      ]
    },
    {
      "cell_type": "code",
      "execution_count": null,
      "metadata": {
        "colab": {
          "base_uri": "https://localhost:8080/"
        },
        "id": "hqDMaCGykLuK",
        "outputId": "9c4f48d5-ca9c-48b0-ff96-3beefed35440"
      },
      "outputs": [
        {
          "output_type": "stream",
          "name": "stdout",
          "text": [
            "False\n"
          ]
        }
      ],
      "source": [
        "print(np.sqrt(-1) == np.emath.sqrt(-1))\n",
        "#  No the expression is false"
      ]
    },
    {
      "cell_type": "markdown",
      "metadata": {
        "id": "1uW4-2C5kLuK"
      },
      "source": [
        "#### 33. How to get the dates of yesterday, today and tomorrow? (★☆☆) \n",
        "(**hint**: np.datetime64, np.timedelta64)"
      ]
    },
    {
      "cell_type": "code",
      "execution_count": null,
      "metadata": {
        "collapsed": true,
        "colab": {
          "base_uri": "https://localhost:8080/"
        },
        "id": "v428s9Y2kLuK",
        "outputId": "082db129-7d56-4742-c25f-0e4e2b1b1288"
      },
      "outputs": [
        {
          "output_type": "stream",
          "name": "stdout",
          "text": [
            "Yesterday :  2022-09-10\n",
            "Today :  2022-09-11\n",
            "Tomorrow :  2022-09-12\n"
          ]
        }
      ],
      "source": [
        "yesterday = np.datetime64('today', 'D') - np.timedelta64(1, 'D')\n",
        "today     = np.datetime64('today', 'D')\n",
        "tomorrow  = np.datetime64('today', 'D') + np.timedelta64(1, 'D')\n",
        "\n",
        "print(\"Yesterday : \",yesterday)\n",
        "print(\"Today : \",today)\n",
        "print(\"Tomorrow : \",tomorrow)"
      ]
    },
    {
      "cell_type": "markdown",
      "metadata": {
        "id": "ryw4SyalkLuK"
      },
      "source": [
        "#### 34. How to get all the dates corresponding to the month of July 2016? (★★☆) \n",
        "(**hint**: np.arange(dtype=datetime64\\['D'\\]))"
      ]
    },
    {
      "cell_type": "code",
      "execution_count": null,
      "metadata": {
        "colab": {
          "base_uri": "https://localhost:8080/"
        },
        "id": "gcHAkt_EkLuL",
        "outputId": "e85427e7-e712-431b-a7cd-798b18985efc"
      },
      "outputs": [
        {
          "output_type": "stream",
          "name": "stdout",
          "text": [
            "['2016-07-01' '2016-07-02' '2016-07-03' '2016-07-04' '2016-07-05'\n",
            " '2016-07-06' '2016-07-07' '2016-07-08' '2016-07-09' '2016-07-10'\n",
            " '2016-07-11' '2016-07-12' '2016-07-13' '2016-07-14' '2016-07-15'\n",
            " '2016-07-16' '2016-07-17' '2016-07-18' '2016-07-19' '2016-07-20'\n",
            " '2016-07-21' '2016-07-22' '2016-07-23' '2016-07-24' '2016-07-25'\n",
            " '2016-07-26' '2016-07-27' '2016-07-28' '2016-07-29' '2016-07-30'\n",
            " '2016-07-31']\n"
          ]
        }
      ],
      "source": [
        "mon = np.arange('2016-07', '2016-08', dtype='datetime64[D]')\n",
        "\n",
        "print(mon)"
      ]
    },
    {
      "cell_type": "markdown",
      "metadata": {
        "id": "sq-AH50okLuL"
      },
      "source": [
        "#### 35. How to compute ((A+B)\\*(-A/2)) in place (without copy)? (★★☆) \n",
        "(**hint**: np.add(out=), np.negative(out=), np.multiply(out=), np.divide(out=))"
      ]
    },
    {
      "cell_type": "code",
      "execution_count": null,
      "metadata": {
        "colab": {
          "base_uri": "https://localhost:8080/"
        },
        "id": "xE0NiTKikLuL",
        "outputId": "dde76d2e-12c8-4481-e381-df40be226f4a"
      },
      "outputs": [
        {
          "output_type": "stream",
          "name": "stdout",
          "text": [
            "Addision :  [3. 3. 3.] \n",
            "\n",
            "Division : [0.5 0.5 0.5] \n",
            "\n",
            "Negative :  [-0.5 -0.5 -0.5] \n",
            "\n",
            "Multiplication :  [-1.5 -1.5 -1.5]\n"
          ]
        }
      ],
      "source": [
        "A = np.ones(3) * 1\n",
        "B = np.ones(3) * 2\n",
        "C = np.ones(3) * 3\n",
        "\n",
        "print(\"Addision : \",np.add(A, B, out=B),\"\\n\")\n",
        "print(\"Division :\",np.divide(A, 2, out=A),\"\\n\")\n",
        "print(\"Negative : \",np.negative(A, out=A),\"\\n\")\n",
        "print(\"Multiplication : \",np.multiply(A, B, out=A))\n"
      ]
    },
    {
      "cell_type": "markdown",
      "metadata": {
        "id": "YYizJxCYkLuL"
      },
      "source": [
        "#### 36. Extract the integer part of a random array using 5 different methods (★★☆) \n",
        "(**hint**: %, np.floor, np.ceil, astype, np.trunc)"
      ]
    },
    {
      "cell_type": "code",
      "execution_count": null,
      "metadata": {
        "colab": {
          "base_uri": "https://localhost:8080/"
        },
        "id": "PUtYTT7HkLuL",
        "outputId": "85150ae5-f8c8-4ba9-ccd0-cab9a32f3625"
      },
      "outputs": [
        {
          "output_type": "stream",
          "name": "stdout",
          "text": [
            "[5. 4. 9. 9. 3. 2. 2. 7. 3. 7.]\n",
            "[5. 4. 9. 9. 3. 2. 2. 7. 3. 7.]\n",
            "[5. 4. 9. 9. 3. 2. 2. 7. 3. 7.]\n",
            "[5 4 9 9 3 2 2 7 3 7]\n",
            "[5. 4. 9. 9. 3. 2. 2. 7. 3. 7.]\n"
          ]
        }
      ],
      "source": [
        "Z = np.random.uniform(0,10,10)\n",
        "\n",
        "print (Z - Z%1)\n",
        "print (np.floor(Z))\n",
        "print (np.ceil(Z)-1)\n",
        "print (Z.astype(int))\n",
        "print(np.trunc(Z))"
      ]
    },
    {
      "cell_type": "markdown",
      "metadata": {
        "id": "ADdRbRKykLuM"
      },
      "source": [
        "#### 37. Create a 5x5 matrix with row values ranging from 0 to 4 (★★☆) \n",
        "(**hint**: np.arange)"
      ]
    },
    {
      "cell_type": "code",
      "execution_count": null,
      "metadata": {
        "colab": {
          "base_uri": "https://localhost:8080/"
        },
        "id": "yF2KHs2TkLuM",
        "outputId": "09388b68-9936-4356-f8a3-b33fb4e9e791"
      },
      "outputs": [
        {
          "output_type": "stream",
          "name": "stdout",
          "text": [
            "[[0. 1. 2. 3. 4.]\n",
            " [0. 1. 2. 3. 4.]\n",
            " [0. 1. 2. 3. 4.]\n",
            " [0. 1. 2. 3. 4.]\n",
            " [0. 1. 2. 3. 4.]]\n"
          ]
        }
      ],
      "source": [
        "Z = np.zeros((5,5))\n",
        "Z += np.arange(5)\n",
        "\n",
        "print(Z)"
      ]
    },
    {
      "cell_type": "markdown",
      "metadata": {
        "id": "c3kLVNcYkLuM"
      },
      "source": [
        "#### 38. Consider a generator function that generates 10 integers and use it to build an array (★☆☆) \n",
        "(**hint**: np.fromiter)"
      ]
    },
    {
      "cell_type": "code",
      "execution_count": null,
      "metadata": {
        "colab": {
          "base_uri": "https://localhost:8080/"
        },
        "id": "2SinNmMnkLuM",
        "outputId": "0ee9afa4-ba4d-4acd-bfaa-f89382086e06"
      },
      "outputs": [
        {
          "output_type": "stream",
          "name": "stdout",
          "text": [
            "[0. 1. 2. 3. 4. 5. 6. 7. 8. 9.]\n"
          ]
        }
      ],
      "source": [
        "def generate(): \n",
        "    for x in range(10):\n",
        "        yield x\n",
        "        \n",
        "Z = np.fromiter(generate(), dtype=float, count=-1)\n",
        "\n",
        "print (Z)"
      ]
    },
    {
      "cell_type": "markdown",
      "metadata": {
        "id": "XENIrZAzkLuN"
      },
      "source": [
        "#### 39. Create a vector of size 10 with values ranging from 0 to 1, both excluded (★★☆) \n",
        "(**hint**: np.linspace)"
      ]
    },
    {
      "cell_type": "code",
      "execution_count": null,
      "metadata": {
        "colab": {
          "base_uri": "https://localhost:8080/"
        },
        "id": "2Aa9rJtukLuN",
        "outputId": "1bb334b5-98b3-411f-d967-55e6f89df2f9"
      },
      "outputs": [
        {
          "output_type": "stream",
          "name": "stdout",
          "text": [
            "[0.11111111 0.22222222 0.33333333 0.44444444 0.55555556 0.66666667 0.77777778 0.88888889]\n"
          ]
        }
      ],
      "source": [
        "za = np.linspace(0,1,10,endpoint=True)[1:-1]\n",
        "\n",
        "print(za)"
      ]
    },
    {
      "cell_type": "markdown",
      "metadata": {
        "id": "p-dRXN0LkLuN"
      },
      "source": [
        "#### 40. Create a random vector of size 10 and sort it (★★☆) \n",
        "(**hint**: sort)"
      ]
    },
    {
      "cell_type": "code",
      "execution_count": null,
      "metadata": {
        "colab": {
          "base_uri": "https://localhost:8080/"
        },
        "id": "CcgJ27L3kLuN",
        "outputId": "327728bc-52ab-40d5-9e18-6a87e91b7084"
      },
      "outputs": [
        {
          "output_type": "stream",
          "name": "stdout",
          "text": [
            "[0.05490308 0.20318712 0.3313406  0.37870407 0.5095514  0.52893915\n",
            " 0.59107974 0.65807114 0.73116615 0.81424847]\n"
          ]
        }
      ],
      "source": [
        "so = np.random.random(10)\n",
        "so.sort()\n",
        "\n",
        "print(so)"
      ]
    },
    {
      "cell_type": "markdown",
      "metadata": {
        "id": "WNblKt5hkLuN"
      },
      "source": [
        "#### 41. How to sum a small array faster than np.sum? (★★☆) \n",
        "(**hint**: np.add.reduce)"
      ]
    },
    {
      "cell_type": "code",
      "execution_count": null,
      "metadata": {
        "colab": {
          "base_uri": "https://localhost:8080/"
        },
        "id": "X99DxeJ5kLuO",
        "outputId": "12546749-2e7b-46c6-e6f0-051c1e72002e"
      },
      "outputs": [
        {
          "output_type": "execute_result",
          "data": {
            "text/plain": [
              "300"
            ]
          },
          "metadata": {},
          "execution_count": 255
        }
      ],
      "source": [
        "Z = np.arange(25)\n",
        "np.add.reduce(Z)"
      ]
    },
    {
      "cell_type": "markdown",
      "metadata": {
        "id": "HQmbxl2rkLuO"
      },
      "source": [
        "#### 42. Consider two random array A and B, check if they are equal (★★☆) \n",
        "(**hint**: np.allclose, np.array\\_equal)"
      ]
    },
    {
      "cell_type": "code",
      "execution_count": null,
      "metadata": {
        "colab": {
          "base_uri": "https://localhost:8080/"
        },
        "id": "1GLWfM3ZkLuO",
        "outputId": "babb5e45-75be-4c6a-9a95-7892f37653e3"
      },
      "outputs": [
        {
          "output_type": "stream",
          "name": "stdout",
          "text": [
            "False\n",
            "False\n"
          ]
        }
      ],
      "source": [
        "A = np.random.randint(0,5,10)\n",
        "B = np.random.randint(0,20,10)\n",
        "close = np.allclose(A,B)\n",
        "equal = np.array_equal(A,B)\n",
        "\n",
        "print(equal)\n",
        "print(close)"
      ]
    },
    {
      "cell_type": "markdown",
      "metadata": {
        "id": "_YhjkhNHkLuO"
      },
      "source": [
        "#### 43. Make an array immutable (read-only) (★★☆) \n",
        "(**hint**: flags.writeable)"
      ]
    },
    {
      "cell_type": "code",
      "execution_count": null,
      "metadata": {
        "colab": {
          "base_uri": "https://localhost:8080/",
          "height": 200
        },
        "id": "OFKgNC58kLuP",
        "outputId": "c1b2418b-e091-4281-d358-a918a71c6a1f"
      },
      "outputs": [
        {
          "output_type": "error",
          "ename": "ValueError",
          "evalue": "ignored",
          "traceback": [
            "\u001b[0;31m---------------------------------------------------------------------------\u001b[0m",
            "\u001b[0;31mValueError\u001b[0m                                Traceback (most recent call last)",
            "\u001b[0;32m<ipython-input-89-76ed85e6d29c>\u001b[0m in \u001b[0;36m<module>\u001b[0;34m\u001b[0m\n\u001b[1;32m      1\u001b[0m \u001b[0mimm\u001b[0m \u001b[0;34m=\u001b[0m \u001b[0mnp\u001b[0m\u001b[0;34m.\u001b[0m\u001b[0mzeros\u001b[0m\u001b[0;34m(\u001b[0m\u001b[0;36m10\u001b[0m\u001b[0;34m)\u001b[0m\u001b[0;34m\u001b[0m\u001b[0;34m\u001b[0m\u001b[0m\n\u001b[1;32m      2\u001b[0m \u001b[0mimm\u001b[0m\u001b[0;34m.\u001b[0m\u001b[0mflags\u001b[0m\u001b[0;34m.\u001b[0m\u001b[0mwriteable\u001b[0m \u001b[0;34m=\u001b[0m \u001b[0;32mFalse\u001b[0m\u001b[0;34m\u001b[0m\u001b[0;34m\u001b[0m\u001b[0m\n\u001b[0;32m----> 3\u001b[0;31m \u001b[0mimm\u001b[0m\u001b[0;34m[\u001b[0m\u001b[0;36m0\u001b[0m\u001b[0;34m]\u001b[0m \u001b[0;34m=\u001b[0m \u001b[0;36m1\u001b[0m\u001b[0;34m\u001b[0m\u001b[0;34m\u001b[0m\u001b[0m\n\u001b[0m",
            "\u001b[0;31mValueError\u001b[0m: assignment destination is read-only"
          ]
        }
      ],
      "source": [
        "imm = np.zeros(10)\n",
        "imm.flags.writeable = False\n",
        "imm[0] = 1 # Proof"
      ]
    },
    {
      "cell_type": "markdown",
      "metadata": {
        "id": "uyjoQ62zkLuP"
      },
      "source": [
        "#### 44. Consider a random 10x2 matrix representing cartesian coordinates, convert them to polar coordinates (★★☆) \n",
        "(**hint**: np.sqrt, np.arctan2)"
      ]
    },
    {
      "cell_type": "code",
      "execution_count": null,
      "metadata": {
        "colab": {
          "base_uri": "https://localhost:8080/"
        },
        "id": "5d5W9aDukLuP",
        "outputId": "c8ee4bc0-e9cc-4b83-dc0d-6fc9f3c286a4"
      },
      "outputs": [
        {
          "output_type": "stream",
          "name": "stdout",
          "text": [
            "[1.23028864 0.9472287  0.66399733 1.11743256 1.059402   1.27343281 0.68389214 0.31521664 0.74440833 0.91869788] \n",
            "\n",
            "[0.77732283 0.44207026 0.88971059 0.60781053 0.85013351 0.78324224 1.29573819 0.04865484 0.89917526 1.06529611]\n"
          ]
        }
      ],
      "source": [
        "po = np.random.random((10,2))\n",
        "X,Y = po[:,0], po[:,1]\n",
        "\n",
        "R = np.sqrt(X**2+Y**2)\n",
        "T = np.arctan2(Y,X)\n",
        "\n",
        "print(R,\"\\n\")\n",
        "print(T)"
      ]
    },
    {
      "cell_type": "markdown",
      "metadata": {
        "id": "NRafubSekLuP"
      },
      "source": [
        "#### 45. Create random vector of size 10 and replace the maximum value by 0 (★★☆) \n",
        "(**hint**: argmax)"
      ]
    },
    {
      "cell_type": "code",
      "execution_count": null,
      "metadata": {
        "colab": {
          "base_uri": "https://localhost:8080/"
        },
        "id": "IsmjnRaMkLuP",
        "outputId": "c6226de4-2afc-486b-fb39-d2e1151d5b02"
      },
      "outputs": [
        {
          "output_type": "stream",
          "name": "stdout",
          "text": [
            "[0.6692907  0.62054236 0.41686168 0.1236167  0.55774571 0.70528228\n",
            " 0.57207466 0.16968494 0.         0.60598113]\n"
          ]
        }
      ],
      "source": [
        "ma = np.random.random(10)\n",
        "ma[ma.argmax()] = 0\n",
        "\n",
        "print(ma)"
      ]
    },
    {
      "cell_type": "markdown",
      "metadata": {
        "id": "qslZmofYkLuQ"
      },
      "source": [
        "#### 46. Create a structured array with `x` and `y` coordinates covering the \\[0,1\\]x\\[0,1\\] area (★★☆) \n",
        "(**hint**: np.meshgrid)"
      ]
    },
    {
      "cell_type": "code",
      "execution_count": null,
      "metadata": {
        "colab": {
          "base_uri": "https://localhost:8080/"
        },
        "id": "PLQMjIN6kLuQ",
        "outputId": "0d8e571c-9fd6-4600-d655-682ebfff6289"
      },
      "outputs": [
        {
          "output_type": "stream",
          "name": "stdout",
          "text": [
            "[[(0.        , 0.        ) (0.11111111, 0.        ) (0.22222222, 0.        ) (0.33333333, 0.        ) (0.44444444, 0.        ) (0.55555556, 0.        ) (0.66666667, 0.        ) (0.77777778, 0.        ) (0.88888889, 0.        ) (1.        , 0.        )]\n",
            " [(0.        , 0.11111111) (0.11111111, 0.11111111) (0.22222222, 0.11111111) (0.33333333, 0.11111111) (0.44444444, 0.11111111) (0.55555556, 0.11111111) (0.66666667, 0.11111111) (0.77777778, 0.11111111) (0.88888889, 0.11111111) (1.        , 0.11111111)]\n",
            " [(0.        , 0.22222222) (0.11111111, 0.22222222) (0.22222222, 0.22222222) (0.33333333, 0.22222222) (0.44444444, 0.22222222) (0.55555556, 0.22222222) (0.66666667, 0.22222222) (0.77777778, 0.22222222) (0.88888889, 0.22222222) (1.        , 0.22222222)]\n",
            " [(0.        , 0.33333333) (0.11111111, 0.33333333) (0.22222222, 0.33333333) (0.33333333, 0.33333333) (0.44444444, 0.33333333) (0.55555556, 0.33333333) (0.66666667, 0.33333333) (0.77777778, 0.33333333) (0.88888889, 0.33333333) (1.        , 0.33333333)]\n",
            " [(0.        , 0.44444444) (0.11111111, 0.44444444) (0.22222222, 0.44444444) (0.33333333, 0.44444444) (0.44444444, 0.44444444) (0.55555556, 0.44444444) (0.66666667, 0.44444444) (0.77777778, 0.44444444) (0.88888889, 0.44444444) (1.        , 0.44444444)]\n",
            " [(0.        , 0.55555556) (0.11111111, 0.55555556) (0.22222222, 0.55555556) (0.33333333, 0.55555556) (0.44444444, 0.55555556) (0.55555556, 0.55555556) (0.66666667, 0.55555556) (0.77777778, 0.55555556) (0.88888889, 0.55555556) (1.        , 0.55555556)]\n",
            " [(0.        , 0.66666667) (0.11111111, 0.66666667) (0.22222222, 0.66666667) (0.33333333, 0.66666667) (0.44444444, 0.66666667) (0.55555556, 0.66666667) (0.66666667, 0.66666667) (0.77777778, 0.66666667) (0.88888889, 0.66666667) (1.        , 0.66666667)]\n",
            " [(0.        , 0.77777778) (0.11111111, 0.77777778) (0.22222222, 0.77777778) (0.33333333, 0.77777778) (0.44444444, 0.77777778) (0.55555556, 0.77777778) (0.66666667, 0.77777778) (0.77777778, 0.77777778) (0.88888889, 0.77777778) (1.        , 0.77777778)]\n",
            " [(0.        , 0.88888889) (0.11111111, 0.88888889) (0.22222222, 0.88888889) (0.33333333, 0.88888889) (0.44444444, 0.88888889) (0.55555556, 0.88888889) (0.66666667, 0.88888889) (0.77777778, 0.88888889) (0.88888889, 0.88888889) (1.        , 0.88888889)]\n",
            " [(0.        , 1.        ) (0.11111111, 1.        ) (0.22222222, 1.        ) (0.33333333, 1.        ) (0.44444444, 1.        ) (0.55555556, 1.        ) (0.66666667, 1.        ) (0.77777778, 1.        ) (0.88888889, 1.        ) (1.        , 1.        )]]\n"
          ]
        }
      ],
      "source": [
        "z = np.zeros((10, 10), [('x', float), ('y', float)])\n",
        "z['x'], z['y'] = np.meshgrid(np.linspace(0, 1, 10), np.linspace(0, 1, 10))\n",
        "\n",
        "print(z)"
      ]
    },
    {
      "cell_type": "markdown",
      "metadata": {
        "id": "v2zBKxQnkLuQ"
      },
      "source": [
        "####  47. Given two arrays, X and Y, construct the Cauchy matrix C (Cij =1/(xi - yj)) \n",
        "(**hint**: np.subtract.outer)"
      ]
    },
    {
      "cell_type": "code",
      "execution_count": null,
      "metadata": {
        "colab": {
          "base_uri": "https://localhost:8080/"
        },
        "id": "3bfEr8rSkLuQ",
        "outputId": "ef624f11-7c73-4a29-eb5d-4b6723864370"
      },
      "outputs": [
        {
          "output_type": "stream",
          "name": "stdout",
          "text": [
            "[[-5.64731150e+12  2.73189718e+14  8.04992663e+11 -1.73236324e+15 -4.62116633e+14 -7.74838799e+11 -7.06799978e+16  2.21560819e+12 -1.32329794e+13  8.89983068e+14]\n",
            " [ 1.34913804e+13 -6.73584919e+13  4.55741276e+13 -6.02626504e+13 -7.32652780e+13  1.17409916e+15  2.46128322e+12  2.42365161e+13  4.03575744e+15 -5.16059330e+15]\n",
            " [ 9.65489456e+15 -2.81377448e+13 -4.89732105e+13  7.90077226e+13 -3.50044476e+12 -2.90824188e+18 -1.02890826e+12  4.96504448e+14 -7.16582122e+16 -1.72802859e+17]\n",
            " [ 1.30771458e+14 -1.76641227e+15  1.91289788e+13 -3.64733159e+14  2.17011350e+13 -3.64382560e+14  7.44821874e+16 -2.67842587e+12 -2.27784001e+15  4.86947866e+14]\n",
            " [ 9.07942029e+14  2.24356452e+14 -3.38014314e+14  1.40955608e+13  5.99761175e+13 -8.57309108e+13 -1.51853456e+13  4.54713750e+15  5.92283353e+14  2.97713467e+12]\n",
            " [ 6.57678325e+15 -1.10099628e+15 -6.52149991e+14  1.40154514e+13  1.39184132e+13  1.21787985e+14 -1.02669897e+14  3.46844242e+13 -9.70147902e+13  4.67626220e+11]\n",
            " [-2.07560753e+13  5.07589256e+11 -4.07036517e+14 -8.15721042e+15 -1.78146057e+13  3.48461289e+13 -1.71828071e+13  9.68661118e+13 -4.01929123e+14  8.26190003e+13]\n",
            " [-6.50960178e+11 -1.90836473e+12  4.91201935e+14 -2.22833972e+13  5.32365594e+12  1.13935017e+15 -2.95944441e+14 -9.00506791e+14 -3.74944045e+12 -9.93421910e+15]\n",
            " [ 5.48573507e+14 -9.39269900e+16  1.00460529e+18 -4.12570007e+14  6.82129621e+15  7.25323363e+12 -3.11651231e+14 -7.34129264e+13 -1.85738194e+14  3.96082607e+13]\n",
            " [ 1.30056001e+15  1.21290311e+11 -7.19163736e+12  5.53752096e+13  3.47263905e+14 -1.68870767e+14 -4.09608672e+14  5.34059232e+11 -9.48899432e+12 -4.50272455e+15]]\n"
          ]
        }
      ],
      "source": [
        "x = np.random.random((10, 10))\n",
        "y = np.random.random((10, 10))\n",
        "\n",
        "c = 1 / (x - y)\n",
        "c = 1 / np.subtract.outer(x, y)\n",
        "\n",
        "print(np.linalg.det(c))"
      ]
    },
    {
      "cell_type": "markdown",
      "metadata": {
        "id": "JCHDV7uvkLuR"
      },
      "source": [
        "#### 48. Print the minimum and maximum representable value for each numpy scalar type (★★☆) \n",
        "(**hint**: np.iinfo, np.finfo, eps)"
      ]
    },
    {
      "cell_type": "code",
      "execution_count": null,
      "metadata": {
        "colab": {
          "base_uri": "https://localhost:8080/"
        },
        "id": "eJEI-ysqkLuR",
        "outputId": "cc45b5b1-6922-4887-8430-474e454b9c83"
      },
      "outputs": [
        {
          "output_type": "stream",
          "name": "stdout",
          "text": [
            "For Integer : \n",
            "-128\n",
            "127 \n",
            "\n",
            "-2147483648\n",
            "2147483647 \n",
            "\n",
            "-9223372036854775808\n",
            "9223372036854775807 \n",
            "\n",
            "For Float : \n",
            "-3.4028235e+38\n",
            "3.4028235e+38\n",
            "1.1920929e-07 \n",
            "\n",
            "-1.7976931348623157e+308\n",
            "1.7976931348623157e+308\n",
            "2.220446049250313e-16 \n",
            "\n"
          ]
        }
      ],
      "source": [
        "print(\"For Integer : \")\n",
        "for dtype in [np.int8, np.int32, np.int64]:\n",
        "    print(np.iinfo(dtype).min)\n",
        "    print(np.iinfo(dtype).max,\"\\n\")\n",
        "\n",
        "print(\"For Float : \")\n",
        "for dtype in [np.float32, np.float64]:\n",
        "    print(np.finfo(dtype).min)\n",
        "    print(np.finfo(dtype).max)\n",
        "    print(np.finfo(dtype).eps,\"\\n\")"
      ]
    },
    {
      "cell_type": "markdown",
      "metadata": {
        "id": "riKTgFNakLuY"
      },
      "source": [
        "#### 49. How to print all the values of an array? (★★☆) \n",
        "(**hint**: np.set\\_printoptions)"
      ]
    },
    {
      "cell_type": "code",
      "execution_count": null,
      "metadata": {
        "colab": {
          "base_uri": "https://localhost:8080/"
        },
        "id": "opr-UULtkLuY",
        "outputId": "16613084-9fb2-4f4d-af3d-63bf25d61b07"
      },
      "outputs": [
        {
          "output_type": "stream",
          "name": "stdout",
          "text": [
            "[[1. 1. 1. 1. 1. 1. 1. 1. 1. 1. 1. 1. 1. 1. 1. 1. 1. 1. 1. 1. 1. 1. 1. 1. 1. 1. 1. 1. 1. 1. 1. 1. 1. 1. 1. 1. 1. 1. 1. 1. 1. 1. 1. 1. 1. 1. 1. 1. 1. 1.]\n",
            " [1. 1. 1. 1. 1. 1. 1. 1. 1. 1. 1. 1. 1. 1. 1. 1. 1. 1. 1. 1. 1. 1. 1. 1. 1. 1. 1. 1. 1. 1. 1. 1. 1. 1. 1. 1. 1. 1. 1. 1. 1. 1. 1. 1. 1. 1. 1. 1. 1. 1.]\n",
            " [1. 1. 1. 1. 1. 1. 1. 1. 1. 1. 1. 1. 1. 1. 1. 1. 1. 1. 1. 1. 1. 1. 1. 1. 1. 1. 1. 1. 1. 1. 1. 1. 1. 1. 1. 1. 1. 1. 1. 1. 1. 1. 1. 1. 1. 1. 1. 1. 1. 1.]\n",
            " [1. 1. 1. 1. 1. 1. 1. 1. 1. 1. 1. 1. 1. 1. 1. 1. 1. 1. 1. 1. 1. 1. 1. 1. 1. 1. 1. 1. 1. 1. 1. 1. 1. 1. 1. 1. 1. 1. 1. 1. 1. 1. 1. 1. 1. 1. 1. 1. 1. 1.]\n",
            " [1. 1. 1. 1. 1. 1. 1. 1. 1. 1. 1. 1. 1. 1. 1. 1. 1. 1. 1. 1. 1. 1. 1. 1. 1. 1. 1. 1. 1. 1. 1. 1. 1. 1. 1. 1. 1. 1. 1. 1. 1. 1. 1. 1. 1. 1. 1. 1. 1. 1.]\n",
            " [1. 1. 1. 1. 1. 1. 1. 1. 1. 1. 1. 1. 1. 1. 1. 1. 1. 1. 1. 1. 1. 1. 1. 1. 1. 1. 1. 1. 1. 1. 1. 1. 1. 1. 1. 1. 1. 1. 1. 1. 1. 1. 1. 1. 1. 1. 1. 1. 1. 1.]\n",
            " [1. 1. 1. 1. 1. 1. 1. 1. 1. 1. 1. 1. 1. 1. 1. 1. 1. 1. 1. 1. 1. 1. 1. 1. 1. 1. 1. 1. 1. 1. 1. 1. 1. 1. 1. 1. 1. 1. 1. 1. 1. 1. 1. 1. 1. 1. 1. 1. 1. 1.]\n",
            " [1. 1. 1. 1. 1. 1. 1. 1. 1. 1. 1. 1. 1. 1. 1. 1. 1. 1. 1. 1. 1. 1. 1. 1. 1. 1. 1. 1. 1. 1. 1. 1. 1. 1. 1. 1. 1. 1. 1. 1. 1. 1. 1. 1. 1. 1. 1. 1. 1. 1.]\n",
            " [1. 1. 1. 1. 1. 1. 1. 1. 1. 1. 1. 1. 1. 1. 1. 1. 1. 1. 1. 1. 1. 1. 1. 1. 1. 1. 1. 1. 1. 1. 1. 1. 1. 1. 1. 1. 1. 1. 1. 1. 1. 1. 1. 1. 1. 1. 1. 1. 1. 1.]\n",
            " [1. 1. 1. 1. 1. 1. 1. 1. 1. 1. 1. 1. 1. 1. 1. 1. 1. 1. 1. 1. 1. 1. 1. 1. 1. 1. 1. 1. 1. 1. 1. 1. 1. 1. 1. 1. 1. 1. 1. 1. 1. 1. 1. 1. 1. 1. 1. 1. 1. 1.]\n",
            " [1. 1. 1. 1. 1. 1. 1. 1. 1. 1. 1. 1. 1. 1. 1. 1. 1. 1. 1. 1. 1. 1. 1. 1. 1. 1. 1. 1. 1. 1. 1. 1. 1. 1. 1. 1. 1. 1. 1. 1. 1. 1. 1. 1. 1. 1. 1. 1. 1. 1.]\n",
            " [1. 1. 1. 1. 1. 1. 1. 1. 1. 1. 1. 1. 1. 1. 1. 1. 1. 1. 1. 1. 1. 1. 1. 1. 1. 1. 1. 1. 1. 1. 1. 1. 1. 1. 1. 1. 1. 1. 1. 1. 1. 1. 1. 1. 1. 1. 1. 1. 1. 1.]\n",
            " [1. 1. 1. 1. 1. 1. 1. 1. 1. 1. 1. 1. 1. 1. 1. 1. 1. 1. 1. 1. 1. 1. 1. 1. 1. 1. 1. 1. 1. 1. 1. 1. 1. 1. 1. 1. 1. 1. 1. 1. 1. 1. 1. 1. 1. 1. 1. 1. 1. 1.]\n",
            " [1. 1. 1. 1. 1. 1. 1. 1. 1. 1. 1. 1. 1. 1. 1. 1. 1. 1. 1. 1. 1. 1. 1. 1. 1. 1. 1. 1. 1. 1. 1. 1. 1. 1. 1. 1. 1. 1. 1. 1. 1. 1. 1. 1. 1. 1. 1. 1. 1. 1.]\n",
            " [1. 1. 1. 1. 1. 1. 1. 1. 1. 1. 1. 1. 1. 1. 1. 1. 1. 1. 1. 1. 1. 1. 1. 1. 1. 1. 1. 1. 1. 1. 1. 1. 1. 1. 1. 1. 1. 1. 1. 1. 1. 1. 1. 1. 1. 1. 1. 1. 1. 1.]\n",
            " [1. 1. 1. 1. 1. 1. 1. 1. 1. 1. 1. 1. 1. 1. 1. 1. 1. 1. 1. 1. 1. 1. 1. 1. 1. 1. 1. 1. 1. 1. 1. 1. 1. 1. 1. 1. 1. 1. 1. 1. 1. 1. 1. 1. 1. 1. 1. 1. 1. 1.]\n",
            " [1. 1. 1. 1. 1. 1. 1. 1. 1. 1. 1. 1. 1. 1. 1. 1. 1. 1. 1. 1. 1. 1. 1. 1. 1. 1. 1. 1. 1. 1. 1. 1. 1. 1. 1. 1. 1. 1. 1. 1. 1. 1. 1. 1. 1. 1. 1. 1. 1. 1.]\n",
            " [1. 1. 1. 1. 1. 1. 1. 1. 1. 1. 1. 1. 1. 1. 1. 1. 1. 1. 1. 1. 1. 1. 1. 1. 1. 1. 1. 1. 1. 1. 1. 1. 1. 1. 1. 1. 1. 1. 1. 1. 1. 1. 1. 1. 1. 1. 1. 1. 1. 1.]\n",
            " [1. 1. 1. 1. 1. 1. 1. 1. 1. 1. 1. 1. 1. 1. 1. 1. 1. 1. 1. 1. 1. 1. 1. 1. 1. 1. 1. 1. 1. 1. 1. 1. 1. 1. 1. 1. 1. 1. 1. 1. 1. 1. 1. 1. 1. 1. 1. 1. 1. 1.]\n",
            " [1. 1. 1. 1. 1. 1. 1. 1. 1. 1. 1. 1. 1. 1. 1. 1. 1. 1. 1. 1. 1. 1. 1. 1. 1. 1. 1. 1. 1. 1. 1. 1. 1. 1. 1. 1. 1. 1. 1. 1. 1. 1. 1. 1. 1. 1. 1. 1. 1. 1.]\n",
            " [1. 1. 1. 1. 1. 1. 1. 1. 1. 1. 1. 1. 1. 1. 1. 1. 1. 1. 1. 1. 1. 1. 1. 1. 1. 1. 1. 1. 1. 1. 1. 1. 1. 1. 1. 1. 1. 1. 1. 1. 1. 1. 1. 1. 1. 1. 1. 1. 1. 1.]\n",
            " [1. 1. 1. 1. 1. 1. 1. 1. 1. 1. 1. 1. 1. 1. 1. 1. 1. 1. 1. 1. 1. 1. 1. 1. 1. 1. 1. 1. 1. 1. 1. 1. 1. 1. 1. 1. 1. 1. 1. 1. 1. 1. 1. 1. 1. 1. 1. 1. 1. 1.]\n",
            " [1. 1. 1. 1. 1. 1. 1. 1. 1. 1. 1. 1. 1. 1. 1. 1. 1. 1. 1. 1. 1. 1. 1. 1. 1. 1. 1. 1. 1. 1. 1. 1. 1. 1. 1. 1. 1. 1. 1. 1. 1. 1. 1. 1. 1. 1. 1. 1. 1. 1.]\n",
            " [1. 1. 1. 1. 1. 1. 1. 1. 1. 1. 1. 1. 1. 1. 1. 1. 1. 1. 1. 1. 1. 1. 1. 1. 1. 1. 1. 1. 1. 1. 1. 1. 1. 1. 1. 1. 1. 1. 1. 1. 1. 1. 1. 1. 1. 1. 1. 1. 1. 1.]\n",
            " [1. 1. 1. 1. 1. 1. 1. 1. 1. 1. 1. 1. 1. 1. 1. 1. 1. 1. 1. 1. 1. 1. 1. 1. 1. 1. 1. 1. 1. 1. 1. 1. 1. 1. 1. 1. 1. 1. 1. 1. 1. 1. 1. 1. 1. 1. 1. 1. 1. 1.]]\n"
          ]
        }
      ],
      "source": [
        "np.set_printoptions(threshold=np.inf, linewidth=np.nan)\n",
        "Z = np.ones((25,50))\n",
        "\n",
        "print(Z)"
      ]
    },
    {
      "cell_type": "markdown",
      "metadata": {
        "id": "Dl0kfRDAkLuZ"
      },
      "source": [
        "#### 50. How to find the closest value (to a given scalar) in a vector? (★★☆) \n",
        "(**hint**: argmin)"
      ]
    },
    {
      "cell_type": "code",
      "execution_count": null,
      "metadata": {
        "colab": {
          "base_uri": "https://localhost:8080/"
        },
        "id": "tkzb5RIYkLuZ",
        "outputId": "1abfec2e-ccfc-49f3-97da-93b05db1934a"
      },
      "outputs": [
        {
          "output_type": "stream",
          "name": "stdout",
          "text": [
            "9\n"
          ]
        }
      ],
      "source": [
        "Z = np.arange(10)\n",
        "v = np.random.uniform(0,100)\n",
        "index = (np.abs(Z-v)).argmin()\n",
        "\n",
        "print(Z[index])"
      ]
    },
    {
      "cell_type": "markdown",
      "metadata": {
        "id": "yUDt2edQkLuZ"
      },
      "source": [
        "#### 51. Create a structured array representing a position (x,y) and a color (r,g,b) (★★☆) \n",
        "(**hint**: dtype)"
      ]
    },
    {
      "cell_type": "code",
      "execution_count": null,
      "metadata": {
        "colab": {
          "base_uri": "https://localhost:8080/"
        },
        "id": "6_--JdxSkLua",
        "outputId": "ab0cc0d8-6377-4abc-9d29-575751c49a74"
      },
      "outputs": [
        {
          "output_type": "stream",
          "name": "stdout",
          "text": [
            "[((0., 0.), (0., 0., 0.)) ((0., 0.), (0., 0., 0.)) ((0., 0.), (0., 0., 0.)) ((0., 0.), (0., 0., 0.)) ((0., 0.), (0., 0., 0.)) ((0., 0.), (0., 0., 0.)) ((0., 0.), (0., 0., 0.)) ((0., 0.), (0., 0., 0.)) ((0., 0.), (0., 0., 0.)) ((0., 0.), (0., 0., 0.))]\n"
          ]
        },
        {
          "output_type": "stream",
          "name": "stderr",
          "text": [
            "/usr/local/lib/python3.7/dist-packages/ipykernel_launcher.py:1: FutureWarning: Passing (type, 1) or '1type' as a synonym of type is deprecated; in a future version of numpy, it will be understood as (type, (1,)) / '(1,)type'.\n",
            "  \"\"\"Entry point for launching an IPython kernel.\n"
          ]
        }
      ],
      "source": [
        "Z = np.zeros(10, [ ('position', [ ('x', float, 1), ('y', float, 1)]), ('color',    [ ('r', float, 1), ('g', float, 1), ('b', float, 1)])])\n",
        "\n",
        "print(Z)"
      ]
    },
    {
      "cell_type": "markdown",
      "metadata": {
        "id": "w4BgiMcpkLua"
      },
      "source": [
        "#### 52. Consider a random vector with shape (100,2) representing coordinates, find point by point distances (★★☆) \n",
        "(**hint**: np.atleast\\_2d, T, np.sqrt)"
      ]
    },
    {
      "cell_type": "code",
      "execution_count": null,
      "metadata": {
        "colab": {
          "base_uri": "https://localhost:8080/"
        },
        "id": "jm3xOTP_kLub",
        "outputId": "1853efb9-6067-484a-ace3-60f51b47e14a"
      },
      "outputs": [
        {
          "output_type": "stream",
          "name": "stdout",
          "text": [
            "[[0.         0.20029076 0.79760883 0.55001876 0.71205034 0.70529998 0.41364304 0.3489396  0.9371567  0.98129903 0.19500489 0.44195555 0.10632057 0.28648813 0.37277955 0.67691964 0.46703952 0.82944267 0.72072513 0.5270271  0.6278893  0.6166937  0.65337675 0.6554364  0.64262505 0.80899287 0.62197497 0.693693   0.68001819 0.35087048 0.83926583 0.29008226 0.48440908 0.07068809 1.0288964  0.3527656  0.52753337 0.59661837 0.10211135 0.37132612 0.58560753 0.36277627 0.64303281 0.54495593 0.35816815 0.77521769 0.52337074 0.54163019 0.78154138 0.10546117 0.60336758 0.31147479 0.77156687 0.41571777 0.632387   0.92277191 0.60320361 0.6804021  0.20554113 0.0713485  0.4301705  0.2385152  0.24496395 0.63068144 0.84852541 0.69720113 0.95965937 0.60909837 0.19718791 0.57835938 0.2306559  0.34507349 0.34883313 0.29124554 0.49983839 0.51857696 0.44036498 0.90530658 0.10928192 0.25062288 0.66778317 0.91381032 0.22193873 0.45610014 0.6590206  0.63229438 0.63852001 0.30466577 0.4619607  0.79980197 0.07874528 0.65140821 0.35052373 0.49325105 0.32568806 0.29025304 0.35944969 0.79345619 0.44533669 0.27584429]\n",
            " [0.20029076 0.         0.59775327 0.41488276 0.61839475 0.51303062 0.35805596 0.18644659 0.75927938 0.81249    0.0365055  0.26014675 0.1985316  0.09380249 0.17717112 0.5090486  0.33899108 0.63133733 0.65645449 0.39055143 0.42892083 0.42053697 0.46187314 0.52392607 0.58840452 0.61844921 0.62475718 0.64127657 0.47972817 0.30455576 0.67463403 0.13537549 0.53971841 0.27046408 0.85570382 0.30134225 0.54213736 0.54344599 0.16212982 0.17108194 0.39115711 0.23519484 0.44278325 0.34502006 0.2361975  0.57825456 0.39340563 0.34234042 0.63552824 0.28425486 0.62681425 0.21201431 0.57175739 0.42752732 0.50431676 0.75397781 0.43037958 0.66520666 0.38766034 0.24995144 0.25429445 0.35505153 0.28861608 0.48465942 0.71617396 0.56867967 0.78021494 0.42558247 0.20046241 0.56897842 0.12669517 0.21341343 0.15365277 0.13223336 0.35762094 0.41330504 0.4603432  0.73314161 0.18609051 0.38854163 0.48323561 0.76639733 0.09223004 0.2612882  0.56361779 0.52299502 0.54492753 0.34242741 0.47425498 0.6035187  0.18726303 0.47088361 0.3078191  0.29980194 0.25949768 0.23557406 0.20343701 0.5954109  0.31397606 0.29586739]\n",
            " [0.79760883 0.59775327 0.         0.54082083 0.65986069 0.1658381  0.66683509 0.51553106 0.3464163  0.43828727 0.60464531 0.4211343  0.78040584 0.5132415  0.43927871 0.33817924 0.50710716 0.15432696 0.76519294 0.47618676 0.20088109 0.23967778 0.26284092 0.49976916 0.75570478 0.17312541 0.90628682 0.7885075  0.12431621 0.71184895 0.38893213 0.55676671 0.94479003 0.86703385 0.44137115 0.70340363 0.8771612  0.73648073 0.74675741 0.42690747 0.27371637 0.56985948 0.1572385  0.25273394 0.54456756 0.16977859 0.49591051 0.25640093 0.47029697 0.87845871 0.94898777 0.58957646 0.0951603  0.80740421 0.50860486 0.40271816 0.39200926 0.89329864 0.97929635 0.84563562 0.4109492  0.88764579 0.77931972 0.51097742 0.56599614 0.5218566  0.34846459 0.2725178  0.73237396 0.84679247 0.60883417 0.56682822 0.46168273 0.5324168  0.46366948 0.56600243 0.83809314 0.3700866  0.75478928 0.95393728 0.24095175 0.52499687 0.59627046 0.36926385 0.63166724 0.57539391 0.63017394 0.79947911 0.8332646  0.09312879 0.77739793 0.27159143 0.67816196 0.34508537 0.63651769 0.65218519 0.52130153 0.05790459 0.55100329 0.75766145]\n",
            " [0.55001876 0.41488276 0.54082083 0.         0.92976577 0.57808077 0.73932759 0.23027028 0.85086203 0.93320803 0.44948542 0.2072815  0.4660938  0.41755367 0.29876784 0.68882961 0.65205488 0.46473934 0.99906426 0.67616105 0.3509695  0.3058325  0.27986971 0.78905249 0.9464063  0.66739551 1.01984875 0.99674508 0.43258109 0.25370872 0.83046139 0.28015576 0.95317668 0.61155145 0.95399345 0.24615281 0.94540873 0.90626324 0.45179333 0.35792648 0.27700072 0.18827322 0.41977287 0.39251179 0.58830481 0.40871402 0.68926604 0.40766455 0.85020171 0.56919423 1.03078123 0.59149578 0.45837348 0.83431512 0.77940356 0.88286835 0.1515877  1.04829743 0.63886902 0.55199883 0.50553605 0.7612203  0.7034955  0.08548999 0.95020087 0.83159154 0.86147569 0.57130837 0.37318855 0.96019985 0.5288015  0.20790272 0.30739452 0.48786419 0.64222061 0.73987012 0.8682155  0.852543   0.58928964 0.56044603 0.60432685 0.95882303 0.49413111 0.26934422 0.87926134 0.8251252  0.86532694 0.75664408 0.87926244 0.60652354 0.48328175 0.61453782 0.70272067 0.2554638  0.64945517 0.63508595 0.21196526 0.57773171 0.10498556 0.70942011]\n",
            " [0.71205034 0.61839475 0.65986069 0.92976577 0.         0.49544184 0.30245566 0.73249944 0.48298322 0.45632471 0.58828935 0.72252519 0.7824773  0.55226785 0.63778423 0.32169633 0.28616617 0.80151646 0.11047177 0.25362015 0.67557767 0.71192523 0.77454364 0.16201375 0.14446957 0.51724681 0.32150747 0.1472788  0.639047   0.91563948 0.34715262 0.71572185 0.46309394 0.74704203 0.5157751  0.91098181 0.35471875 0.16472909 0.75048778 0.57726194 0.71475997 0.80754172 0.61576504 0.57124958 0.38219753 0.78712506 0.24134362 0.55350594 0.22903392 0.81634582 0.38365835 0.41320214 0.72278521 0.37760641 0.15998307 0.41732121 0.84835699 0.27265975 0.90762902 0.78336329 0.42486639 0.59948769 0.5018927  0.96156967 0.20591986 0.13943133 0.50825589 0.41161332 0.81601588 0.28470061 0.50451835 0.78813406 0.63648928 0.48923247 0.28785562 0.20514915 0.38416088 0.42667006 0.60549592 0.96141077 0.42241016 0.30770516 0.53201219 0.66240613 0.05479299 0.10467529 0.07424625 0.46515055 0.3620215  0.58148778 0.75871736 0.39367138 0.36554362 0.68452763 0.38669559 0.4218791  0.75188958 0.60846485 0.86000711 0.46316782]\n",
            " [0.70529998 0.51303062 0.1658381  0.57808077 0.49544184 0.         0.51395115 0.48311471 0.27619482 0.3552825  0.51074793 0.40818481 0.70855006 0.4206078  0.38717184 0.1741851  0.35268175 0.30746588 0.59982221 0.3153769  0.23559418 0.28187853 0.33306845 0.3345385  0.59003565 0.10639194 0.7428621  0.62268968 0.1668604  0.69410659 0.2616661  0.5093777  0.79127325 0.77135674 0.37985202 0.68629423 0.71802341 0.57163188 0.67276126 0.35341515 0.30379471 0.5514618  0.16301988 0.20019838 0.40733486 0.30087066 0.33488166 0.19167204 0.31916352 0.79688604 0.78741622 0.45668663 0.23070106 0.65535209 0.34283382 0.30508417 0.44672408 0.72796516 0.90059213 0.76205813 0.28449679 0.75973265 0.64704427 0.5722949  0.41954143 0.35863962 0.290396   0.11615179 0.67928281 0.68409414 0.49380567 0.54225072 0.40495092 0.4202702  0.30702999 0.40420155 0.68456161 0.27448307 0.64500947 0.89365638 0.07525271 0.39775488 0.48900322 0.34252419 0.466014   0.4095754  0.46434262 0.65948309 0.67776457 0.10717137 0.69996333 0.10609918 0.53277122 0.33528797 0.49650983 0.51716046 0.49467666 0.12124664 0.55730158 0.62113413]\n",
            " [0.41364304 0.35805596 0.66683509 0.73932759 0.30245566 0.51395115 0.         0.5150345  0.64687133 0.66014928 0.32286831 0.54214505 0.49296965 0.32290351 0.44347565 0.39188027 0.16128446 0.77101638 0.30900059 0.20774756 0.59067349 0.61076605 0.67125101 0.29138406 0.23433822 0.58884264 0.28206299 0.28701493 0.5920889  0.66230849 0.51974545 0.48060918 0.27800572 0.44499761 0.71663261 0.65930183 0.22111616 0.18831293 0.46400031 0.38885431 0.59838162 0.58116672 0.55710728 0.47328186 0.15482178 0.73601739 0.19116922 0.45815975 0.42726996 0.51647813 0.30325277 0.14984257 0.6929253  0.14140653 0.26629289 0.60618247 0.70149988 0.31050261 0.60564937 0.48452389 0.27924976 0.30881886 0.20225958 0.79227124 0.46728699 0.32273779 0.67280625 0.39818746 0.54109706 0.22130162 0.231954   0.55967479 0.43224331 0.25204985 0.20759467 0.14085795 0.17126352 0.59986161 0.3053448  0.66421387 0.44504163 0.55143052 0.26582622 0.50030769 0.25212633 0.2396228  0.23139507 0.1771204  0.16772931 0.62073872 0.46726251 0.41601176 0.06346284 0.5341756  0.09906056 0.12905389 0.53482176 0.6333338  0.65011545 0.16368612]\n",
            " [0.3489396  0.18644659 0.51553106 0.23027028 0.73249944 0.48311471 0.5150345  0.         0.75549849 0.82501934 0.2199938  0.10155986 0.29056963 0.19233409 0.10370954 0.54180079 0.44715524 0.50671404 0.79039272 0.48237833 0.31943069 0.29379513 0.31636802 0.6077078  0.73152777 0.58734219 0.79318128 0.78322593 0.39124012 0.2123563  0.70124872 0.05888358 0.72298055 0.41719021 0.8580961  0.20495582 0.7164813  0.68932453 0.2643641  0.15995633 0.25877576 0.07682506 0.36104542 0.2841845  0.36885958 0.44894058 0.49208924 0.29144999 0.69323452 0.39729985 0.8018164  0.3655983  0.46359455 0.60455083 0.59358276 0.76901389 0.25430353 0.82542559 0.48772671 0.37108611 0.31302104 0.53910983 0.47451805 0.29821805 0.78686622 0.65244238 0.77197433 0.43289709 0.22202495 0.73446585 0.29876708 0.06132859 0.09743143 0.26319345 0.44727098 0.53299172 0.63832159 0.74262239 0.36767962 0.44361154 0.48118181 0.81533055 0.26394555 0.14693191 0.67943881 0.6295479  0.66340111 0.52672875 0.64987202 0.54919734 0.29796179 0.48060437 0.4748248  0.17199415 0.42217388 0.40593552 0.01990798 0.53083442 0.13510768 0.47933282]\n",
            " [0.9371567  0.75927938 0.3464163  0.85086203 0.48298322 0.27619482 0.64687133 0.75549849 0.         0.09255945 0.74934315 0.68414085 0.95780935 0.66558726 0.65615338 0.26525701 0.50322107 0.49471411 0.59159872 0.44467894 0.50168097 0.54802446 0.59043674 0.36966965 0.61901607 0.18498334 0.79535173 0.63022248 0.42281147 0.96755299 0.13712538 0.77672932 0.8997833  0.99753073 0.10367397 0.95991929 0.80402124 0.62132214 0.9214085  0.61497354 0.57418277 0.82584389 0.43121279 0.475528   0.59569678 0.51618035 0.45825542 0.4655698  0.25436906 1.03618875 0.85298633 0.64803572 0.4411058  0.77846027 0.39224399 0.07679189 0.71306756 0.75462836 1.14012237 1.00047902 0.50811541 0.93969005 0.82444332 0.83777956 0.30652258 0.35918461 0.02630214 0.33435754 0.94060612 0.74770063 0.71013574 0.81559368 0.67168132 0.64605191 0.45853744 0.50840211 0.79976693 0.05669756 0.85925246 1.1472432  0.27857354 0.22301269 0.71521896 0.61790241 0.48376037 0.44713693 0.49379196 0.81872495 0.78509163 0.25745447 0.94524764 0.28839909 0.68787769 0.61147444 0.66890561 0.69855343 0.76815268 0.29225664 0.83348777 0.79114723]\n",
            " [0.98129903 0.81249    0.43828727 0.93320803 0.45632471 0.3552825  0.66014928 0.82501934 0.09255945 0.         0.79914155 0.75938152 1.01034791 0.71975232 0.72351621 0.30483158 0.52961701 0.58722816 0.55999277 0.46863719 0.58660451 0.63313477 0.67802389 0.37105264 0.59856764 0.27298816 0.77649757 0.60213276 0.50951017 1.03735102 0.14362076 0.84182201 0.8973293  1.03840691 0.05958617 1.02997381 0.79615036 0.60769475 0.97394829 0.67817753 0.65769584 0.89742144 0.5150297  0.55062111 0.63007735 0.60794255 0.47918377 0.53912425 0.23939484 1.08291278 0.8370154  0.68160612 0.53266827 0.78398747 0.39561832 0.05863426 0.79856444 0.72842237 1.18615111 1.04708628 0.55838252 0.96230828 0.84824148 0.92378922 0.26007708 0.34977899 0.09864879 0.39477039 1.00034811 0.73393848 0.75137356 0.88585556 0.73729382 0.69258278 0.4883675  0.51933855 0.80198428 0.08244747 0.89678403 1.20091801 0.34384295 0.1617425  0.76032923 0.69205432 0.46747895 0.44070772 0.48076129 0.83599098 0.78499918 0.34822231 0.99581331 0.34702304 0.70730323 0.68880352 0.69503471 0.72697046 0.83880333 0.38338766 0.91033595 0.8129749 ]\n",
            " [0.19500489 0.0365055  0.60464531 0.44948542 0.58828935 0.51074793 0.32286831 0.2199938  0.74934315 0.79914155 0.         0.28768585 0.21231664 0.09172943 0.19876414 0.4945846  0.31245971 0.64661997 0.62331995 0.36637667 0.4436081  0.43869331 0.48318211 0.49962308 0.55424609 0.61501584 0.58832416 0.60714922 0.48944634 0.33944033 0.65958339 0.17092946 0.50422352 0.26298892 0.84401792 0.33648619 0.50564252 0.50905443 0.17625944 0.18203689 0.4109265  0.27130713 0.45186782 0.35273025 0.20675849 0.59497433 0.36784752 0.34825456 0.61502986 0.28774676 0.59034295 0.17858496 0.58415983 0.39109487 0.47920044 0.74051994 0.45897369 0.62920871 0.39184458 0.25235943 0.24146874 0.32650266 0.25455139 0.51780031 0.69283521 0.54399669 0.77098959 0.41762134 0.22790772 0.53269622 0.09099393 0.24949338 0.17630968 0.10921227 0.33448361 0.38359761 0.42397875 0.72087217 0.16176437 0.40304812 0.47598824 0.74663745 0.05762129 0.28201667 0.53350011 0.49466313 0.51448288 0.30722768 0.43777956 0.60480829 0.19667196 0.46153802 0.27171116 0.32109767 0.22404073 0.19935609 0.23761777 0.59881894 0.34939983 0.26030925]\n",
            " [0.44195555 0.26014675 0.4211343  0.2072815  0.72252519 0.40818481 0.54214505 0.10155986 0.68414085 0.75938152 0.28768585 0.         0.39079945 0.22968336 0.09963733 0.49333674 0.44554252 0.40524126 0.79245598 0.46890878 0.22183226 0.19309332 0.21539045 0.58350795 0.74155789 0.5085962  0.8241634  0.79130738 0.29766308 0.29217619 0.64444754 0.1558991  0.77511643 0.51160615 0.78768739 0.28389299 0.7552064  0.70242047 0.36306633 0.15411311 0.15773917 0.14904208 0.27081263 0.20889984 0.38833276 0.3473928  0.48199327 0.22041455 0.65204485 0.49698106 0.84022288 0.39856411 0.36404625 0.64847397 0.57306355 0.70545029 0.17158179 0.84790082 0.58887885 0.46954462 0.29830179 0.61410218 0.53692735 0.25027712 0.75022892 0.6266417  0.69853052 0.37791088 0.32335654 0.76337605 0.35024775 0.14596618 0.11598081 0.29578838 0.43493911 0.53342164 0.68289099 0.67712777 0.44623607 0.54446727 0.41880692 0.76682556 0.31863338 0.06822072 0.6719847  0.61790239 0.65812137 0.58366338 0.69121537 0.46281393 0.39652455 0.42387166 0.51187825 0.07668358 0.4580213  0.44899614 0.10223569 0.4414122  0.15216167 0.53542798]\n",
            " [0.10632057 0.1985316  0.78040584 0.4660938  0.7824773  0.70855006 0.49296965 0.29056963 0.95780935 1.01034791 0.21231664 0.39079945 0.         0.29225456 0.34196148 0.70623803 0.51886865 0.79260856 0.80196148 0.57547999 0.59660643 0.57808644 0.60618354 0.70789209 0.7263311  0.81455443 0.71985204 0.77845085 0.65824433 0.24886414 0.87152477 0.23511831 0.58898074 0.15004923 1.05408847 0.25163671 0.62676231 0.68012035 0.03642862 0.35782794 0.54446159 0.28493153 0.62326921 0.53001495 0.40989861 0.7359256  0.57517666 0.53016371 0.82649973 0.10714193 0.70472231 0.37060921 0.74233781 0.51285875 0.68643135 0.95177425 0.53865265 0.77494031 0.20002027 0.08590544 0.45197331 0.34481592 0.34355616 0.54961961 0.90173346 0.75155782 0.97869614 0.62399746 0.09664993 0.67327956 0.28062121 0.27073522 0.31899643 0.32123498 0.54477433 0.58182901 0.53948889 0.93136421 0.20270847 0.19080129 0.68145707 0.95838085 0.25937259 0.4196342  0.72824221 0.69531488 0.70825628 0.40425352 0.55995232 0.7949645  0.02850429 0.66941192 0.43181436 0.4531639  0.39814007 0.36463313 0.29616396 0.78399587 0.36373103 0.37074826]\n",
            " [0.28648813 0.09380249 0.5132415  0.41755367 0.55226785 0.4206078  0.32290351 0.19233409 0.66558726 0.71975232 0.09172943 0.22968336 0.29225456 0.         0.13101629 0.41724822 0.26674079 0.56014857 0.60232574 0.31183056 0.35734924 0.35667314 0.40572782 0.44396145 0.54076488 0.52557655 0.60237099 0.5928697  0.39922072 0.36383182 0.58292017 0.16437581 0.54543475 0.35471797 0.7623533  0.35893586 0.52869166 0.49791598 0.25587947 0.09632375 0.33165475 0.26139417 0.36140793 0.26191549 0.17782961 0.51019436 0.31760235 0.25685348 0.54899426 0.37633161 0.61401604 0.1740372  0.49539114 0.41976166 0.42613753 0.66132525 0.39923586 0.63316145 0.4801689  0.34145035 0.1627124  0.39997576 0.3114648  0.4754937  0.63348866 0.48912198 0.68644506 0.33178429 0.28505409 0.54302951 0.12213306 0.24055538 0.11409244 0.07088531 0.27743701 0.34856354 0.4540737  0.64002318 0.24604861 0.48186642 0.38944882 0.67863901 0.09437418 0.20724182 0.49804447 0.45238319 0.48067969 0.35507058 0.46344639 0.51339516 0.28083485 0.3771899  0.28544769 0.24622404 0.23197966 0.21990083 0.21219012 0.50710734 0.3273049  0.3068256 ]\n",
            " [0.37277955 0.17717112 0.43927871 0.29876784 0.63778423 0.38717184 0.44347565 0.10370954 0.65615338 0.72351621 0.19876414 0.09963733 0.34196148 0.13101629 0.         0.43812975 0.35539406 0.45678995 0.70190631 0.38527893 0.25640852 0.24409046 0.28492519 0.50741476 0.64775545 0.49283725 0.72532149 0.6983172  0.31642853 0.31452551 0.598117   0.12239234 0.67615064 0.44346584 0.75811028 0.3074332  0.65563395 0.60749595 0.30933328 0.0605413  0.21404221 0.17994941 0.28204929 0.19336584 0.29050027 0.40246822 0.39646101 0.19730782 0.58983842 0.44295595 0.74069202 0.29900282 0.40160277 0.54889429 0.49438157 0.66706122 0.26822425 0.750644   0.54170042 0.4118055  0.2140313  0.52379016 0.44110399 0.34890883 0.68412327 0.5518155  0.67351015 0.3301174  0.29578777 0.66477705 0.25270582 0.16496428 0.02394738 0.19615477 0.35042797 0.44281    0.58332291 0.64124041 0.36036199 0.51572398 0.37985038 0.71162189 0.22252171 0.08412325 0.58574123 0.53381812 0.57070609 0.48598957 0.59157805 0.46149695 0.34111182 0.37793965 0.41226602 0.12273636 0.35841221 0.34955383 0.12045536 0.44683873 0.22226052 0.43773467]\n",
            " [0.67691964 0.5090486  0.33817924 0.68882961 0.32169633 0.1741851  0.39188027 0.54180079 0.26525701 0.30483158 0.4945846  0.49333674 0.70623803 0.41724822 0.43812975 0.         0.24007256 0.48142407 0.42750595 0.18460293 0.37935033 0.42179629 0.48086449 0.16229581 0.42404722 0.20815411 0.58613118 0.45287395 0.32789043 0.75152406 0.16567308 0.55002622 0.65909576 0.73518715 0.35220864 0.74474007 0.57392602 0.41094273 0.66988803 0.38627997 0.43399566 0.61744672 0.31136714 0.29772382 0.33053922 0.47143422 0.2007224  0.28169183 0.16250236 0.77814881 0.6359023  0.38283915 0.40377843 0.52957221 0.1739016  0.24620384 0.5773198  0.56357795 0.88149982 0.74232429 0.25479998 0.6759144  0.56052589 0.70016593 0.26432604 0.18446214 0.28979143 0.11773656 0.70063153 0.53034358 0.44767757 0.60309084 0.44819165 0.38775161 0.19423052 0.26119984 0.55463905 0.22863372 0.59521519 0.89697676 0.10402547 0.27417802 0.45561254 0.42543    0.29507978 0.2407956  0.29554898 0.55825006 0.54344507 0.26257053 0.69122201 0.08011541 0.4269995  0.43348958 0.40468073 0.43362811 0.55782773 0.28758609 0.64484978 0.52818498]\n",
            " [0.46703952 0.33899108 0.50710716 0.65205488 0.28616617 0.35268175 0.16128446 0.44715524 0.50322107 0.52961701 0.31245971 0.44554252 0.51886865 0.26674079 0.35539406 0.24007256 0.         0.61762841 0.34700971 0.06146711 0.44811943 0.47440664 0.53694719 0.18935759 0.29866921 0.42931971 0.41251375 0.34682372 0.43931567 0.63055535 0.38607024 0.42963968 0.43879632 0.51698091 0.58264601 0.625675   0.37160145 0.26327697 0.48433483 0.2950498  0.46786652 0.52169216 0.40624276 0.33178756 0.10954957 0.58663397 0.05654578 0.31514549 0.31527412 0.5720905  0.44743787 0.15636535 0.53844089 0.30269093 0.16756275 0.47262106 0.5874173  0.41786644 0.67190613 0.53683977 0.14985734 0.43647289 0.32123301 0.69189119 0.38325225 0.23269454 0.52841108 0.2370443  0.53923646 0.35070007 0.23951405 0.50211091 0.35212925 0.20710354 0.04723781 0.08788165 0.33202552 0.46118117 0.37249069 0.70630804 0.28409782 0.44725721 0.2599234  0.39097888 0.23250721 0.18569592 0.2162467  0.31865846 0.32622862 0.45945669 0.49839403 0.2555056  0.187571   0.41879248 0.16602581 0.19735414 0.46670639 0.47230314 0.57669109 0.28821619]\n",
            " [0.82944267 0.63133733 0.15432696 0.46473934 0.80151646 0.30746588 0.77101638 0.50671404 0.49471411 0.58722816 0.64661997 0.40524126 0.79260856 0.56014857 0.45678995 0.48142407 0.61762841 0.         0.90371843 0.59711505 0.20303468 0.214542   0.19684413 0.63975437 0.88695911 0.32724337 1.02735865 0.92348957 0.17892811 0.67598168 0.54323606 0.55824899 1.04565279 0.90012641 0.58454996 0.66736914 0.98861828 0.86345275 0.76240085 0.46497531 0.24840812 0.54334442 0.2145912  0.30811136 0.63331685 0.05884733 0.61673819 0.31977977 0.62179232 0.89690905 1.06499415 0.67168094 0.08007312 0.90779688 0.64572614 0.55488914 0.31440705 1.02157341 0.99215845 0.86710244 0.49725256 0.95531603 0.854595   0.41482015 0.71893872 0.66583487 0.49375448 0.39718554 0.72859012 0.96633289 0.67142737 0.54630104 0.48072935 0.5963883  0.57863723 0.68686409 0.9403069  0.52239525 0.80604462 0.94929058 0.37912631 0.67929466 0.65175243 0.37448245 0.76910902 0.71137872 0.76547931 0.88363108 0.93871917 0.24727413 0.79516814 0.40802497 0.7719681  0.33951439 0.7249374  0.73433133 0.50656844 0.21223083 0.50297413 0.83851908]\n",
            " [0.72072513 0.65645449 0.76519294 0.99906426 0.11047177 0.59982221 0.30900059 0.79039272 0.59159872 0.55999277 0.62331995 0.79245598 0.80196148 0.60232574 0.70190631 0.42750595 0.34700971 0.90371843 0.         0.33050349 0.76751339 0.80123967 0.86429804 0.2654328  0.08139459 0.62652068 0.23157397 0.04701785 0.73698478 0.9598637  0.45658616 0.76653834 0.39716934 0.74607214 0.61899531 0.95601497 0.28684878 0.12533252 0.77271227 0.64177049 0.80090255 0.86294917 0.71138381 0.6584413  0.42518904 0.88627993 0.31433078 0.64077563 0.3385587  0.82169543 0.29603485 0.44474207 0.82432733 0.34104367 0.2579942  0.52407945 0.92913898 0.1708824  0.90582765 0.79094099 0.49509463 0.57419007 0.49095672 1.03747796 0.302617   0.24863058 0.61657404 0.50923334 0.84718825 0.21031484 0.53437315 0.84250879 0.69736877 0.5344262  0.36147196 0.2592209  0.33779179 0.53506247 0.61161914 0.9712197  0.52564211 0.40543655 0.56573199 0.736446   0.13473581 0.19309012 0.14103809 0.44409358 0.31305694 0.68908361 0.77623914 0.49599485 0.37091189 0.76208624 0.40528745 0.43759697 0.81018774 0.71506378 0.92211673 0.45364141]\n",
            " [0.5270271  0.39055143 0.47618676 0.67616105 0.25362015 0.3153769  0.20774756 0.48237833 0.44467894 0.46863719 0.36637667 0.46890878 0.57547999 0.31183056 0.38527893 0.18460293 0.06146711 0.59711505 0.33050349 0.         0.44160108 0.47277563 0.53588832 0.13339073 0.29551423 0.38251363 0.43113509 0.33859695 0.42165867 0.67424402 0.32520699 0.47086506 0.47972976 0.57797052 0.52213868 0.66889977 0.40268395 0.2674357  0.54044569 0.32492248 0.47086341 0.55839635 0.39165834 0.32933188 0.16886315 0.57122599 0.01975886 0.3118226  0.25458705 0.63180563 0.47282295 0.21732875 0.51712929 0.34709121 0.11434835 0.41190495 0.59897612 0.42556711 0.73220378 0.59640319 0.17154734 0.49558602 0.38068454 0.709448   0.32652954 0.17815932 0.4701479  0.20375667 0.59094042 0.37094593 0.29805038 0.53979179 0.3854261  0.25844391 0.03513214 0.09009544 0.37383531 0.40129204 0.43368193 0.76406701 0.24274108 0.38679818 0.31610983 0.40931992 0.20368341 0.14904586 0.19133851 0.37448627 0.36480567 0.42015582 0.55586953 0.21247723 0.24336741 0.43288088 0.22644236 0.25847507 0.50141867 0.43654139 0.60748975 0.34665387]\n",
            " [0.6278893  0.42892083 0.20088109 0.3509695  0.67557767 0.23559418 0.59067349 0.31943069 0.50168097 0.58660451 0.4436081  0.22183226 0.59660643 0.35734924 0.25640852 0.37935033 0.44811943 0.20303468 0.76751339 0.44160108 0.         0.0465507  0.10151651 0.51652216 0.7370949  0.31721134 0.86021016 0.7795545  0.08216013 0.51116515 0.49646368 0.36550809 0.85902774 0.69851167 0.60422107 0.50269627 0.81145928 0.70726659 0.56496366 0.26195645 0.07490641 0.3697601  0.07257761 0.11744945 0.44442439 0.15363111 0.46005013 0.1332513  0.53971229 0.69903968 0.89155084 0.47808601 0.14575845 0.72223091 0.51560805 0.5391089  0.21200087 0.86438152 0.7966267  0.66817645 0.31153599 0.7542269  0.65610591 0.33741521 0.64194141 0.5517895  0.51122698 0.26773552 0.53995748 0.79820218 0.4705002  0.36779273 0.28019271 0.39652276 0.41625271 0.52716657 0.75573478 0.50771213 0.60309858 0.76208309 0.279812   0.63115108 0.44956871 0.17722285 0.63439909 0.5757842  0.6264758  0.68854561 0.75677505 0.25607898 0.59714369 0.29930066 0.58365004 0.14743753 0.53397726 0.53982233 0.32336049 0.22900314 0.35098449 0.64232165]\n",
            " [0.6166937  0.42053697 0.23967778 0.3058325  0.71192523 0.28187853 0.61076605 0.29379513 0.54802446 0.63313477 0.43869331 0.19309332 0.57808644 0.35667314 0.24409046 0.42179629 0.47440664 0.214542   0.80123967 0.47277563 0.0465507  0.         0.06311837 0.55445649 0.76753941 0.36340227 0.88456622 0.81136869 0.12680531 0.47647576 0.54235075 0.34398566 0.87431179 0.68735843 0.65042666 0.46792409 0.83187944 0.7360261  0.54789051 0.26035806 0.03575146 0.33741794 0.11890663 0.14356275 0.46084153 0.15868056 0.49064469 0.16096839 0.58304404 0.68240995 0.91330229 0.49056181 0.1718108  0.73869975 0.55223475 0.58563985 0.16545202 0.89210853 0.77771687 0.65278825 0.33214166 0.75640577 0.66248426 0.29087109 0.68528553 0.59101578 0.55731693 0.30805587 0.51578255 0.82244365 0.47429776 0.33758294 0.26800173 0.40280383 0.44556945 0.5561089  0.77262093 0.55425917 0.59996826 0.73735021 0.323867   0.6766038  0.4505954  0.1606609  0.66917356 0.61076739 0.66032848 0.69833952 0.77508628 0.30069122 0.58071168 0.34202752 0.59921413 0.12497637 0.5480697  0.5509894  0.29528822 0.27232543 0.31172443 0.65127967]\n",
            " [0.65337675 0.46187314 0.26284092 0.27986971 0.77454364 0.33306845 0.67125101 0.31636802 0.59043674 0.67802389 0.48318211 0.21539045 0.60618354 0.40572782 0.28492519 0.48086449 0.53694719 0.19684413 0.86429804 0.53588832 0.10151651 0.06311837 0.         0.61653205 0.83058714 0.4055855  0.94636388 0.87448308 0.16884698 0.47917869 0.59472384 0.37117387 0.93216689 0.72369255 0.69129463 0.47056516 0.89227095 0.79888671 0.57810359 0.31025067 0.07489601 0.34733361 0.1717924  0.20663005 0.52004389 0.13801781 0.55373479 0.22407202 0.64104412 0.71223866 0.97417715 0.5476358  0.17858016 0.79734997 0.61474337 0.63298303 0.12938683 0.95475878 0.80408476 0.68434052 0.3934344  0.8054135  0.71503572 0.24932631 0.74324976 0.65251785 0.59765216 0.36880692 0.53652494 0.88423393 0.52577634 0.35142344 0.30823713 0.45652892 0.5085791  0.61904101 0.83143881 0.60103705 0.64494409 0.7555592  0.38095286 0.73036463 0.50010078 0.20117045 0.73209933 0.67365114 0.72336437 0.75315846 0.83459389 0.33647548 0.61146259 0.40080585 0.65763998 0.16219953 0.60584675 0.6070865  0.31396457 0.30477838 0.30683325 0.7056644 ]\n",
            " [0.6554364  0.52392607 0.49976916 0.78905249 0.16201375 0.3345385  0.29138406 0.6077078  0.36966965 0.37105264 0.49962308 0.58350795 0.70789209 0.44396145 0.50741476 0.16229581 0.18935759 0.63975437 0.2654328  0.13339073 0.51652216 0.55445649 0.61653205 0.         0.26468804 0.36576946 0.43357537 0.29087825 0.47736118 0.80458627 0.2352589  0.6003993  0.53044402 0.70295046 0.42884865 0.79897973 0.43470652 0.25725467 0.67310964 0.4481497  0.55968775 0.68435714 0.45492183 0.41642386 0.29889035 0.62516093 0.1328416  0.39879914 0.135938   0.76071596 0.48773325 0.34397616 0.56086932 0.41309433 0.02512747 0.31950306 0.69703297 0.40454364 0.85962208 0.72563156 0.29475038 0.59833223 0.48694178 0.81403023 0.19391383 0.04520258 0.39596963 0.25049806 0.72428448 0.3816896  0.42886964 0.66659959 0.51027743 0.39183464 0.16675168 0.1512089  0.43210634 0.31782129 0.55790286 0.8956574  0.26081533 0.26342612 0.44861911 0.51972355 0.13293225 0.08157558 0.13500146 0.46840939 0.41631041 0.42462597 0.68768816 0.2317673  0.34336236 0.53773998 0.3411202  0.37587057 0.62619104 0.44985413 0.72798556 0.44989669]\n",
            " [0.64262505 0.58840452 0.75570478 0.9464063  0.14446957 0.59003565 0.23433822 0.73152777 0.61901607 0.59856764 0.55424609 0.74155789 0.7263311  0.54076488 0.64775545 0.42404722 0.29866921 0.88695911 0.08139459 0.29551423 0.7370949  0.76753941 0.83058714 0.26468804 0.         0.63016814 0.1779308  0.05291018 0.71467015 0.89285011 0.48195712 0.70384175 0.32447445 0.6661375  0.65813892 0.88939383 0.21438317 0.04621143 0.69801231 0.58855528 0.76386139 0.80215889 0.68612529 0.62397675 0.36298399 0.86457412 0.27710128 0.60662832 0.36517453 0.7426671  0.23931344 0.37651964 0.80694212 0.2599418  0.25018953 0.55691356 0.88605938 0.13986255 0.82555308 0.71241439 0.44850733 0.49282387 0.41033765 0.98966284 0.35035585 0.26164159 0.64481932 0.48977443 0.7752181  0.14123721 0.46407739 0.78125725 0.64114322 0.47120355 0.32206666 0.21245252 0.2580339  0.56354249 0.53336588 0.89279566 0.51480421 0.45212721 0.49667849 0.68918207 0.13591351 0.18364745 0.12976499 0.36279112 0.23368316 0.68608871 0.70014584 0.4841134  0.29451731 0.71745878 0.33259719 0.36337504 0.75142457 0.70906604 0.86501672 0.37333607]\n",
            " [0.80899287 0.61844921 0.17312541 0.66739551 0.51724681 0.10639194 0.58884264 0.58734219 0.18498334 0.27298816 0.61501584 0.5085962  0.81455443 0.52557655 0.49283725 0.20815411 0.42931971 0.32724337 0.62652068 0.38251363 0.31721134 0.36340227 0.4055855  0.36576946 0.63016814 0.         0.79424337 0.65576351 0.23784222 0.79728182 0.21712211 0.61516982 0.86209481 0.87419906 0.287025   0.78934584 0.7805573  0.61880926 0.77868113 0.45980645 0.39041071 0.65409188 0.24773501 0.30327497 0.49803067 0.33952445 0.40075954 0.296259   0.30859286 0.90188756 0.84390445 0.54906697 0.26392884 0.72932402 0.38038277 0.23195515 0.52821434 0.76999964 1.00574375 0.86688889 0.38338577 0.85171965 0.73751006 0.65281724 0.39898562 0.37797556 0.19409595 0.20548344 0.78559629 0.73844834 0.59331096 0.64576397 0.51099046 0.52143005 0.38215399 0.46596136 0.7563467  0.19932749 0.74495097 0.99999528 0.14873528 0.3521872  0.59075444 0.4445649  0.49803823 0.44652649 0.50070147 0.74478261 0.74687417 0.0800023  0.80557369 0.17453769 0.61521677 0.43385043 0.58378645 0.60742641 0.59820311 0.11540851 0.6550856  0.70923458]\n",
            " [0.62197497 0.62475718 0.90628682 1.01984875 0.32150747 0.7428621  0.28206299 0.79318128 0.79535173 0.77649757 0.58832416 0.8241634  0.71985204 0.60237099 0.72532149 0.58613118 0.41251375 1.02735865 0.23157397 0.43113509 0.86021016 0.88456622 0.94636388 0.43357537 0.1779308  0.79424337 0.         0.18462308 0.8502569  0.92266121 0.65822976 0.75450586 0.18759962 0.62648463 0.83606958 0.92078845 0.09614437 0.17634926 0.69811386 0.67090412 0.87504515 0.85586029 0.81816109 0.74329393 0.43660602 0.99860513 0.41138877 0.72700435 0.54227888 0.71005311 0.06456673 0.42835965 0.94755534 0.20700086 0.41555941 0.73446464 0.98289884 0.0767198  0.77658938 0.68540773 0.55310922 0.4212359  0.37713408 1.07420541 0.5266577  0.43648756 0.82130686 0.63451846 0.78696792 0.06212997 0.49913947 0.83409721 0.71347844 0.53199773 0.44887965 0.34104501 0.18197091 0.74029298 0.517193   0.8616191  0.66816741 0.62900382 0.53451604 0.7817706  0.31164677 0.35224679 0.3020581  0.31741451 0.16006586 0.84398944 0.691689   0.63721421 0.3187569  0.81491207 0.37100761 0.38974057 0.8127557  0.86383559 0.92813913 0.34937975]\n",
            " [0.693693   0.64127657 0.7885075  0.99674508 0.1472788  0.62268968 0.28701493 0.78322593 0.63022248 0.60213276 0.60714922 0.79130738 0.77845085 0.5928697  0.6983172  0.45287395 0.34682372 0.92348957 0.04701785 0.33859695 0.7795545  0.81136869 0.87448308 0.29087825 0.05291018 0.65576351 0.18462308 0.         0.75357582 0.9456955  0.49416055 0.75620225 0.35172854 0.71559432 0.66138274 0.94221477 0.241696   0.0987021  0.75039152 0.6388187  0.80898602 0.85424379 0.72630534 0.66792275 0.41504118 0.90338328 0.32097535 0.65041953 0.37609066 0.79301065 0.24904843 0.42935871 0.84368304 0.30305142 0.27996659 0.56438911 0.93345919 0.12643836 0.87445138 0.76316309 0.496558   0.53714348 0.45902367 1.03864475 0.34661259 0.28001709 0.65552679 0.52688216 0.82801358 0.16471957 0.5169864  0.83341421 0.69221249 0.52353582 0.36708478 0.25948242 0.29705568 0.57394104 0.58441137 0.94354433 0.54779029 0.4494745  0.54957728 0.73779922 0.15796424 0.21311451 0.15839268 0.40942627 0.27196715 0.71540954 0.75212289 0.51752486 0.34669603 0.76524753 0.38542799 0.41599974 0.80311075 0.74000585 0.91639733 0.42262042]\n",
            " [0.68001819 0.47972817 0.12431621 0.43258109 0.639047   0.1668604  0.5920889  0.39124012 0.42281147 0.50951017 0.48944634 0.29766308 0.65824433 0.39922072 0.31642853 0.32789043 0.43931567 0.17892811 0.73698478 0.42165867 0.08216013 0.12680531 0.16884698 0.47736118 0.71467015 0.23784222 0.8502569  0.75357582 0.         0.58925108 0.42786315 0.43274726 0.8669985  0.75005503 0.52460843 0.58086496 0.80988894 0.68896904 0.62510111 0.30875444 0.15706365 0.44664428 0.0382147  0.13782022 0.45572485 0.1499086  0.44108089 0.14609161 0.48274493 0.75772691 0.88675089 0.49579542 0.10195595 0.72909632 0.48014456 0.46413699 0.29053122 0.84716189 0.85768407 0.72548072 0.31948644 0.78565564 0.68158543 0.41497508 0.58421175 0.50838371 0.43124579 0.22785856 0.60832773 0.78893804 0.50289221 0.44301788 0.33924793 0.42669773 0.401403   0.51075688 0.76149734 0.43219804 0.64411191 0.83006786 0.22423839 0.56443702 0.48666173 0.24496717 0.60237829 0.5438949  0.59688601 0.70785958 0.75979481 0.17403696 0.656247   0.24889837 0.59387219 0.22127436 0.54770584 0.55868226 0.39722602 0.14701272 0.43216304 0.66358849]\n",
            " [0.35087048 0.30455576 0.71184895 0.25370872 0.91563948 0.69410659 0.66230849 0.2123563  0.96755299 1.03735102 0.33944033 0.29217619 0.24886414 0.36383182 0.31452551 0.75152406 0.63055535 0.67598168 0.9598637  0.67424402 0.51116515 0.47647576 0.47917869 0.80458627 0.89285011 0.79728182 0.92266121 0.9456955  0.58925108 0.         0.91256686 0.20453306 0.81567374 0.39842277 1.0703034  0.00861422 0.83547836 0.84798198 0.24962179 0.36559071 0.44091862 0.14358205 0.56298587 0.4941898  0.53594145 0.61718485 0.68101944 0.50259412 0.89914157 0.33831354 0.91826062 0.51633688 0.64768427 0.7194966  0.78808943 0.9812445  0.37315558 0.96728781 0.39301789 0.3299244  0.51210694 0.58607039 0.56113219 0.33851802 0.98973001 0.84976206 0.98369773 0.64463111 0.15371251 0.86919691 0.43039251 0.15197369 0.30333615 0.42711234 0.63939447 0.71111008 0.75024099 0.95496389 0.42498173 0.30740148 0.69350824 1.02382772 0.39664566 0.35294308 0.86120685 0.81621455 0.84341334 0.62097114 0.76713988 0.75468135 0.27342773 0.69243466 0.60996264 0.36885404 0.5634425  0.53745389 0.19948999 0.73358674 0.17532976 0.57945231]\n",
            " [0.83926583 0.67463403 0.38893213 0.83046139 0.34715262 0.2616661  0.51974545 0.70124872 0.13712538 0.14362076 0.65958339 0.64444754 0.87152477 0.58292017 0.598117   0.16567308 0.38607024 0.54323606 0.45658616 0.32520699 0.49646368 0.54235075 0.59472384 0.2352589  0.48195712 0.21712211 0.65822976 0.49416055 0.42786315 0.91256686 0.         0.71297619 0.76559123 0.89555769 0.19743201 0.90553708 0.66820987 0.48439082 0.83521296 0.54883626 0.56177121 0.77573597 0.42399971 0.43920449 0.48667299 0.55052244 0.33618874 0.4254277  0.11812003 0.94153633 0.71600334 0.53808894 0.47575136 0.64730915 0.25878452 0.08686635 0.7059352  0.61800623 1.04444085 0.90571777 0.42044404 0.81966567 0.70529502 0.83127145 0.18737699 0.22221681 0.16310272 0.26856478 0.86605223 0.61085873 0.60894878 0.76254158 0.60981666 0.55201256 0.34477919 0.37942419 0.66717523 0.0828483  0.7535098  1.06230972 0.2265622  0.13741547 0.61900925 0.57626449 0.34663589 0.3109126  0.35677688 0.69455935 0.65156855 0.29640844 0.85607861 0.22125804 0.56510072 0.57851478 0.55164748 0.58342108 0.71635063 0.33105102 0.79659557 0.67036472]\n",
            " [0.29008226 0.13537549 0.55676671 0.28015576 0.71572185 0.5093777  0.48060918 0.05888358 0.77672932 0.84182201 0.17092946 0.1558991  0.23511831 0.16437581 0.12239234 0.55002622 0.42963968 0.55824899 0.76653834 0.47086506 0.36550809 0.34398566 0.37117387 0.6003993  0.70384175 0.61516982 0.75450586 0.75620225 0.43274726 0.20453306 0.71297619 0.         0.6750458  0.35850167 0.87808489 0.19867727 0.67454722 0.66035896 0.2072316  0.1641534  0.30986162 0.10139301 0.40019351 0.31521565 0.3415443  0.50118395 0.47845173 0.31966214 0.69516119 0.34109023 0.75960746 0.33089252 0.51100216 0.5609084  0.58431293 0.78473482 0.31318672 0.79074781 0.43401589 0.31382447 0.30758141 0.483292   0.42364552 0.3526698  0.78522358 0.64554396 0.79460968 0.44714755 0.17560808 0.69712493 0.25589291 0.07959733 0.10505759 0.23266754 0.43587018 0.51270144 0.59415066 0.75983967 0.3114099  0.3973915  0.4991471  0.82086118 0.22048668 0.18868341 0.66173084 0.61473556 0.64463916 0.47780217 0.60711851 0.58319807 0.24074056 0.49499465 0.43584471 0.21956029 0.38466595 0.36498665 0.07146787 0.56747913 0.17860057 0.43115411]\n",
            " [0.48440908 0.53971841 0.94479003 0.95317668 0.46309394 0.79127325 0.27800572 0.72298055 0.8997833  0.8973293  0.50422352 0.77511643 0.58898074 0.54543475 0.67615064 0.65909576 0.43879632 1.04565279 0.39716934 0.47972976 0.85902774 0.87431179 0.93216689 0.53044402 0.32447445 0.86209481 0.18759962 0.35172854 0.8669985  0.81567374 0.76559123 0.6750458  0.         0.47362757 0.95629199 0.81532439 0.11043207 0.29849865 0.57396947 0.63081337 0.85766557 0.77451253 0.831114   0.74272677 0.41460693 1.00800299 0.46133604 0.72874868 0.6579348  0.55893485 0.13867662 0.38475566 0.96847273 0.13794827 0.50754351 0.84864493 0.94388902 0.26401541 0.61243102 0.53950454 0.54919342 0.25733767 0.25527169 1.01818043 0.66588778 0.54755562 0.92608072 0.67583568 0.66881273 0.18701032 0.42624081 0.75283356 0.6593384  0.48177995 0.4842765  0.39793497 0.10678461 0.8482513  0.39168477 0.70710969 0.7211156  0.76413242 0.45994635 0.74630062 0.43519996 0.45666509 0.41920358 0.19760604 0.1156859  0.89772415 0.56052171 0.69145782 0.2754051  0.78344572 0.32633897 0.32762991 0.74123562 0.91109862 0.8536057  0.24391433]\n",
            " [0.07068809 0.27046408 0.86703385 0.61155145 0.74704203 0.77135674 0.44499761 0.41719021 0.99753073 1.03840691 0.26298892 0.51160615 0.15004923 0.35471797 0.44346584 0.73518715 0.51698091 0.90012641 0.74607214 0.57797052 0.69851167 0.68735843 0.72369255 0.70295046 0.6661375  0.87419906 0.62648463 0.71559432 0.75005503 0.39842277 0.89555769 0.35850167 0.47362757 0.         1.08737866 0.40145698 0.53054688 0.62084411 0.1597721  0.44130114 0.65619488 0.42612114 0.71293464 0.61454306 0.41017337 0.84589647 0.57256861 0.61081113 0.83224262 0.08531662 0.60088477 0.36065707 0.84204392 0.42457859 0.67918352 0.98008245 0.67109085 0.68991391 0.1606528  0.07195665 0.49298227 0.21733993 0.25711498 0.69362692 0.89434656 0.74328584 1.02052392 0.67256775 0.24666156 0.58831251 0.28757165 0.40947984 0.41951915 0.35373238 0.55286532 0.56085577 0.44497621 0.96382009 0.14507392 0.23532274 0.73131531 0.96407755 0.28405647 0.52674877 0.69540838 0.67342783 0.67470524 0.31196042 0.46836949 0.8673062  0.12878118 0.71373349 0.38163483 0.56381829 0.36536234 0.3296701  0.42681567 0.86178777 0.50760849 0.29297446]\n",
            " [1.0288964  0.85570382 0.44137115 0.95399345 0.5157751  0.37985202 0.71663261 0.8580961  0.10367397 0.05958617 0.84401792 0.78768739 1.05408847 0.7623533  0.75811028 0.35220864 0.58264601 0.58454996 0.61899531 0.52213868 0.60422107 0.65042666 0.69129463 0.42884865 0.65813892 0.287025   0.83606958 0.66138274 0.52460843 1.0703034  0.19743201 0.87808489 0.95629199 1.08737866 0.         1.06272393 0.85547512 0.66720845 1.01765985 0.71552211 0.67714371 0.9289127  0.53423199 0.57897894 0.6808758  0.61064771 0.53351835 0.56878878 0.29843793 1.12947148 0.8966008  0.73278219 0.5365301  0.84194125 0.45320669 0.11059718 0.81511909 0.7877214  1.23308417 1.09367088 0.60259435 1.01704579 0.90256544 0.93945329 0.3181152  0.4087637  0.09369793 0.43311153 1.04011947 0.79348623 0.79988596 0.91839049 0.77311789 0.73879189 0.54023694 0.57599864 0.86039474 0.1236013  0.94688715 1.24419306 0.37901178 0.21785537 0.80726444 0.72130419 0.52701298 0.49962697 0.54018611 0.89186927 0.84366549 0.35589328 1.04052003 0.3861044  0.76253064 0.71513799 0.74851554 0.7798453  0.87101232 0.38968688 0.93715187 0.867762  ]\n",
            " [0.3527656  0.30134225 0.70340363 0.24615281 0.91098181 0.68629423 0.65930183 0.20495582 0.95991929 1.02997381 0.33648619 0.28389299 0.25163671 0.35893586 0.3074332  0.74474007 0.625675   0.66736914 0.95601497 0.66889977 0.50269627 0.46792409 0.47056516 0.79897973 0.88939383 0.78934584 0.92078845 0.94221477 0.58086496 0.00861422 0.90553708 0.19867727 0.81532439 0.40145698 1.06272393 0.         0.83400009 0.84462834 0.25118127 0.35899827 0.43237583 0.13546266 0.55470541 0.48631619 0.53176722 0.60857173 0.67586261 0.49483465 0.89281751 0.34263804 0.91698121 0.51288056 0.63910828 0.71804672 0.78264126 0.97394426 0.364697   0.96486167 0.39899172 0.33345683 0.50615012 0.58718468 0.56055804 0.33111175 0.98370695 0.84414176 0.97598035 0.63748899 0.15585787 0.86703021 0.42747642 0.14433428 0.29660127 0.42279866 0.63400624 0.70660528 0.74896996 0.94757339 0.42508192 0.3145937  0.68613757 1.01723733 0.39352514 0.34492792 0.85660245 0.81128851 0.83890128 0.62022817 0.76565567 0.74648248 0.27573416 0.68527154 0.60742166 0.36056203 0.56052692 0.53490623 0.19178163 0.72529162 0.1668312  0.57836213]\n",
            " [0.52753337 0.54213736 0.8771612  0.94540873 0.35471875 0.71802341 0.22111616 0.7164813  0.80402124 0.79615036 0.50564252 0.7552064  0.62676231 0.52869166 0.65563395 0.57392602 0.37160145 0.98861828 0.28684878 0.40268395 0.81145928 0.83187944 0.89227095 0.43470652 0.21438317 0.7805573  0.09614437 0.241696   0.80988894 0.83547836 0.66820987 0.67454722 0.11043207 0.53054688 0.85547512 0.83400009 0.         0.1910892  0.60619615 0.60421094 0.81919427 0.77584911 0.7757653  0.6940176  0.37365252 0.955478   0.38328353 0.67865851 0.55725086 0.61432051 0.08537255 0.3566423  0.90974488 0.11599822 0.41320854 0.74938714 0.91864286 0.16596301 0.68047101 0.59011276 0.50024918 0.32547911 0.28328876 1.00378581 0.55902935 0.44737149 0.83029706 0.60497175 0.69663466 0.07719706 0.41876038 0.7540079  0.64186061 0.45981982 0.41356875 0.31515587 0.08729013 0.75105804 0.42409752 0.76576404 0.64523162 0.65856839 0.4541157  0.71780924 0.33024112 0.35735763 0.31561065 0.22292546 0.0683447  0.82266446 0.59845871 0.61472326 0.24347249 0.75279034 0.29727698 0.310546   0.73572541 0.83911401 0.85066041 0.2577898 ]\n",
            " [0.59661837 0.54344599 0.73648073 0.90626324 0.16472909 0.57163188 0.18831293 0.68932453 0.62132214 0.60769475 0.50905443 0.70242047 0.68012035 0.49791598 0.60749595 0.41094273 0.26327697 0.86345275 0.12533252 0.2674357  0.70726659 0.7360261  0.79888671 0.25725467 0.04621143 0.61880926 0.17634926 0.0987021  0.68896904 0.84798198 0.48439082 0.66035896 0.29849865 0.62084411 0.66720845 0.84462834 0.1910892  0.         0.65183556 0.54883151 0.73078391 0.75920687 0.65906499 0.59265144 0.3204677  0.8386304  0.2482296  0.5755434  0.37023952 0.69693105 0.23169535 0.33181293 0.78338383 0.22026343 0.23932516 0.56293416 0.84996706 0.15820786 0.78051523 0.66651612 0.41238086 0.45106484 0.36564478 0.9514051  0.36797409 0.26217411 0.64742826 0.46707928 0.72933929 0.12660668 0.41867125 0.73817098 0.60007825 0.42792337 0.29101547 0.1801127  0.22217087 0.56692901 0.48738031 0.84688192 0.49649093 0.46758103 0.45154636 0.65170308 0.14026926 0.17605737 0.12772963 0.31961243 0.19895667 0.67071478 0.65393715 0.46556058 0.24830626 0.68105956 0.28680763 0.31730562 0.70923198 0.6919386  0.82329287 0.32831264]\n",
            " [0.10211135 0.16212982 0.74675741 0.45179333 0.75048778 0.67276126 0.46400031 0.2643641  0.9214085  0.97394829 0.17625944 0.36306633 0.03642862 0.25587947 0.30933328 0.66988803 0.48433483 0.76240085 0.77271227 0.54044569 0.56496366 0.54789051 0.57810359 0.67310964 0.69801231 0.77868113 0.69811386 0.75039152 0.62510111 0.24962179 0.83521296 0.2072316  0.57396947 0.1597721  1.01765985 0.25118127 0.60619615 0.65183556 0.         0.32285834 0.51475112 0.26670088 0.58977231 0.49570242 0.375712   0.70617664 0.54051799 0.49544818 0.79088555 0.13452928 0.68569598 0.33777132 0.7105619  0.49128325 0.65186655 0.91537887 0.51576182 0.75109886 0.23259553 0.10672202 0.41556865 0.336844   0.32408655 0.53392156 0.86686044 0.71695234 0.94232435 0.58764558 0.09661593 0.64986586 0.24711594 0.25068259 0.28605396 0.28533589 0.50944745 0.54883442 0.51913435 0.89493974 0.18325967 0.22709808 0.645157   0.92266958 0.22449631 0.38847941 0.69608516 0.66204911 0.6762417  0.38495465 0.53873561 0.75989074 0.03360369 0.63301339 0.4037842  0.4229226  0.36786909 0.33512322 0.27171527 0.74938925 0.34786304 0.34879067]\n",
            " [0.37132612 0.17108194 0.42690747 0.35792648 0.57726194 0.35341515 0.38885431 0.15995633 0.61497354 0.67817753 0.18203689 0.15411311 0.35782794 0.09632375 0.0605413  0.38627997 0.2950498  0.46497531 0.64177049 0.32492248 0.26195645 0.26035806 0.31025067 0.4481497  0.58855528 0.45980645 0.67090412 0.6388187  0.30875444 0.36559071 0.54883626 0.1641534  0.63081337 0.44130114 0.71552211 0.35899827 0.60421094 0.54883151 0.32285834 0.         0.23582914 0.23677813 0.27170881 0.17425249 0.23452615 0.41427575 0.33595203 0.17276538 0.53436586 0.45235502 0.68882971 0.24846497 0.40221152 0.50035431 0.43461667 0.62088633 0.31468885 0.69379327 0.55434078 0.41905064 0.15397264 0.49614912 0.40506606 0.40429157 0.62712924 0.49275388 0.6336672  0.28340764 0.3266218  0.60986159 0.21558702 0.2200526  0.06291872 0.14926857 0.290017   0.38259345 0.53483324 0.59638281 0.34121332 0.54049448 0.33658776 0.65824492 0.19034592 0.1155187  0.52520052 0.47334499 0.5101931  0.44536605 0.54157208 0.4371379  0.35217836 0.33118111 0.36185306 0.15330886 0.30816817 0.30318999 0.17811435 0.42671873 0.28275319 0.39740694]\n",
            " [0.58560753 0.39115711 0.27371637 0.27700072 0.71475997 0.30379471 0.59838162 0.25877576 0.57418277 0.65769584 0.4109265  0.15773917 0.54446159 0.33165475 0.21404221 0.43399566 0.46786652 0.24840812 0.80090255 0.47086341 0.07490641 0.03575146 0.07489601 0.55968775 0.76386139 0.39041071 0.87504515 0.80898602 0.15706365 0.44091862 0.56177121 0.30986162 0.85766557 0.65619488 0.67714371 0.43237583 0.81919427 0.73078391 0.51475112 0.23582914 0.         0.30166895 0.14297444 0.14354655 0.44631468 0.19147589 0.48805745 0.16127895 0.59622679 0.64927303 0.90155198 0.47301794 0.20756215 0.7231771  0.55587312 0.60876989 0.14444586 0.88558886 0.74383452 0.62008978 0.32199277 0.73158051 0.64032236 0.26951627 0.6982785  0.59780583 0.58450179 0.31792302 0.48080053 0.81293489 0.45119847 0.30188896 0.23777171 0.38164928 0.4420095  0.55161058 0.75733371 0.57784615 0.57260719 0.70217157 0.33950446 0.69440502 0.42598184 0.12994488 0.67029594 0.61229653 0.66045552 0.67826254 0.76086892 0.3308934  0.54774155 0.3551697  0.58341972 0.09241291 0.53140495 0.53227419 0.25984223 0.30386587 0.27728706 0.63077563]\n",
            " [0.36277627 0.23519484 0.56985948 0.18827322 0.80754172 0.5514618  0.58116672 0.07682506 0.82584389 0.89742144 0.27130713 0.14904208 0.28493153 0.26139417 0.17994941 0.61744672 0.52169216 0.54334442 0.86294917 0.55839635 0.3697601  0.33741794 0.34733361 0.68435714 0.80215889 0.65409188 0.85586029 0.85424379 0.44664428 0.14358205 0.77573597 0.10139301 0.77451253 0.42612114 0.9289127  0.13546266 0.77584911 0.75920687 0.26670088 0.23677813 0.30166895 0.         0.41967706 0.35131591 0.43920699 0.48458345 0.56769843 0.36033927 0.76977226 0.39102106 0.86086192 0.43133313 0.50922465 0.66200348 0.67002306 0.84196044 0.25844598 0.89152668 0.47108805 0.37021423 0.38961894 0.57388256 0.5215604  0.26791215 0.86364705 0.72913753 0.84148979 0.50717811 0.19895464 0.79834657 0.35726707 0.02184598 0.17415861 0.33135821 0.5232683  0.60674429 0.69511787 0.81497449 0.40224699 0.41052043 0.55390334 0.89126903 0.32185416 0.20955662 0.75417995 0.70502107 0.73780466 0.57698127 0.70833969 0.61113613 0.29922018 0.55468012 0.53716166 0.22568395 0.48577605 0.46637891 0.05962735 0.59031504 0.08332006 0.53085646]\n",
            " [0.64303281 0.44278325 0.1572385  0.41977287 0.61576504 0.16301988 0.55710728 0.36104542 0.43121279 0.5150297  0.45186782 0.27081263 0.62326921 0.36140793 0.28204929 0.31136714 0.40624276 0.2145912  0.71138381 0.39165834 0.07257761 0.11890663 0.1717924  0.45492183 0.68612529 0.24773501 0.81816109 0.72630534 0.0382147  0.56298587 0.42399971 0.40019351 0.831114   0.71293464 0.53423199 0.55470541 0.7757653  0.65906499 0.58977231 0.27170881 0.14297444 0.41967706 0.         0.09972787 0.41890831 0.18044884 0.4108442  0.10792395 0.47004098 0.72190052 0.85341227 0.45831608 0.13936794 0.69329268 0.45607878 0.46690689 0.28410123 0.81710965 0.82235619 0.68938063 0.28274632 0.74748427 0.6436363  0.40963526 0.57213453 0.48803648 0.44175085 0.20443034 0.57575687 0.7566061  0.4646783  0.41473802 0.30445657 0.38849178 0.36979751 0.47994845 0.72590931 0.43566436 0.60606547 0.79703521 0.20979404 0.55898625 0.44851555 0.21413309 0.57716354 0.51851142 0.5707135  0.67039978 0.72470194 0.19288973 0.62062235 0.23132947 0.55740817 0.1941509  0.51072084 0.52115917 0.36822867 0.17064044 0.41090441 0.62592871]\n",
            " [0.54495593 0.34502006 0.25273394 0.39251179 0.57124958 0.20019838 0.47328186 0.2841845  0.475528   0.55062111 0.35273025 0.20889984 0.53001495 0.26191549 0.19336584 0.29772382 0.33178756 0.30811136 0.6584413  0.32933188 0.11744945 0.14356275 0.20663005 0.41642386 0.62397675 0.30327497 0.74329393 0.66792275 0.13782022 0.4941898  0.43920449 0.31521565 0.74272677 0.61454306 0.57897894 0.48631619 0.6940176  0.59265144 0.49570242 0.17425249 0.14354655 0.35131591 0.09972787 0.         0.32826386 0.26583035 0.34710947 0.01774618 0.46005024 0.62636266 0.77414072 0.36418488 0.23699116 0.6055905  0.41233548 0.49713046 0.28205681 0.74906356 0.72787539 0.59323986 0.19429061 0.64892925 0.54663206 0.40305769 0.56131212 0.45513069 0.49048004 0.18001962 0.48911458 0.68123689 0.3655943  0.3425233  0.213907   0.28967281 0.30202883 0.41265036 0.63893147 0.46845744 0.50633802 0.70830512 0.21264234 0.56631452 0.34885225 0.14241055 0.5271509  0.46900749 0.51771415 0.57583906 0.63960096 0.2681312  0.52573701 0.22207499 0.46754766 0.13938452 0.41876561 0.42660193 0.29495199 0.25432479 0.35980234 0.53047681]\n",
            " [0.35816815 0.2361975  0.54456756 0.58830481 0.38219753 0.40733486 0.15482178 0.36885958 0.59569678 0.63007735 0.20675849 0.38833276 0.40989861 0.17782961 0.29050027 0.33053922 0.10954957 0.63331685 0.42518904 0.16886315 0.44442439 0.46084153 0.52004389 0.29889035 0.36298399 0.49803067 0.43660602 0.41504118 0.45572485 0.53594145 0.48667299 0.3415443  0.41460693 0.41017337 0.6808758  0.53176722 0.37365252 0.3204677  0.375712   0.23452615 0.44631468 0.43920699 0.41890831 0.32826386 0.         0.59388702 0.16609485 0.31464561 0.42338827 0.46296824 0.45715165 0.05239762 0.55766527 0.27803269 0.27683065 0.57214879 0.54668239 0.46017925 0.56341201 0.42760735 0.1362403  0.35369342 0.2399057  0.63860895 0.49275784 0.34198606 0.61994195 0.29362695 0.43464915 0.37539364 0.12998986 0.41838144 0.28100709 0.10926202 0.14270854 0.17712766 0.31182248 0.55786383 0.26695892 0.59682697 0.34930267 0.55564355 0.15201103 0.34549123 0.32742273 0.28799128 0.30881092 0.25492007 0.31456998 0.51351514 0.3890373  0.32524993 0.13928945 0.37957661 0.09226283 0.10984888 0.38876734 0.51956202 0.50300621 0.21421676]\n",
            " [0.77521769 0.57825456 0.16977859 0.40871402 0.78712506 0.30087066 0.73601739 0.44894058 0.51618035 0.60794255 0.59497433 0.3473928  0.7359256  0.51019436 0.40246822 0.47143422 0.58663397 0.05884733 0.88627993 0.57122599 0.15363111 0.15868056 0.13801781 0.62516093 0.86457412 0.33952445 0.99860513 0.90338328 0.1499086  0.61718485 0.55052244 0.50118395 1.00800299 0.84589647 0.61064771 0.60857173 0.955478   0.8386304  0.70617664 0.41427575 0.19147589 0.48458345 0.18044884 0.26583035 0.59388702 0.         0.59056627 0.27928674 0.61979008 0.84070479 1.03362182 0.62976326 0.0756161  0.87054243 0.62893054 0.57104647 0.25762666 0.99679119 0.9351992  0.81132648 0.45883919 0.90781735 0.80950446 0.36271151 0.7193653  0.65441472 0.51804101 0.37706378 0.67062834 0.93705443 0.62412681 0.48772591 0.42640779 0.55008166 0.55011136 0.65999769 0.90359176 0.53837683 0.75540585 0.89102479 0.36751509 0.6877974  0.60291163 0.31931668 0.75158559 0.69321911 0.74645983 0.84098554 0.90328274 0.260662   0.73911008 0.39444796 0.73310927 0.28337192 0.68459414 0.6919368  0.44837822 0.22509847 0.44438678 0.79510555]\n",
            " [0.52337074 0.39340563 0.49591051 0.68926604 0.24134362 0.33488166 0.19116922 0.49208924 0.45825542 0.47918377 0.36784752 0.48199327 0.57517666 0.31760235 0.39646101 0.2007224  0.05654578 0.61673819 0.31433078 0.01975886 0.46005013 0.49064469 0.55373479 0.1328416  0.27710128 0.40075954 0.41138877 0.32097535 0.44108089 0.68101944 0.33618874 0.47845173 0.46133604 0.57256861 0.53351835 0.67586261 0.38328353 0.2482296  0.54051799 0.33595203 0.48805745 0.56769843 0.4108442  0.34710947 0.16609485 0.59056627 0.         0.32968103 0.25987455 0.62849435 0.45312121 0.21227683 0.5367679  0.32949588 0.11142078 0.42304071 0.61480856 0.40627921 0.72806437 0.5932849  0.18380217 0.48354136 0.36911496 0.72412555 0.32675263 0.17644035 0.48391423 0.22350207 0.59384977 0.35118721 0.29604971 0.54874072 0.39558914 0.26119292 0.04733764 0.07034455 0.35570971 0.41362603 0.42781104 0.76281664 0.26199042 0.39151198 0.31603291 0.42350204 0.18999984 0.13752139 0.17649018 0.36047106 0.34620354 0.43942879 0.55485558 0.2316022  0.22978549 0.44802147 0.21642788 0.24953242 0.51131897 0.45607807 0.61870522 0.33430072]\n",
            " [0.54163019 0.34234042 0.25640093 0.40766455 0.55350594 0.19167204 0.45815975 0.29144999 0.4655698  0.53912425 0.34825456 0.22041455 0.53016371 0.25685348 0.19730782 0.28169183 0.31514549 0.31977977 0.64077563 0.3118226  0.1332513  0.16096839 0.22407202 0.39879914 0.60662832 0.296259   0.72700435 0.65041953 0.14609161 0.50259412 0.4254277  0.31966214 0.72874868 0.61081113 0.56878878 0.49483465 0.67865851 0.5755434  0.49544818 0.17276538 0.16127895 0.36033927 0.10792395 0.01774618 0.31464561 0.27928674 0.32968103 0.         0.44382952 0.62502254 0.75842769 0.35190586 0.24687252 0.59138757 0.39461704 0.48503576 0.29930077 0.73213229 0.72710586 0.59151723 0.17971493 0.63956533 0.53597498 0.41979881 0.54488465 0.43764498 0.48118922 0.16396181 0.49232063 0.66498074 0.35693761 0.35067107 0.21673012 0.28066096 0.28477549 0.39549017 0.62457298 0.45680695 0.49970359 0.71034218 0.1990218  0.55140241 0.3416143  0.15293582 0.50942139 0.45126788 0.50002379 0.56385988 0.6248357  0.26551499 0.52494077 0.20698521 0.45383223 0.15331527 0.40567658 0.41455769 0.30311337 0.2539698  0.37206827 0.51891073]\n",
            " [0.78154138 0.63552824 0.47029697 0.85020171 0.22903392 0.31916352 0.42726996 0.69323452 0.25436906 0.23939484 0.61502986 0.65204485 0.82649973 0.54899426 0.58983842 0.16250236 0.31527412 0.62179232 0.3385587  0.25458705 0.53971229 0.58304404 0.64104412 0.135938   0.36517453 0.30859286 0.54227888 0.37609066 0.48274493 0.89914157 0.11812003 0.69516119 0.6579348  0.83224262 0.29843793 0.89281751 0.55725086 0.37023952 0.79088555 0.53436586 0.59622679 0.76977226 0.47004098 0.46005024 0.42338827 0.61979008 0.25987455 0.44382952 0.         0.88616695 0.6011611  0.47163613 0.5480834  0.54605862 0.16106209 0.19269486 0.73975786 0.50025937 0.98678244 0.85068144 0.38902926 0.73414381 0.6223091  0.86266285 0.1022462  0.11038722 0.27993739 0.28004131 0.83372627 0.49682895 0.55196159 0.75406065 0.59722577 0.50582935 0.28249716 0.28710914 0.56310968 0.19847851 0.68762211 1.01628885 0.26024968 0.13232562 0.56791986 0.58468669 0.2308492  0.20133212 0.24263054 0.60433065 0.54577523 0.38232137 0.8080931  0.24119961 0.47897582 0.59473793 0.47428612 0.50838172 0.71028653 0.41408036 0.80248414 0.58550657]\n",
            " [0.10546117 0.28425486 0.87845871 0.56919423 0.81634582 0.79688604 0.51647813 0.39729985 1.03618875 1.08291278 0.28774676 0.49698106 0.10714193 0.37633161 0.44295595 0.77814881 0.5720905  0.89690905 0.82169543 0.63180563 0.69903968 0.68240995 0.71223866 0.76071596 0.7426671  0.90188756 0.71005311 0.79301065 0.75772691 0.33831354 0.94153633 0.34109023 0.55893485 0.08531662 1.12947148 0.34263804 0.61432051 0.69693105 0.13452928 0.45235502 0.64927303 0.39102106 0.72190052 0.62636266 0.46296824 0.84070479 0.62849435 0.62502254 0.88616695 0.         0.68566909 0.4168114  0.84450145 0.5066145  0.73774536 1.02430879 0.64572718 0.77223145 0.10410023 0.0358268  0.52810806 0.30255938 0.33718264 0.65352304 0.95391421 0.80259734 1.05817103 0.70533989 0.19603449 0.67036263 0.33444143 0.37745659 0.41944209 0.39067961 0.60407157 0.62394095 0.52822624 1.00599384 0.2111666  0.15190421 0.76373408 1.01847833 0.32259829 0.52284722 0.76360067 0.73760171 0.74304156 0.39401323 0.55121652 0.88764019 0.10189764 0.74894787 0.45308915 0.55744628 0.43051631 0.39494414 0.40325074 0.87879696 0.46832163 0.37136943]\n",
            " [0.60336758 0.62681425 0.94898777 1.03078123 0.38365835 0.78741622 0.30325277 0.8018164  0.85298633 0.8370154  0.59034295 0.84022288 0.70472231 0.61401604 0.74069202 0.6359023  0.44743787 1.06499415 0.29603485 0.47282295 0.89155084 0.91330229 0.97417715 0.48773325 0.23931344 0.84390445 0.06456673 0.24904843 0.88675089 0.91826062 0.71600334 0.75960746 0.13867662 0.60088477 0.8966008  0.91698121 0.08537255 0.23169535 0.68569598 0.68882971 0.90155198 0.86086192 0.85341227 0.77414072 0.45715165 1.03362182 0.45312121 0.75842769 0.6011611  0.68566909 0.         0.44169348 0.98564035 0.19951711 0.46837039 0.79374929 1.00302826 0.13719699 0.74559111 0.66340079 0.58120874 0.38875419 0.36164011 1.08900248 0.5893295  0.49380681 0.87907335 0.6764884  0.77749642 0.10609396 0.50392305 0.83901729 0.72709267 0.54501485 0.48711927 0.38327825 0.16801963 0.79844901 0.50269912 0.83599845 0.71345713 0.69136326 0.53924733 0.80203023 0.37034619 0.40720718 0.35922879 0.30077195 0.15256807 0.89037966 0.67627817 0.6826301  0.32869878 0.83666224 0.38245285 0.39588375 0.82104169 0.90865616 0.93592972 0.33910495]\n",
            " [0.31147479 0.21201431 0.58957646 0.59149578 0.41320214 0.45668663 0.14984257 0.3655983  0.64803572 0.68160612 0.17858496 0.39856411 0.37060921 0.1740372  0.29900282 0.38283915 0.15636535 0.67168094 0.44474207 0.21732875 0.47808601 0.49056181 0.5476358  0.34397616 0.37651964 0.54906697 0.42835965 0.42935871 0.49579542 0.51633688 0.53808894 0.33089252 0.38475566 0.36065707 0.73278219 0.51288056 0.3566423  0.33181293 0.33777132 0.24846497 0.47301794 0.43133313 0.45831608 0.36418488 0.05239762 0.62976326 0.21227683 0.35190586 0.47163613 0.4168114  0.44169348 0.         0.59763819 0.25209354 0.32093458 0.62381576 0.56313737 0.46030524 0.51582587 0.38185757 0.1786808  0.30315124 0.19073018 0.6474568  0.53712134 0.38582346 0.67231392 0.34409735 0.4042304  0.36903217 0.09135904 0.40985942 0.28572479 0.10372944 0.19345579 0.21122133 0.28655002 0.6099016  0.21644685 0.55444388 0.40042957 0.60360511 0.12103145 0.36327631 0.35862389 0.32482011 0.33899785 0.21208372 0.29317687 0.5622317  0.34810383 0.37692838 0.11348277 0.39961821 0.05970723 0.06293909 0.38532752 0.56691712 0.50070551 0.16831801]\n",
            " [0.77156687 0.57175739 0.0951603  0.45837348 0.72278521 0.23070106 0.6929253  0.46359455 0.4411058  0.53266827 0.58415983 0.36404625 0.74233781 0.49539114 0.40160277 0.40377843 0.53844089 0.08007312 0.82432733 0.51712929 0.14575845 0.1718108  0.17858016 0.56086932 0.80694212 0.26392884 0.94755534 0.84368304 0.10195595 0.64768427 0.47575136 0.51100216 0.96847273 0.84204392 0.5365301  0.63910828 0.90974488 0.78338383 0.7105619  0.40221152 0.20756215 0.50922465 0.13936794 0.23699116 0.55766527 0.0756161  0.5367679  0.24687252 0.5480834  0.84450145 0.98564035 0.59763819 0.         0.83053785 0.56634775 0.49543629 0.30729894 0.94150104 0.94235647 0.81337488 0.42142505 0.88591521 0.78283857 0.42187717 0.64676375 0.58791124 0.44357415 0.31718204 0.68493644 0.88661744 0.60252553 0.50921352 0.42525392 0.52666396 0.49897693 0.606932   0.86277245 0.4627667  0.74125673 0.90696871 0.30071508 0.61288603 0.58488925 0.32295997 0.68965411 0.63178824 0.68577686 0.80971762 0.86065318 0.18507844 0.74262126 0.3291163  0.69570352 0.29199237 0.64966077 0.66050008 0.46624662 0.14954756 0.47998301 0.76529664]\n",
            " [0.41571777 0.42752732 0.80740421 0.83431512 0.37760641 0.65535209 0.14140653 0.60455083 0.77846027 0.78398747 0.39109487 0.64847397 0.51285875 0.41976166 0.54889429 0.52957221 0.30269093 0.90779688 0.34104367 0.34709121 0.72223091 0.73869975 0.79734997 0.41309433 0.2599418  0.72932402 0.20700086 0.30305142 0.72909632 0.7194966  0.64730915 0.5609084  0.13794827 0.42457859 0.84194125 0.71804672 0.11599822 0.22026343 0.49128325 0.50035431 0.7231771  0.66200348 0.69329268 0.6055905  0.27803269 0.87054243 0.32949588 0.59138757 0.54605862 0.5066145  0.19951711 0.25209354 0.83053785 0.         0.38885998 0.73244766 0.81485476 0.26562386 0.57931729 0.48051067 0.41171094 0.23417578 0.17078244 0.89516693 0.56894317 0.43672794 0.80464112 0.53954381 0.58098542 0.16377986 0.30587604 0.64015873 0.533715   0.35284561 0.34888664 0.27062888 0.03448128 0.72907472 0.31022869 0.65851314 0.58629633 0.66178261 0.34099475 0.61535389 0.33856213 0.34679061 0.31971273 0.11265753 0.04772133 0.76214318 0.48471486 0.55709543 0.13977381 0.65166651 0.19257819 0.19989446 0.62354663 0.77461177 0.73798647 0.14249411]\n",
            " [0.632387   0.50431676 0.50860486 0.77940356 0.15998307 0.34283382 0.26629289 0.59358276 0.39224399 0.39561832 0.47920044 0.57306355 0.68643135 0.42613753 0.49438157 0.1739016  0.16756275 0.64572614 0.2579942  0.11434835 0.51560805 0.55223475 0.61474337 0.02512747 0.25018953 0.38038277 0.41555941 0.27996659 0.48014456 0.78808943 0.25878452 0.58431293 0.50754351 0.67918352 0.45320669 0.78264126 0.41320854 0.23932516 0.65186655 0.43461667 0.55587312 0.67002306 0.45607878 0.41233548 0.27683065 0.62893054 0.11142078 0.39461704 0.16106209 0.73774536 0.46837039 0.32093458 0.56634775 0.38885998 0.         0.3435883  0.69133708 0.38984805 0.83624866 0.70276665 0.28070166 0.57321649 0.46191175 0.80679689 0.21622632 0.06515592 0.41854307 0.25233802 0.70477534 0.36227913 0.40678933 0.65188342 0.49623943 0.37209149 0.14880131 0.12608464 0.40839321 0.34108311 0.53411206 0.87362933 0.26814171 0.28822366 0.42740577 0.51036001 0.12344817 0.06702482 0.12188898 0.44329882 0.39302846 0.4362611  0.66585743 0.23819192 0.31829001 0.52992753 0.31665287 0.35154284 0.61230817 0.46017161 0.7157968  0.42481941]\n",
            " [0.92277191 0.75397781 0.40271816 0.88286835 0.41732121 0.30508417 0.60618247 0.76901389 0.07679189 0.05863426 0.74051994 0.70545029 0.95177425 0.66132525 0.66706122 0.24620384 0.47262106 0.55488914 0.52407945 0.41190495 0.5391089  0.58563985 0.63298303 0.31950306 0.55691356 0.23195515 0.73446464 0.56438911 0.46413699 0.9812445  0.08686635 0.78473482 0.84864493 0.98008245 0.11059718 0.97394426 0.74938714 0.56293416 0.91537887 0.62088633 0.60876989 0.84196044 0.46690689 0.49713046 0.57214879 0.57104647 0.42304071 0.48503576 0.19269486 1.02430879 0.79374929 0.62381576 0.49543629 0.73244766 0.3435883  0.         0.75099867 0.68995056 1.12757399 0.98848261 0.49982275 0.90653088 0.79213601 0.87650152 0.23231382 0.3020169  0.09711079 0.33758996 0.94232122 0.68952318 0.69294263 0.83000147 0.68041569 0.63395326 0.43078854 0.46564596 0.7515408  0.03266964 0.83869948 1.14236918 0.2880575  0.14622205 0.7017331  0.63780151 0.42340335 0.39236099 0.43530308 0.78128667 0.73531716 0.31042535 0.93719113 0.28974186 0.65194257 0.63595793 0.63834074 0.66993368 0.78311365 0.34603942 0.85690066 0.75723102]\n",
            " [0.60320361 0.43037958 0.39200926 0.1515877  0.84835699 0.44672408 0.70149988 0.25430353 0.71306756 0.79856444 0.45897369 0.17158179 0.53865265 0.39923586 0.26822425 0.5773198  0.5874173  0.31440705 0.92913898 0.59897612 0.21200087 0.16545202 0.12938683 0.69703297 0.88605938 0.52821434 0.98289884 0.93345919 0.29053122 0.37315558 0.7059352  0.31318672 0.94388902 0.67109085 0.81511909 0.364697   0.91864286 0.84996706 0.51576182 0.31468885 0.14444586 0.25844598 0.28410123 0.28205681 0.54668239 0.25762666 0.61480856 0.29930077 0.73975786 0.64572718 1.00302826 0.56313737 0.30729894 0.81485476 0.69133708 0.75099867 0.         1.00083692 0.72919007 0.62200398 0.43769164 0.78511874 0.7082925  0.12557118 0.84163061 0.73666311 0.72177672 0.4604431  0.45705378 0.92131073 0.52078732 0.2690948  0.28682915 0.46244287 0.56770649 0.67405463 0.84933563 0.71968017 0.61616192 0.66696576 0.48390309 0.83884152 0.48979565 0.20119228 0.80158318 0.74453764 0.79022797 0.75416958 0.85626052 0.46263731 0.54925478 0.49902283 0.67654191 0.16898848 0.62284409 0.61659997 0.24439431 0.43212344 0.1979572  0.70591278]\n",
            " [0.6804021  0.66520666 0.89329864 1.04829743 0.27265975 0.72796516 0.31050261 0.82542559 0.75462836 0.72842237 0.62920871 0.84790082 0.77494031 0.63316145 0.750644   0.56357795 0.41786644 1.02157341 0.1708824  0.42556711 0.86438152 0.89210853 0.95475878 0.40454364 0.13986255 0.76999964 0.0767198  0.12643836 0.84716189 0.96728781 0.61800623 0.79074781 0.26401541 0.68991391 0.7877214  0.96486167 0.16596301 0.15820786 0.75109886 0.69379327 0.88558886 0.89152668 0.81710965 0.74906356 0.46017925 0.99679119 0.40627921 0.73213229 0.50025937 0.77223145 0.13719699 0.46030524 0.94150104 0.26562386 0.38984805 0.68995056 1.00083692 0.         0.84298694 0.7459919  0.56488418 0.49020299 0.43595067 1.09803986 0.47292189 0.39996412 0.78014484 0.62494507 0.83689454 0.10205635 0.53853006 0.86998044 0.74090301 0.56227618 0.44832259 0.33749174 0.24599394 0.69860432 0.57334738 0.92412522 0.6527197  0.57579242 0.57341991 0.80084527 0.27457867 0.32347431 0.26958109 0.37822791 0.22182617 0.82524455 0.74717049 0.62188382 0.35754718 0.83190664 0.40648871 0.43003251 0.84523737 0.84762662 0.9604617  0.40489929]\n",
            " [0.20554113 0.38766034 0.97929635 0.63886902 0.90762902 0.90059213 0.60564937 0.48772671 1.14012237 1.18615111 0.39184458 0.58887885 0.20002027 0.4801689  0.54170042 0.88149982 0.67190613 0.99215845 0.90582765 0.73220378 0.7966267  0.77771687 0.80408476 0.85962208 0.82555308 1.00574375 0.77658938 0.87445138 0.85768407 0.39301789 1.04444085 0.43401589 0.61243102 0.1606528  1.23308417 0.39899172 0.68047101 0.78051523 0.23259553 0.55434078 0.74383452 0.47108805 0.82235619 0.72787539 0.56341201 0.9351992  0.72806437 0.72710586 0.98678244 0.10410023 0.74559111 0.51582587 0.94235647 0.57931729 0.83624866 1.12757399 0.72919007 0.84298694 0.         0.13967041 0.63209376 0.35685354 0.41542829 0.72427009 1.05206498 0.90078157 1.16217289 0.80943975 0.27216888 0.74225343 0.43617435 0.4602986  0.51854802 0.49436099 0.70532697 0.71981593 0.59701193 1.10956082 0.30371028 0.11512405 0.86783269 1.11899362 0.42589654 0.61963121 0.85584926 0.83287291 0.83516098 0.46750071 0.62123648 0.99054455 0.20217467 0.85300684 0.5422783  0.65288858 0.52475308 0.48901681 0.49134068 0.98105075 0.54288068 0.45223206]\n",
            " [0.0713485  0.24995144 0.84563562 0.55199883 0.78336329 0.76205813 0.48452389 0.37108611 1.00047902 1.04708628 0.25235943 0.46954462 0.08590544 0.34145035 0.4118055  0.74232429 0.53683977 0.86710244 0.79094099 0.59640319 0.66817645 0.65278825 0.68434052 0.72563156 0.71241439 0.86688889 0.68540773 0.76316309 0.72548072 0.3299244  0.90571777 0.31382447 0.53950454 0.07195665 1.09367088 0.33345683 0.59011276 0.66651612 0.10672202 0.41905064 0.62008978 0.37021423 0.68938063 0.59323986 0.42760735 0.81132648 0.5932849  0.59151723 0.85068144 0.0358268  0.66340079 0.38185757 0.81337488 0.48051067 0.70276665 0.98848261 0.62200398 0.7459919  0.13967041 0.         0.49242822 0.28559114 0.31009727 0.63548544 0.91897322 0.76768101 1.02250532 0.66986138 0.18110806 0.64397058 0.29883839 0.3553744  0.38812097 0.35488104 0.56849515 0.58972877 0.5034379  0.9701866  0.1793964  0.18038872 0.72830023 0.98300128 0.28677182 0.49268132 0.73036367 0.70349486 0.70985828 0.36829584 0.52588135 0.8534699  0.07312854 0.71334338 0.42128063 0.52795526 0.39703656 0.36159524 0.37825284 0.8450837  0.44953778 0.34298982]\n",
            " [0.4301705  0.25429445 0.4109492  0.50553605 0.42486639 0.28449679 0.27924976 0.31302104 0.50811541 0.55838252 0.24146874 0.29830179 0.45197331 0.1627124  0.2140313  0.25479998 0.14985734 0.49725256 0.49509463 0.17154734 0.31153599 0.33214166 0.3934344  0.29475038 0.44850733 0.38338577 0.55310922 0.496558   0.31948644 0.51210694 0.42044404 0.30758141 0.54919342 0.49298227 0.60259435 0.50615012 0.50024918 0.41238086 0.41556865 0.15397264 0.32199277 0.38961894 0.28274632 0.19429061 0.1362403  0.45883919 0.18380217 0.17971493 0.38902926 0.52810806 0.58120874 0.1786808  0.42142505 0.41171094 0.28070166 0.49982275 0.43769164 0.56488418 0.63209376 0.49242822 0.         0.47843812 0.36853922 0.5425451  0.47765472 0.33959958 0.53008048 0.17968513 0.4472895  0.49098775 0.20994342 0.37188713 0.21561336 0.13926593 0.13701216 0.23716171 0.44485846 0.47956608 0.36156656 0.64254834 0.23841442 0.51724574 0.20894777 0.24148294 0.37378975 0.32048088 0.35982244 0.38971898 0.44531035 0.38754049 0.43792905 0.22124502 0.274747   0.26895751 0.2283213  0.24144221 0.33164208 0.38988631 0.43608326 0.34693214]\n",
            " [0.2385152  0.35505153 0.88764579 0.7612203  0.59948769 0.75973265 0.30881886 0.53910983 0.93969005 0.96230828 0.32650266 0.61410218 0.34481592 0.39997576 0.52379016 0.6759144  0.43647289 0.95531603 0.57419007 0.49558602 0.7542269  0.75640577 0.8054135  0.59833223 0.49282387 0.85171965 0.4212359  0.53714348 0.78565564 0.58607039 0.81966567 0.483292   0.25733767 0.21733993 1.01704579 0.58718468 0.32547911 0.45106484 0.336844   0.49614912 0.73158051 0.57388256 0.74748427 0.64892925 0.35369342 0.90781735 0.48354136 0.63956533 0.73414381 0.30255938 0.38875419 0.30315124 0.88591521 0.23417578 0.57321649 0.90653088 0.78511874 0.49020299 0.35685354 0.28559114 0.47843812 0.         0.11540077 0.83594076 0.77572965 0.63134507 0.96487453 0.64713196 0.43344405 0.39166676 0.28389546 0.55352489 0.50211755 0.35927424 0.48168795 0.44714702 0.24552712 0.8968483  0.1720116  0.44979376 0.70298716 0.85997101 0.30581857 0.60532253 0.55407559 0.54799726 0.53378685 0.1344827  0.27064362 0.86489088 0.31716877 0.67855233 0.25543161 0.64455678 0.27129715 0.24454425 0.55441934 0.86831512 0.65688076 0.14933338]\n",
            " [0.24496395 0.28861608 0.77931972 0.7034955  0.5018927  0.64704427 0.20225958 0.47451805 0.82444332 0.84824148 0.25455139 0.53692735 0.34355616 0.3114648  0.44110399 0.56052589 0.32123301 0.854595   0.49095672 0.38068454 0.65610591 0.66248426 0.71503572 0.48694178 0.41033765 0.73751006 0.37713408 0.45902367 0.68158543 0.56113219 0.70529502 0.42364552 0.25527169 0.25711498 0.90256544 0.56055804 0.28328876 0.36564478 0.32408655 0.40506606 0.64032236 0.5215604  0.6436363  0.54663206 0.2399057  0.80950446 0.36911496 0.53597498 0.6223091  0.33718264 0.36164011 0.19073018 0.78283857 0.17078244 0.46191175 0.79213601 0.7082925  0.43595067 0.41542829 0.31009727 0.36853922 0.11540077 0.         0.77229854 0.66863175 0.52173363 0.84958088 0.53351232 0.41670764 0.33390739 0.18962885 0.50006654 0.42151727 0.25989645 0.36630535 0.33628778 0.19599863 0.78196985 0.14109776 0.48899405 0.58879658 0.74976544 0.21862364 0.51858893 0.45332597 0.44137371 0.4326777  0.06087085 0.21707298 0.75286059 0.31521108 0.56391731 0.14386115 0.55741333 0.15589759 0.13013509 0.49193338 0.7576032  0.60202861 0.03876039]\n",
            " [0.63068144 0.48465942 0.51097742 0.08548999 0.96156967 0.5722949  0.79227124 0.29821805 0.83777956 0.92378922 0.51780031 0.25027712 0.54961961 0.4754937  0.34890883 0.70016593 0.69189119 0.41482015 1.03747796 0.709448   0.33741521 0.29087109 0.24932631 0.81403023 0.98966284 0.65281724 1.07420541 1.03864475 0.41497508 0.33851802 0.83127145 0.3526698  1.01818043 0.69362692 0.93945329 0.33111175 1.00378581 0.9514051  0.53392156 0.40429157 0.26951627 0.26791215 0.40963526 0.40305769 0.63860895 0.36271151 0.72412555 0.41979881 0.86266285 0.65352304 1.08900248 0.6474568  0.42187717 0.89516693 0.80679689 0.87650152 0.12557118 1.09803986 0.72427009 0.63548544 0.5425451  0.83594076 0.77229854 0.         0.96421338 0.85483409 0.84595466 0.58274692 0.4576792  1.01354869 0.59200418 0.28600117 0.36192836 0.54398843 0.67678818 0.77957491 0.92941705 0.84512671 0.6639973  0.6456195  0.60844802 0.96373095 0.55828788 0.3010674  0.9130719  0.85710352 0.90054139 0.82329527 0.9389123  0.58558028 0.56590675 0.62262009 0.76031747 0.27708162 0.70655061 0.69527283 0.28183494 0.55410312 0.1861176  0.77548938]\n",
            " [0.84852541 0.71617396 0.56599614 0.95020087 0.20591986 0.41954143 0.46728699 0.78686622 0.30652258 0.26007708 0.69283521 0.75022892 0.90173346 0.63348866 0.68412327 0.26432604 0.38325225 0.71893872 0.302617   0.32652954 0.64194141 0.68528553 0.74324976 0.19391383 0.35035585 0.39898562 0.5266577  0.34661259 0.58421175 0.98973001 0.18737699 0.78522358 0.66588778 0.89434656 0.3181152  0.98370695 0.55902935 0.36797409 0.86686044 0.62712924 0.6982785  0.86364705 0.57213453 0.56131212 0.49275784 0.7193653  0.32675263 0.54488465 0.1022462  0.95391421 0.5893295  0.53712134 0.64676375 0.56894317 0.21622632 0.23231382 0.84163061 0.47292189 1.05206498 0.91897322 0.47765472 0.77572965 0.66863175 0.96421338 0.         0.15132942 0.32904017 0.38146758 0.91614421 0.49044055 0.62274678 0.84717836 0.6900246  0.58447835 0.35861556 0.33488353 0.58042393 0.25079379 0.74931575 1.08956027 0.36237569 0.10287055 0.6424042  0.68337821 0.23172692 0.22773994 0.24956991 0.64232708 0.56005718 0.47580042 0.88160168 0.34338769 0.52517283 0.69483791 0.52999935 0.56538868 0.80444939 0.50888461 0.89965971 0.63044934]\n",
            " [0.69720113 0.56867967 0.5218566  0.83159154 0.13943133 0.35863962 0.32273779 0.65244238 0.35918461 0.34977899 0.54399669 0.6266417  0.75155782 0.48912198 0.5518155  0.18446214 0.23269454 0.66583487 0.24863058 0.17815932 0.5517895  0.59101578 0.65251785 0.04520258 0.26164159 0.37797556 0.43648756 0.28001709 0.50838371 0.84976206 0.22221681 0.64554396 0.54755562 0.74328584 0.4087637  0.84414176 0.44737149 0.26217411 0.71695234 0.49275388 0.59780583 0.72913753 0.48803648 0.45513069 0.34198606 0.65441472 0.17644035 0.43764498 0.11038722 0.80259734 0.49380681 0.38582346 0.58791124 0.43672794 0.06515592 0.3020169  0.73666311 0.39996412 0.90078157 0.76768101 0.33959958 0.63134507 0.52173363 0.85483409 0.15132942 0.         0.38526703 0.2842251  0.76909109 0.38866008 0.47194061 0.71148553 0.55501303 0.43651591 0.21182111 0.18574786 0.45305555 0.30480447 0.59822335 0.9387773  0.28729473 0.22869333 0.49247233 0.56226814 0.125729   0.09095647 0.13461595 0.49961899 0.43547914 0.44225047 0.7310132  0.26001073 0.37787469 0.57922142 0.37960112 0.4148009  0.67084645 0.46968832 0.77194878 0.48406897]\n",
            " [0.95965937 0.78021494 0.34846459 0.86147569 0.50825589 0.290396   0.67280625 0.77197433 0.02630214 0.09864879 0.77098959 0.69853052 0.97869614 0.68644506 0.67351015 0.28979143 0.52841108 0.49375448 0.61657404 0.4701479  0.51122698 0.55731693 0.59765216 0.39596963 0.64481932 0.19409595 0.82130686 0.65552679 0.43124579 0.98369773 0.16310272 0.79460968 0.92608072 1.02052392 0.09369793 0.97598035 0.83029706 0.64742826 0.94232435 0.6336672  0.58450179 0.84148979 0.44175085 0.49048004 0.61994195 0.51804101 0.48391423 0.48118922 0.27993739 1.05817103 0.87907335 0.67231392 0.44357415 0.80464112 0.41854307 0.09711079 0.72177672 0.78014484 1.16217289 1.02250532 0.53008048 0.96487453 0.84958088 0.84595466 0.32904017 0.38526703 0.         0.3547564  0.95980999 0.77383907 0.73330919 0.83173077 0.68956079 0.66844125 0.48348608 0.53450721 0.82601803 0.08158588 0.88282935 1.1677583  0.2980527  0.24215826 0.73776222 0.63287041 0.50968245 0.47336711 0.51985802 0.84435826 0.81137614 0.26222663 0.96655383 0.30953164 0.71343347 0.62507202 0.6939409  0.72334499 0.78421143 0.29615897 0.84696084 0.816466  ]\n",
            " [0.60909837 0.42558247 0.2725178  0.57130837 0.41161332 0.11615179 0.39818746 0.43289709 0.33435754 0.39477039 0.41762134 0.37791088 0.62399746 0.33178429 0.3301174  0.11773656 0.2370443  0.39718554 0.50923334 0.20375667 0.26773552 0.30805587 0.36880692 0.25049806 0.48977443 0.20548344 0.63451846 0.52688216 0.22785856 0.64463111 0.26856478 0.44714755 0.67583568 0.67256775 0.43311153 0.63748899 0.60497175 0.46707928 0.58764558 0.28340764 0.31792302 0.50717811 0.20443034 0.18001962 0.29362695 0.37706378 0.22350207 0.16396181 0.28004131 0.70533989 0.6764884  0.34409735 0.31718204 0.53954381 0.25233802 0.33758996 0.4604431  0.62494507 0.80943975 0.66986138 0.17968513 0.64713196 0.53351232 0.58274692 0.38146758 0.2842251  0.3547564  0.         0.60700806 0.57462236 0.38893927 0.4941444  0.34289138 0.31884596 0.19208744 0.29372514 0.56906897 0.31303471 0.54056763 0.81302557 0.05874757 0.38909783 0.38851258 0.30974215 0.37457041 0.31615892 0.36948758 0.5440589  0.56284957 0.22331074 0.61226639 0.04788167 0.41676276 0.31614447 0.38147205 0.40339362 0.44782214 0.23528617 0.52992659 0.50653017]\n",
            " [0.19718791 0.20046241 0.73237396 0.37318855 0.81601588 0.67928281 0.54109706 0.22202495 0.94060612 1.00034811 0.22790772 0.32335654 0.09664993 0.28505409 0.29578777 0.70063153 0.53923646 0.72859012 0.84718825 0.59094042 0.53995748 0.51578255 0.53652494 0.72428448 0.7752181  0.78559629 0.78696792 0.82801358 0.60832773 0.15371251 0.86605223 0.17560808 0.66881273 0.24666156 1.04011947 0.15585787 0.69663466 0.72933929 0.09661593 0.3266218  0.48080053 0.19895464 0.57575687 0.48911458 0.43464915 0.67062834 0.59384977 0.49232063 0.83372627 0.19603449 0.77749642 0.4042304  0.68493644 0.58098542 0.70477534 0.94232122 0.45705378 0.83689454 0.27216888 0.18110806 0.4472895  0.43344405 0.41670764 0.4576792  0.91614421 0.76909109 0.95980999 0.60700806 0.         0.73659574 0.31328664 0.18843522 0.27559067 0.33269558 0.55780317 0.61148179 0.6100529  0.91940459 0.27717601 0.22213345 0.66204028 0.96366998 0.28406564 0.3638846  0.76124016 0.72244711 0.74209061 0.47738575 0.62866395 0.75722095 0.11988659 0.65417542 0.48370374 0.39294418 0.44264495 0.41247952 0.22257923 0.74244684 0.27311744 0.43886919]\n",
            " [0.57835938 0.56897842 0.84679247 0.96019985 0.28470061 0.68409414 0.22130162 0.73446585 0.74770063 0.73393848 0.53269622 0.76337605 0.67327956 0.54302951 0.66477705 0.53034358 0.35070007 0.96633289 0.21031484 0.37094593 0.79820218 0.82244365 0.88423393 0.3816896  0.14123721 0.73844834 0.06212997 0.16471957 0.78893804 0.86919691 0.61085873 0.69712493 0.18701032 0.58831251 0.79348623 0.86703021 0.07719706 0.12660668 0.64986586 0.60986159 0.81293489 0.79834657 0.7566061  0.68123689 0.37539364 0.93705443 0.35118721 0.66498074 0.49682895 0.67036263 0.10609396 0.36903217 0.88661744 0.16377986 0.36227913 0.68952318 0.92131073 0.10205635 0.74225343 0.64397058 0.49098775 0.39166676 0.33390739 1.01354869 0.49044055 0.38866008 0.77383907 0.57462236 0.73659574 0.         0.44268991 0.77664754 0.6533861  0.47241018 0.38770581 0.28089993 0.14619241 0.69345731 0.47144754 0.82226573 0.60971375 0.59144356 0.47792292 0.72024296 0.2664918  0.30134218 0.25432811 0.27643648 0.12132372 0.7861809  0.64543435 0.57880546 0.26149508 0.75316957 0.31266194 0.33341861 0.75412938 0.80524054 0.86953973 0.3029588 ]\n",
            " [0.2306559  0.12669517 0.60883417 0.5288015  0.50451835 0.49380567 0.231954   0.29876708 0.71013574 0.75137356 0.09099393 0.35024775 0.28062121 0.12213306 0.25270582 0.44767757 0.23951405 0.67142737 0.53437315 0.29805038 0.4705002  0.47429776 0.52577634 0.42886964 0.46407739 0.59331096 0.49913947 0.5169864  0.50289221 0.43039251 0.60894878 0.25589291 0.42624081 0.28757165 0.79988596 0.42747642 0.41876038 0.41867125 0.24711594 0.21558702 0.45119847 0.35726707 0.4646783  0.3655943  0.12998986 0.62412681 0.29604971 0.35693761 0.55196159 0.33444143 0.50392305 0.09135904 0.60252553 0.30587604 0.40678933 0.69294263 0.52078732 0.53853006 0.43617435 0.29883839 0.20994342 0.28389546 0.18962885 0.59200418 0.62274678 0.47194061 0.73330919 0.38893927 0.31328664 0.44268991 0.         0.33544341 0.23427754 0.07648039 0.26966093 0.30181008 0.33956625 0.67630713 0.15166266 0.46684422 0.447466   0.68428694 0.03542117 0.32900668 0.44990447 0.41493322 0.43033034 0.23343808 0.35158122 0.5949959  0.259188   0.42812382 0.18128772 0.36779169 0.13305478 0.10940857 0.31768777 0.59438631 0.43216503 0.1851909 ]\n",
            " [0.34507349 0.21341343 0.56682822 0.20790272 0.78813406 0.54225072 0.55967479 0.06132859 0.81559368 0.88585556 0.24949338 0.14596618 0.27073522 0.24055538 0.16496428 0.60309084 0.50211091 0.54630104 0.84250879 0.53979179 0.36779273 0.33758294 0.35142344 0.66659959 0.78125725 0.64576397 0.83409721 0.83341421 0.44301788 0.15197369 0.76254158 0.07959733 0.75283356 0.40947984 0.91839049 0.14433428 0.7540079  0.73817098 0.25068259 0.2200526  0.30188896 0.02184598 0.41473802 0.3425233  0.41838144 0.48772591 0.54874072 0.35067107 0.75406065 0.37745659 0.83901729 0.40985942 0.50921352 0.64015873 0.65188342 0.83000147 0.2690948  0.86998044 0.4602986  0.3553744  0.37188713 0.55352489 0.50006654 0.28600117 0.84717836 0.71148553 0.83173077 0.4941444  0.18843522 0.77664754 0.33544341 0.         0.1571553  0.31025778 0.50466035 0.58677961 0.67327872 0.80343458 0.38172595 0.40431263 0.54206276 0.87653586 0.3000284  0.20220569 0.73461721 0.68591578 0.71807801 0.55532717 0.68649415 0.6050446  0.28361776 0.54182172 0.51541838 0.22176824 0.4641131  0.44457917 0.04757957 0.58525798 0.10336396 0.50913469]\n",
            " [0.34883313 0.15365277 0.46168273 0.30739452 0.63648928 0.40495092 0.43224331 0.09743143 0.67168132 0.73729382 0.17630968 0.11598081 0.31899643 0.11409244 0.02394738 0.44819165 0.35212925 0.48072935 0.69736877 0.3854261  0.28019271 0.26800173 0.30823713 0.51027743 0.64114322 0.51099046 0.71347844 0.69221249 0.33924793 0.30333615 0.60981666 0.10505759 0.6593384  0.41951915 0.77311789 0.29660127 0.64186061 0.60007825 0.28605396 0.06291872 0.23777171 0.17415861 0.30445657 0.213907   0.28100709 0.42640779 0.39558914 0.21673012 0.59722577 0.41944209 0.72709267 0.28572479 0.42525392 0.533715   0.49623943 0.68041569 0.28682915 0.74090301 0.51854802 0.38812097 0.21561336 0.50211755 0.42151727 0.36192836 0.6900246  0.55501303 0.68956079 0.34289138 0.27559067 0.6533861  0.23427754 0.1571553  0.         0.18210872 0.35036021 0.43884671 0.56806165 0.65520199 0.337604   0.49443895 0.39425765 0.72072134 0.20296836 0.10782727 0.58381534 0.53310983 0.56820267 0.46770659 0.57708814 0.48181066 0.31764658 0.39077205 0.39839763 0.14615354 0.34465404 0.3339218  0.1160855  0.46799368 0.22476893 0.4194653 ]\n",
            " [0.29124554 0.13223336 0.5324168  0.48786419 0.48923247 0.4202702  0.25204985 0.26319345 0.64605191 0.69258278 0.10921227 0.29578838 0.32123498 0.07088531 0.19615477 0.38775161 0.20710354 0.5963883  0.5344262  0.25844391 0.39652276 0.40280383 0.45652892 0.39183464 0.47120355 0.52143005 0.53199773 0.52353582 0.42669773 0.42711234 0.55201256 0.23266754 0.48177995 0.35373238 0.73879189 0.42279866 0.45981982 0.42792337 0.28533589 0.14926857 0.38164928 0.33135821 0.38849178 0.28967281 0.10926202 0.55008166 0.26119292 0.28066096 0.50582935 0.39067961 0.54501485 0.10372944 0.52666396 0.35284561 0.37209149 0.63395326 0.46244287 0.56227618 0.49436099 0.35488104 0.13926593 0.35927424 0.25989645 0.54398843 0.58447835 0.43651591 0.66844125 0.31884596 0.33269558 0.47241018 0.07648039 0.31025778 0.18210872 0.         0.22587541 0.28426231 0.38729876 0.61532352 0.22512355 0.51176007 0.37759259 0.63742832 0.06968255 0.26476902 0.43461111 0.39194762 0.41651845 0.29681095 0.39544131 0.5201111  0.304382   0.36031588 0.21634857 0.30246007 0.16256224 0.1542099  0.2830355  0.51865984 0.3981886  0.24915854]\n",
            " [0.49983839 0.35762094 0.46366948 0.64222061 0.28785562 0.30702999 0.20759467 0.44727098 0.45853744 0.4883675  0.33448361 0.43493911 0.54477433 0.27743701 0.35042797 0.19423052 0.04723781 0.57863723 0.36147196 0.03513214 0.41625271 0.44556945 0.5085791  0.16675168 0.32206666 0.38215399 0.44887965 0.36708478 0.401403   0.63939447 0.34477919 0.43587018 0.4842765  0.55286532 0.54023694 0.63400624 0.41356875 0.29101547 0.50944745 0.290017   0.4420095  0.5232683  0.36979751 0.30202883 0.14270854 0.55011136 0.04733764 0.28477549 0.28249716 0.60407157 0.48711927 0.19345579 0.49897693 0.34888664 0.14880131 0.43078854 0.56770649 0.44832259 0.70532697 0.56849515 0.13701216 0.48168795 0.36630535 0.67678818 0.35861556 0.21182111 0.48348608 0.19208744 0.55780317 0.38770581 0.26966093 0.50466035 0.35036021 0.22587541 0.         0.11091681 0.37761087 0.41795144 0.40954039 0.73408282 0.23744716 0.41478669 0.28568268 0.37618276 0.23708661 0.18350492 0.223812   0.36552245 0.37083582 0.41347662 0.52583765 0.20855749 0.23458852 0.40073525 0.21050218 0.24017891 0.46633004 0.42725951 0.57267423 0.33410272]\n",
            " [0.51857696 0.41330504 0.56600243 0.73987012 0.20514915 0.40420155 0.14085795 0.53299172 0.50840211 0.51933855 0.38359761 0.53342164 0.58182901 0.34856354 0.44281    0.26119984 0.08788165 0.68686409 0.2592209  0.09009544 0.52716657 0.5561089  0.61904101 0.1512089  0.21245252 0.46596136 0.34104501 0.25948242 0.51075688 0.71111008 0.37942419 0.51270144 0.39793497 0.56085577 0.57599864 0.70660528 0.31515587 0.1801127  0.54883442 0.38259345 0.55161058 0.60674429 0.47994845 0.41265036 0.17712766 0.65999769 0.07034455 0.39549017 0.28710914 0.62394095 0.38327825 0.21122133 0.606932   0.27062888 0.12608464 0.46564596 0.67405463 0.33749174 0.71981593 0.58972877 0.23716171 0.44714702 0.33628778 0.77957491 0.33488353 0.18574786 0.53450721 0.29372514 0.61148179 0.28089993 0.30181008 0.58677961 0.43884671 0.28426231 0.11091681 0.         0.29405834 0.46016316 0.41619996 0.76477368 0.33059175 0.41347959 0.32782625 0.47857108 0.15042452 0.11389976 0.13230332 0.31748277 0.28226412 0.50789427 0.55919828 0.29990972 0.19247978 0.50576566 0.19560032 0.23121931 0.55266911 0.52544814 0.66358971 0.29893725]\n",
            " [0.44036498 0.4603432  0.83809314 0.8682155  0.38416088 0.68456161 0.17126352 0.63832159 0.79976693 0.80198428 0.42397875 0.68289099 0.53948889 0.4540737  0.58332291 0.55463905 0.33202552 0.9403069  0.33779179 0.37383531 0.75573478 0.77262093 0.83143881 0.43210634 0.2580339  0.7563467  0.18197091 0.29705568 0.76149734 0.75024099 0.66717523 0.59415066 0.10678461 0.44497621 0.86039474 0.74896996 0.08729013 0.22217087 0.51913435 0.53483324 0.75733371 0.69511787 0.72590931 0.63893147 0.31182248 0.90359176 0.35570971 0.62457298 0.56310968 0.52822624 0.16801963 0.28655002 0.86277245 0.03448128 0.40839321 0.7515408  0.84933563 0.24599394 0.59701193 0.5034379  0.44485846 0.24552712 0.19599863 0.92941705 0.58042393 0.45305555 0.82601803 0.56906897 0.6100529  0.14619241 0.33956625 0.67327872 0.56806165 0.38729876 0.37761087 0.29405834 0.         0.74941127 0.33684544 0.67990583 0.6146416  0.67543319 0.37457286 0.64981868 0.34883236 0.36234012 0.33092102 0.13570399 0.02535817 0.79108563 0.51117675 0.58510804 0.17403293 0.68609778 0.22700302 0.23417673 0.65724885 0.80432359 0.77151698 0.17127186]\n",
            " [0.90530658 0.73314161 0.3700866  0.852543   0.42667006 0.27448307 0.59986161 0.74262239 0.05669756 0.08244747 0.72087217 0.67712777 0.93136421 0.64002318 0.64124041 0.22863372 0.46118117 0.52239525 0.53506247 0.40129204 0.50771213 0.55425917 0.60103705 0.31782129 0.56354249 0.19932749 0.74029298 0.57394104 0.43219804 0.95496389 0.0828483  0.75983967 0.8482513  0.96382009 0.1236013  0.94757339 0.75105804 0.56692901 0.89493974 0.59638281 0.57784615 0.81497449 0.43566436 0.46845744 0.55786383 0.53837683 0.41362603 0.45680695 0.19847851 1.00599384 0.79844901 0.6099016  0.4627667  0.72907472 0.34108311 0.03266964 0.71968017 0.69860432 1.10956082 0.9701866  0.47956608 0.8968483  0.78196985 0.84512671 0.25079379 0.30480447 0.08158588 0.31303471 0.91940459 0.69345731 0.67630713 0.80343458 0.65520199 0.61532352 0.41795144 0.46016316 0.74941127 0.         0.82354511 1.12168322 0.26147172 0.17214099 0.6837109  0.60972175 0.42864852 0.39375225 0.43924246 0.77353436 0.7340594  0.27775795 0.91746223 0.2654409  0.64332535 0.6068835  0.62720543 0.65797594 0.75636749 0.3133736  0.82823719 0.74777574]\n",
            " [0.10928192 0.18609051 0.75478928 0.58928964 0.60549592 0.64500947 0.3053448  0.36767962 0.85925246 0.89678403 0.16176437 0.44623607 0.20270847 0.24604861 0.36036199 0.59521519 0.37249069 0.80604462 0.61161914 0.43368193 0.60309858 0.59996826 0.64494409 0.55790286 0.53336588 0.74495097 0.517193   0.58441137 0.64411191 0.42498173 0.7535098  0.3114099  0.39168477 0.14507392 0.94688715 0.42508192 0.42409752 0.48738031 0.18325967 0.34121332 0.57260719 0.40224699 0.60606547 0.50633802 0.26695892 0.75540585 0.42781104 0.49970359 0.68762211 0.2111666  0.50269912 0.21644685 0.74125673 0.31022869 0.53411206 0.83869948 0.61616192 0.57334738 0.30371028 0.1793964  0.36156656 0.1720116  0.14109776 0.6639973  0.74931575 0.59822335 0.88282935 0.54056763 0.27717601 0.47144754 0.15166266 0.38172595 0.337604   0.22512355 0.40954039 0.41619996 0.33684544 0.82354511 0.         0.3596006  0.59904999 0.81930231 0.15856714 0.44377577 0.55306846 0.52916292 0.53244703 0.20194074 0.35725216 0.74522526 0.17449725 0.57930729 0.24200143 0.48283652 0.22105052 0.18531477 0.38265574 0.74328746 0.48508891 0.16850394]\n",
            " [0.25062288 0.38854163 0.95393728 0.56044603 0.96141077 0.89365638 0.66421387 0.44361154 1.1472432  1.20091801 0.40304812 0.54446727 0.19080129 0.48186642 0.51572398 0.89697676 0.70630804 0.94929058 0.9712197  0.76406701 0.76208309 0.73735021 0.7555592  0.8956574  0.89279566 0.99999528 0.8616191  0.94354433 0.83006786 0.30740148 1.06230972 0.3973915  0.70710969 0.23532274 1.24419306 0.3145937  0.76576404 0.84688192 0.22709808 0.54049448 0.70217157 0.41052043 0.79703521 0.70830512 0.59682697 0.89102479 0.76281664 0.71034218 1.01628885 0.15190421 0.83599845 0.55444388 0.90696871 0.65851314 0.87362933 1.14236918 0.66696576 0.92412522 0.11512405 0.18038872 0.64254834 0.44979376 0.48899405 0.6456195  1.08956027 0.9387773  1.1677583  0.81302557 0.22213345 0.82226573 0.46684422 0.40431263 0.49443895 0.51176007 0.73408282 0.76477368 0.67990583 1.12168322 0.3596006  0.         0.86998847 1.14835264 0.44841186 0.58593116 0.90794398 0.87866632 0.88757606 0.54590019 0.70301629 0.97584213 0.20824941 0.85891299 0.60114132 0.61499442 0.57471687 0.53965067 0.44273254 0.96241704 0.47243533 0.52280029]\n",
            " [0.66778317 0.48323561 0.24095175 0.60432685 0.42241016 0.07525271 0.44504163 0.48118181 0.27857354 0.34384295 0.47598824 0.41880692 0.68145707 0.38944882 0.37985038 0.10402547 0.28409782 0.37912631 0.52564211 0.24274108 0.279812   0.323867   0.38095286 0.26081533 0.51480421 0.14873528 0.66816741 0.54779029 0.22423839 0.69350824 0.2265622  0.4991471  0.7211156  0.73131531 0.37901178 0.68613757 0.64523162 0.49649093 0.645157   0.33658776 0.33950446 0.55390334 0.20979404 0.21264234 0.34930267 0.36751509 0.26199042 0.1990218  0.26024968 0.76373408 0.71345713 0.40042957 0.30071508 0.58629633 0.26814171 0.2880575  0.48390309 0.6527197  0.86783269 0.72830023 0.23841442 0.70298716 0.58879658 0.60844802 0.36237569 0.28729473 0.2980527  0.05874757 0.66204028 0.60971375 0.447466   0.54206276 0.39425765 0.37759259 0.23744716 0.33059175 0.6146416  0.26147172 0.59904999 0.86998847 0.         0.35551524 0.44726005 0.35078985 0.39149806 0.33470828 0.3894052  0.59691793 0.60684666 0.1774393  0.67017276 0.03096351 0.46807945 0.35196618 0.43535113 0.45870065 0.49509574 0.19567999 0.57080476 0.56075324]\n",
            " [0.91381032 0.76639733 0.52499687 0.95882303 0.30770516 0.39775488 0.55143052 0.81533055 0.22301269 0.1617425  0.74663745 0.76682556 0.95838085 0.67863901 0.71162189 0.27417802 0.44725721 0.67929466 0.40543655 0.38679818 0.63115108 0.6766038  0.73036463 0.26342612 0.45212721 0.3521872  0.62900382 0.4494745  0.56443702 1.02382772 0.13741547 0.82086118 0.76413242 0.96407755 0.21785537 1.01723733 0.65856839 0.46758103 0.92266958 0.65824492 0.69440502 0.89126903 0.55898625 0.56631452 0.55564355 0.6877974  0.39151198 0.55140241 0.13232562 1.01847833 0.69136326 0.60360511 0.61288603 0.66178261 0.28822366 0.14622205 0.83884152 0.57579242 1.11899362 0.98300128 0.51724574 0.85997101 0.74976544 0.96373095 0.10287055 0.22869333 0.24215826 0.38909783 0.96366998 0.59144356 0.68428694 0.87653586 0.72072134 0.63742832 0.41478669 0.41347959 0.67543319 0.17214099 0.81930231 1.14835264 0.35551524 0.         0.70006046 0.69872867 0.32893457 0.31559505 0.34531581 0.72828125 0.65604255 0.43205171 0.94020254 0.34442175 0.60595169 0.70456918 0.60434978 0.63886453 0.83164195 0.46710089 0.9186392  0.71234827]\n",
            " [0.22193873 0.09223004 0.59627046 0.49413111 0.53201219 0.48900322 0.26582622 0.26394555 0.71521896 0.76032923 0.05762129 0.31863338 0.25937259 0.09437418 0.22252171 0.45561254 0.2599234  0.65175243 0.56573199 0.31610983 0.44956871 0.4505954  0.50010078 0.44861911 0.49667849 0.59075444 0.53451604 0.54957728 0.48666173 0.39664566 0.61900925 0.22048668 0.45994635 0.28405647 0.80726444 0.39352514 0.4541157  0.45154636 0.22449631 0.19034592 0.42598184 0.32185416 0.44851555 0.34885225 0.15201103 0.60291163 0.31603291 0.3416143  0.56791986 0.32259829 0.53924733 0.12103145 0.58488925 0.34099475 0.42740577 0.7017331  0.48979565 0.57341991 0.42589654 0.28677182 0.20894777 0.30581857 0.21862364 0.55828788 0.6424042  0.49247233 0.73776222 0.38851258 0.28406564 0.47792292 0.03542117 0.3000284  0.20296836 0.06968255 0.28568268 0.32782625 0.37457286 0.6837109  0.15856714 0.44841186 0.44726005 0.70006046 0.         0.30124217 0.47725297 0.43980198 0.4580397  0.26560945 0.38685337 0.587697   0.24018152 0.42993387 0.21645189 0.34033661 0.16733401 0.14477548 0.28273173 0.58501236 0.39699173 0.21752875]\n",
            " [0.45610014 0.2612882  0.36926385 0.26934422 0.66240613 0.34252419 0.50030769 0.14693191 0.61790241 0.69205432 0.28201667 0.06822072 0.4196342  0.20724182 0.08412325 0.42543    0.39097888 0.37448245 0.736446   0.40931992 0.17722285 0.1606609  0.20117045 0.51972355 0.68918207 0.4445649  0.7817706  0.73779922 0.24496717 0.35294308 0.57626449 0.18868341 0.74630062 0.52674877 0.72130419 0.34492792 0.71780924 0.65170308 0.38847941 0.1155187  0.12994488 0.20955662 0.21413309 0.14241055 0.34549123 0.31931668 0.42350204 0.15293582 0.58468669 0.52284722 0.80203023 0.36327631 0.32295997 0.61535389 0.51036001 0.63780151 0.20119228 0.80084527 0.61963121 0.49268132 0.24148294 0.60532253 0.51858893 0.3010674  0.68337821 0.56226814 0.63287041 0.30974215 0.3638846  0.72024296 0.32900668 0.20220569 0.10782727 0.26476902 0.37618276 0.47857108 0.64981868 0.60972175 0.44377577 0.58593116 0.35078985 0.69872867 0.30124217 0.         0.61298441 0.5577495  0.5999917  0.56039402 0.6560006  0.40295339 0.42099339 0.35565108 0.47639489 0.03923828 0.42290477 0.41869087 0.15500012 0.38397284 0.22037595 0.51232187]\n",
            " [0.6590206  0.56361779 0.63166724 0.87926134 0.05479299 0.466014   0.25212633 0.67943881 0.48376037 0.46747895 0.53350011 0.6719847  0.72824221 0.49804447 0.58574123 0.29507978 0.23250721 0.76910902 0.13473581 0.20368341 0.63439909 0.66917356 0.73209933 0.13293225 0.13591351 0.49803823 0.31164677 0.15796424 0.60237829 0.86120685 0.34663589 0.66173084 0.43519996 0.69540838 0.52701298 0.85660245 0.33024112 0.14026926 0.69608516 0.52520052 0.67029594 0.75417995 0.57716354 0.5271509  0.32742273 0.75158559 0.18999984 0.50942139 0.2308492  0.76360067 0.37034619 0.35862389 0.68965411 0.33856213 0.12344817 0.42340335 0.80158318 0.27457867 0.85584926 0.73036367 0.37378975 0.55407559 0.45332597 0.9130719  0.23172692 0.125729   0.50968245 0.37457041 0.76124016 0.2664918  0.44990447 0.73461721 0.58381534 0.43461111 0.23708661 0.15042452 0.34883236 0.42864852 0.55306846 0.90794398 0.39149806 0.32893457 0.47725297 0.61298441 0.         0.05867962 0.02074298 0.41960615 0.32833026 0.55753608 0.70466136 0.3616303  0.31459645 0.63633229 0.33338868 0.36876845 0.69891256 0.58247032 0.80780505 0.41456867]\n",
            " [0.63229438 0.52299502 0.57539391 0.8251252  0.10467529 0.4095754  0.2396228  0.6295479  0.44713693 0.44070772 0.49466313 0.61790239 0.69531488 0.45238319 0.53381812 0.2407956  0.18569592 0.71137872 0.19309012 0.14904586 0.5757842  0.61076739 0.67365114 0.08157558 0.18364745 0.44652649 0.35224679 0.21311451 0.5438949  0.81621455 0.3109126  0.61473556 0.45666509 0.67342783 0.49962697 0.81128851 0.35735763 0.17605737 0.66204911 0.47334499 0.61229653 0.70502107 0.51851142 0.46900749 0.28799128 0.69321911 0.13752139 0.45126788 0.20133212 0.73760171 0.40720718 0.32482011 0.63178824 0.34679061 0.06702482 0.39236099 0.74453764 0.32347431 0.83287291 0.70349486 0.32048088 0.54799726 0.44137371 0.85710352 0.22773994 0.09095647 0.47336711 0.31615892 0.72244711 0.30134218 0.41493322 0.68591578 0.53310983 0.39194762 0.18350492 0.11389976 0.36234012 0.39375225 0.52916292 0.87866632 0.33470828 0.31559505 0.43980198 0.5577495  0.05867962 0.         0.05486963 0.41475599 0.34455565 0.50324965 0.67291114 0.30453212 0.29844395 0.58011692 0.308143   0.34387483 0.64880942 0.52718007 0.75607861 0.40303235]\n",
            " [0.63852001 0.54492753 0.63017394 0.86532694 0.07424625 0.46434262 0.23139507 0.66340111 0.49379196 0.48076129 0.51448288 0.65812137 0.70825628 0.48067969 0.57070609 0.29554898 0.2162467  0.76547931 0.14103809 0.19133851 0.6264758  0.66032848 0.72336437 0.13500146 0.12976499 0.50070147 0.3020581  0.15839268 0.59688601 0.84341334 0.35677688 0.64463916 0.41920358 0.67470524 0.54018611 0.83890128 0.31561065 0.12772963 0.6762417  0.5101931  0.66045552 0.73780466 0.5707135  0.51771415 0.30881092 0.74645983 0.17649018 0.50002379 0.24263054 0.74304156 0.35922879 0.33899785 0.68577686 0.31971273 0.12188898 0.43530308 0.79022797 0.26958109 0.83516098 0.70985828 0.35982244 0.53378685 0.4326777  0.90054139 0.24956991 0.13461595 0.51985802 0.36948758 0.74209061 0.25432811 0.43033034 0.71807801 0.56820267 0.41651845 0.223812   0.13230332 0.33092102 0.43924246 0.53244703 0.88757606 0.3894052  0.34531581 0.4580397  0.5999917  0.02074298 0.05486963 0.         0.39934068 0.31092254 0.55805825 0.68455532 0.35913402 0.2938541  0.6241725  0.31294058 0.3482694  0.68295135 0.58204965 0.79252715 0.39392313]\n",
            " [0.30466577 0.34242741 0.79947911 0.75664408 0.46515055 0.65948309 0.1771204  0.52672875 0.81872495 0.83599098 0.30722768 0.58366338 0.40425352 0.35507058 0.48598957 0.55825006 0.31865846 0.88363108 0.44409358 0.37448627 0.68854561 0.69833952 0.75315846 0.46840939 0.36279112 0.74478261 0.31741451 0.40942627 0.70785958 0.62097114 0.69455935 0.47780217 0.19760604 0.31196042 0.89186927 0.62022817 0.22292546 0.31961243 0.38495465 0.44536605 0.67826254 0.57698127 0.67039978 0.57583906 0.25492007 0.84098554 0.36047106 0.56385988 0.60433065 0.39401323 0.30077195 0.21208372 0.80971762 0.11265753 0.44329882 0.78128667 0.75416958 0.37822791 0.46750071 0.36829584 0.38971898 0.1344827  0.06087085 0.82329527 0.64232708 0.49961899 0.84435826 0.5440589  0.47738575 0.27643648 0.23343808 0.55532717 0.46770659 0.29681095 0.36552245 0.31748277 0.13570399 0.77353436 0.20194074 0.54590019 0.59691793 0.72828125 0.26560945 0.56039402 0.41960615 0.41475599 0.39934068 0.         0.15760554 0.76635533 0.37587044 0.57025503 0.13125101 0.59864185 0.16336309 0.14930286 0.5446963  0.77381523 0.65640218 0.04825681]\n",
            " [0.4619607  0.47425498 0.8332646  0.87926244 0.3620215  0.67776457 0.16772931 0.64987202 0.78509163 0.78499918 0.43777956 0.69121537 0.55995232 0.46344639 0.59157805 0.54344507 0.32622862 0.93871917 0.31305694 0.36480567 0.75677505 0.77508628 0.83459389 0.41631041 0.23368316 0.74687417 0.16006586 0.27196715 0.75979481 0.76713988 0.65156855 0.60711851 0.1156859  0.46836949 0.84366549 0.76565567 0.0683447  0.19895667 0.53873561 0.54157208 0.76086892 0.70833969 0.72470194 0.63960096 0.31456998 0.90328274 0.34620354 0.6248357  0.54577523 0.55121652 0.15256807 0.29317687 0.86065318 0.04772133 0.39302846 0.73531716 0.85626052 0.22182617 0.62123648 0.52588135 0.44531035 0.27064362 0.21707298 0.9389123  0.56005718 0.43547914 0.81137614 0.56284957 0.62866395 0.12132372 0.35158122 0.68649415 0.57708814 0.39544131 0.37083582 0.28226412 0.02535817 0.7340594  0.35725216 0.70301629 0.60684666 0.65604255 0.38685337 0.6560006  0.32833026 0.34455565 0.31092254 0.15760554 0.         0.78383838 0.53174315 0.57696143 0.17972115 0.69170552 0.23348355 0.24419186 0.6690007  0.79808808 0.78371768 0.19000952]\n",
            " [0.79980197 0.6035187  0.09312879 0.60652354 0.58148778 0.10717137 0.62073872 0.54919734 0.25745447 0.34822231 0.60480829 0.46281393 0.7949645  0.51339516 0.46149695 0.26257053 0.45945669 0.24727413 0.68908361 0.42015582 0.25607898 0.30069122 0.33647548 0.42462597 0.68608871 0.0800023  0.84398944 0.71540954 0.17403696 0.75468135 0.29640844 0.58319807 0.89772415 0.8673062  0.35589328 0.74648248 0.82266446 0.67071478 0.75989074 0.4371379  0.3308934  0.61113613 0.19288973 0.2681312  0.51351514 0.260662   0.43942879 0.26551499 0.38232137 0.88764019 0.89037966 0.5622317  0.18507844 0.76214318 0.4362611  0.31042535 0.46263731 0.82524455 0.99054455 0.8534699  0.38754049 0.86489088 0.75286059 0.58558028 0.47580042 0.44225047 0.26222663 0.22331074 0.75722095 0.7861809  0.5949959  0.6050446  0.48181066 0.5201111  0.41347662 0.50789427 0.79108563 0.27775795 0.74522526 0.97584213 0.1774393  0.43205171 0.587697   0.40295339 0.55753608 0.50324965 0.55805825 0.76635533 0.78383838 0.         0.7886542  0.20798975 0.63991933 0.38637138 0.60323819 0.62322723 0.55795028 0.03563218 0.6036121  0.7275766 ]\n",
            " [0.07874528 0.18726303 0.77739793 0.48328175 0.75871736 0.69996333 0.46726251 0.29796179 0.94524764 0.99581331 0.19667196 0.39652455 0.02850429 0.28083485 0.34111182 0.69122201 0.49839403 0.79516814 0.77623914 0.55586953 0.59714369 0.58071168 0.61146259 0.68768816 0.70014584 0.80557369 0.691689   0.75212289 0.656247   0.27342773 0.85607861 0.24074056 0.56052171 0.12878118 1.04052003 0.27573416 0.59845871 0.65393715 0.03360369 0.35217836 0.54774155 0.29922018 0.62062235 0.52573701 0.3890373  0.73911008 0.55485558 0.52494077 0.8080931  0.10189764 0.67627817 0.34810383 0.74262126 0.48471486 0.66585743 0.93719113 0.54925478 0.74717049 0.20217467 0.07312854 0.43792905 0.31716877 0.31521108 0.56590675 0.88160168 0.7310132  0.96655383 0.61226639 0.11988659 0.64543435 0.259188   0.28361776 0.31764658 0.304382   0.52583765 0.55919828 0.51117675 0.91746223 0.17449725 0.20824941 0.67017276 0.94020254 0.24018152 0.42099339 0.70466136 0.67291114 0.68455532 0.37587044 0.53174315 0.7886542  0.         0.65703196 0.40568031 0.45577745 0.37335679 0.33941146 0.30528309 0.77889592 0.37978951 0.34273524]\n",
            " [0.65140821 0.47088361 0.27159143 0.61453782 0.39367138 0.10609918 0.41601176 0.48060437 0.28839909 0.34702304 0.46153802 0.42387166 0.66941192 0.3771899  0.37793965 0.08011541 0.2555056  0.40802497 0.49599485 0.21247723 0.29930066 0.34202752 0.40080585 0.2317673  0.4841134  0.17453769 0.63721421 0.51752486 0.24889837 0.69243466 0.22125804 0.49499465 0.69145782 0.71373349 0.3861044  0.68527154 0.61472326 0.46556058 0.63301339 0.33118111 0.3551697  0.55468012 0.23132947 0.22207499 0.32524993 0.39444796 0.2316022  0.20698521 0.24119961 0.74894787 0.6826301  0.37692838 0.3291163  0.55709543 0.23819192 0.28974186 0.49902283 0.62188382 0.85300684 0.71334338 0.22124502 0.67855233 0.56391731 0.62262009 0.34338769 0.26001073 0.30953164 0.04788167 0.65417542 0.57880546 0.42812382 0.54182172 0.39077205 0.36031588 0.20855749 0.29990972 0.58510804 0.2654409  0.57930729 0.85891299 0.03096351 0.34442175 0.42993387 0.35565108 0.3616303  0.30453212 0.35913402 0.57025503 0.57696143 0.20798975 0.65703196 0.         0.44073568 0.36016727 0.40957798 0.43402551 0.49539322 0.22664134 0.57601453 0.53503832]\n",
            " [0.35052373 0.3078191  0.67816196 0.70272067 0.36554362 0.53277122 0.06346284 0.4748248  0.68787769 0.70730323 0.27171116 0.51187825 0.43181436 0.28544769 0.41226602 0.4269995  0.187571   0.7719681  0.37091189 0.24336741 0.58365004 0.59921413 0.65763998 0.34336236 0.29451731 0.61521677 0.3187569  0.34669603 0.59387219 0.60996264 0.56510072 0.43584471 0.2754051  0.38163483 0.76253064 0.60742166 0.24347249 0.24830626 0.4037842  0.36185306 0.58341972 0.53716166 0.55740817 0.46754766 0.13928945 0.73310927 0.22978549 0.45383223 0.47897582 0.45308915 0.32869878 0.11348277 0.69570352 0.13977381 0.31829001 0.65194257 0.67654191 0.35754718 0.5422783  0.42128063 0.274747   0.25543161 0.14386115 0.76031747 0.52517283 0.37787469 0.71343347 0.41676276 0.48370374 0.26149508 0.18128772 0.51541838 0.39839763 0.21634857 0.23458852 0.19247978 0.17403293 0.64332535 0.24200143 0.60114132 0.46807945 0.60595169 0.21645189 0.47639489 0.31459645 0.29844395 0.2938541  0.13125101 0.17972115 0.63991933 0.40568031 0.44073568 0.         0.51234743 0.05385878 0.07251545 0.49430638 0.64926264 0.60962093 0.10653835]\n",
            " [0.49325105 0.29980194 0.34508537 0.2554638  0.68452763 0.33528797 0.5341756  0.17199415 0.61147444 0.68880352 0.32109767 0.07668358 0.4531639  0.24622404 0.12273636 0.43348958 0.41879248 0.33951439 0.76208624 0.43288088 0.14743753 0.12497637 0.16219953 0.53773998 0.71745878 0.43385043 0.81491207 0.76524753 0.22127436 0.36885404 0.57851478 0.21956029 0.78344572 0.56381829 0.71513799 0.36056203 0.75279034 0.68105956 0.4229226  0.15330886 0.09241291 0.22568395 0.1941509  0.13938452 0.37957661 0.28337192 0.44802147 0.15331527 0.59473793 0.55744628 0.83666224 0.39961821 0.29199237 0.65166651 0.52992753 0.63595793 0.16898848 0.83190664 0.65288858 0.52795526 0.26895751 0.64455678 0.55741333 0.27708162 0.69483791 0.57922142 0.62507202 0.31614447 0.39294418 0.75316957 0.36779169 0.22176824 0.14615354 0.30246007 0.40073525 0.50576566 0.68609778 0.6068835  0.48283652 0.61499442 0.35196618 0.70456918 0.34033661 0.03923828 0.63633229 0.58011692 0.6241725  0.59864185 0.69170552 0.38637138 0.45577745 0.36016727 0.51234743 0.         0.45909477 0.45598956 0.17637864 0.36473273 0.2220139  0.55064088]\n",
            " [0.32568806 0.25949768 0.63651769 0.64945517 0.38669559 0.49650983 0.09906056 0.42217388 0.66890561 0.69503471 0.22404073 0.4580213  0.39814007 0.23197966 0.35841221 0.40468073 0.16602581 0.7249374  0.40528745 0.22644236 0.53397726 0.5480697  0.60584675 0.3411202  0.33259719 0.58378645 0.37100761 0.38542799 0.54770584 0.5634425  0.55164748 0.38466595 0.32633897 0.36536234 0.74851554 0.56052692 0.29727698 0.28680763 0.36786909 0.30816817 0.53140495 0.48577605 0.51072084 0.41876561 0.09226283 0.68459414 0.21642788 0.40567658 0.47428612 0.43051631 0.38245285 0.05970723 0.64966077 0.19257819 0.31665287 0.63834074 0.62284409 0.40648871 0.52475308 0.39703656 0.2283213  0.27129715 0.15589759 0.70655061 0.52999935 0.37960112 0.6939409  0.38147205 0.44264495 0.31266194 0.13305478 0.4641131  0.34465404 0.16256224 0.21050218 0.19560032 0.22700302 0.62720543 0.22105052 0.57471687 0.43535113 0.60434978 0.16733401 0.42290477 0.33338868 0.308143   0.31294058 0.16336309 0.23348355 0.60323819 0.37335679 0.40957798 0.05385878 0.45909477 0.         0.0357363  0.44175283 0.61045337 0.55714508 0.12546185]\n",
            " [0.29025304 0.23557406 0.65218519 0.63508595 0.4218791  0.51716046 0.12905389 0.40593552 0.69855343 0.72697046 0.19935609 0.44899614 0.36463313 0.21990083 0.34955383 0.43362811 0.19735414 0.73433133 0.43759697 0.25847507 0.53982233 0.5509894  0.6070865  0.37587057 0.36337504 0.60742641 0.38974057 0.41599974 0.55868226 0.53745389 0.58342108 0.36498665 0.32762991 0.3296701  0.7798453  0.53490623 0.310546   0.31730562 0.33512322 0.30318999 0.53227419 0.46637891 0.52115917 0.42660193 0.10984888 0.6919368  0.24953242 0.41455769 0.50838172 0.39494414 0.39588375 0.06293909 0.66050008 0.19989446 0.35154284 0.66993368 0.61659997 0.43003251 0.48901681 0.36159524 0.24144221 0.24454425 0.13013509 0.69527283 0.56538868 0.4148009  0.72334499 0.40339362 0.41247952 0.33341861 0.10940857 0.44457917 0.3339218  0.1542099  0.24017891 0.23121931 0.23417673 0.65797594 0.18531477 0.53965067 0.45870065 0.63886453 0.14477548 0.41869087 0.36876845 0.34387483 0.3482694  0.14930286 0.24419186 0.62322723 0.33941146 0.43402551 0.07251545 0.45598956 0.0357363  0.         0.42518948 0.62872562 0.540206   0.10549544]\n",
            " [0.35944969 0.20343701 0.52130153 0.21196526 0.75188958 0.49467666 0.53482176 0.01990798 0.76815268 0.83880333 0.23761777 0.10223569 0.29616396 0.21219012 0.12045536 0.55782773 0.46670639 0.50656844 0.81018774 0.50141867 0.32336049 0.29528822 0.31396457 0.62619104 0.75142457 0.59820311 0.8127557  0.80311075 0.39722602 0.19948999 0.71635063 0.07146787 0.74123562 0.42681567 0.87101232 0.19178163 0.73572541 0.70923198 0.27171527 0.17811435 0.25984223 0.05962735 0.36822867 0.29495199 0.38876734 0.44837822 0.51131897 0.30311337 0.71028653 0.40325074 0.82104169 0.38532752 0.46624662 0.62354663 0.61230817 0.78311365 0.24439431 0.84523737 0.49134068 0.37825284 0.33164208 0.55441934 0.49193338 0.28183494 0.80444939 0.67084645 0.78421143 0.44782214 0.22257923 0.75412938 0.31768777 0.04757957 0.1160855  0.2830355  0.46633004 0.55266911 0.65724885 0.75636749 0.38265574 0.44273254 0.49509574 0.83164195 0.28273173 0.15500012 0.69891256 0.64880942 0.68295135 0.5446963  0.6690007  0.55795028 0.30528309 0.49539322 0.49430638 0.17637864 0.44175283 0.42518948 0.         0.53858081 0.1154108  0.49745592]\n",
            " [0.79345619 0.5954109  0.05790459 0.57773171 0.60846485 0.12124664 0.6333338  0.53083442 0.29225664 0.38338766 0.59881894 0.4414122  0.78399587 0.50710734 0.44683873 0.28758609 0.47230314 0.21223083 0.71506378 0.43654139 0.22900314 0.27232543 0.30477838 0.44985413 0.70906604 0.11540851 0.86383559 0.74000585 0.14701272 0.73358674 0.33105102 0.56747913 0.91109862 0.86178777 0.38968688 0.72529162 0.83911401 0.6919386  0.74938925 0.42671873 0.30386587 0.59031504 0.17064044 0.25432479 0.51956202 0.22509847 0.45607807 0.2539698  0.41408036 0.87879696 0.90865616 0.56691712 0.14954756 0.77461177 0.46017161 0.34603942 0.43212344 0.84762662 0.98105075 0.8450837  0.38988631 0.86831512 0.7576032  0.55410312 0.50888461 0.46968832 0.29615897 0.23528617 0.74244684 0.80524054 0.59438631 0.58525798 0.46799368 0.51865984 0.42725951 0.52544814 0.80432359 0.3133736  0.74328746 0.96241704 0.19567999 0.46710089 0.58501236 0.38397284 0.58247032 0.52718007 0.58204965 0.77381523 0.79808808 0.03563218 0.77889592 0.22664134 0.64926264 0.36473273 0.61045337 0.62872562 0.53858081 0.         0.57898442 0.73373983]\n",
            " [0.44533669 0.31397606 0.55100329 0.10498556 0.86000711 0.55730158 0.65011545 0.13510768 0.83348777 0.91033595 0.34939983 0.15216167 0.36373103 0.3273049  0.22226052 0.64484978 0.57669109 0.50297413 0.92211673 0.60748975 0.35098449 0.31172443 0.30683325 0.72798556 0.86501672 0.6550856  0.92813913 0.91639733 0.43216304 0.17532976 0.79659557 0.17860057 0.8536057  0.50760849 0.93715187 0.1668312  0.85066041 0.82329287 0.34786304 0.28275319 0.27728706 0.08332006 0.41090441 0.35980234 0.50300621 0.44438678 0.61870522 0.37206827 0.80248414 0.46832163 0.93592972 0.50070551 0.47998301 0.73798647 0.7157968  0.85690066 0.1979572  0.9604617  0.54288068 0.44953778 0.43608326 0.65688076 0.60202861 0.1861176  0.89965971 0.77194878 0.84696084 0.52992659 0.27311744 0.86953973 0.43216503 0.10336396 0.22476893 0.3981886  0.57267423 0.66358971 0.77151698 0.82823719 0.48508891 0.47243533 0.57080476 0.9186392  0.39699173 0.22037595 0.80780505 0.75607861 0.79252715 0.65640218 0.78371768 0.6036121  0.37978951 0.57601453 0.60962093 0.2220139  0.55714508 0.540206   0.1154108  0.57898442 0.         0.60969725]\n",
            " [0.27584429 0.29586739 0.75766145 0.70942011 0.46316782 0.62113413 0.16368612 0.47933282 0.79114723 0.8129749  0.26030925 0.53542798 0.37074826 0.3068256  0.43773467 0.52818498 0.28821619 0.83851908 0.45364141 0.34665387 0.64232165 0.65127967 0.7056644  0.44989669 0.37333607 0.70923458 0.34937975 0.42262042 0.66358849 0.57945231 0.67036472 0.43115411 0.24391433 0.29297446 0.867762   0.57836213 0.2577898  0.32831264 0.34879067 0.39740694 0.63077563 0.53085646 0.62592871 0.53047681 0.21421676 0.79510555 0.33430072 0.51891073 0.58550657 0.37136943 0.33910495 0.16831801 0.76529664 0.14249411 0.42481941 0.75723102 0.70591278 0.40489929 0.45223206 0.34298982 0.34693214 0.14933338 0.03876039 0.77548938 0.63044934 0.48406897 0.816466   0.50653017 0.43886919 0.3029588  0.1851909  0.50913469 0.4194653  0.24915854 0.33410272 0.29893725 0.17127186 0.74777574 0.16850394 0.52280029 0.56075324 0.71234827 0.21752875 0.51232187 0.41456867 0.40303235 0.39392313 0.04825681 0.19000952 0.7275766  0.34273524 0.53503832 0.10653835 0.55064088 0.12546185 0.10549544 0.49745592 0.73373983 0.60969725 0.        ]]\n"
          ]
        }
      ],
      "source": [
        "Z = np.random.random((100,2))\n",
        "X,Y = np.atleast_2d(Z[:,0]), np.atleast_2d(Z[:,1])\n",
        "D = np.sqrt( (X-X.T)**2 + (Y-Y.T)**2)\n",
        "\n",
        "print(D)\n",
        "\n"
      ]
    },
    {
      "cell_type": "markdown",
      "metadata": {
        "id": "spRgWVo_kLub"
      },
      "source": [
        "#### 53. How to convert a float (32 bits) array into an integer (32 bits) in place? \n",
        "(**hint**: astype(copy=False))"
      ]
    },
    {
      "cell_type": "code",
      "execution_count": null,
      "metadata": {
        "colab": {
          "base_uri": "https://localhost:8080/"
        },
        "id": "52SoDryjkLub",
        "outputId": "71127341-4253-4531-ffe7-1531eaec7531"
      },
      "outputs": [
        {
          "output_type": "stream",
          "name": "stdout",
          "text": [
            "[0. 1. 2. 3. 4. 5. 6. 7. 8. 9.]\n"
          ]
        }
      ],
      "source": [
        "Z = np.arange(10, dtype=np.int32)\n",
        "Z = Z.astype(np.float32, copy=False)\n",
        "\n",
        "print(Z)"
      ]
    },
    {
      "cell_type": "markdown",
      "metadata": {
        "id": "BJiAz8wLkLuc"
      },
      "source": [
        "#### 54. How to read the following file? (★★☆) \n",
        "(**hint**: np.genfromtxt)"
      ]
    },
    {
      "cell_type": "markdown",
      "metadata": {
        "id": "Xqld4ySIkLuc"
      },
      "source": [
        "```\n",
        "1, 2, 3, 4, 5\n",
        "6,  ,  , 7, 8\n",
        " ,  , 9,10,11\n",
        "```"
      ]
    },
    {
      "cell_type": "code",
      "execution_count": null,
      "metadata": {
        "colab": {
          "base_uri": "https://localhost:8080/"
        },
        "id": "_cNNol8lkLuc",
        "outputId": "3bef299a-02ae-4b57-de92-a87c04a05ef6"
      },
      "outputs": [
        {
          "output_type": "stream",
          "name": "stdout",
          "text": [
            "[[ 1  2  3  4  5]\n",
            " [ 6 -1 -1  7  8]\n",
            " [-1 -1  9 10 11]]\n"
          ]
        },
        {
          "output_type": "stream",
          "name": "stderr",
          "text": [
            "/usr/local/lib/python3.7/dist-packages/ipykernel_launcher.py:6: DeprecationWarning: `np.int` is a deprecated alias for the builtin `int`. To silence this warning, use `int` by itself. Doing this will not modify any behavior and is safe. When replacing `np.int`, you may wish to use e.g. `np.int64` or `np.int32` to specify the precision. If you wish to review your current use, check the release note link for additional information.\n",
            "Deprecated in NumPy 1.20; for more details and guidance: https://numpy.org/devdocs/release/1.20.0-notes.html#deprecations\n",
            "  \n"
          ]
        }
      ],
      "source": [
        "from io import StringIO\n",
        "\n",
        "s = StringIO(\"\"\"1, 2, 3, 4, 5\\n\n",
        "                6,  ,  , 7, 8\\n\n",
        "                 ,  , 9,10,11\\n\"\"\")\n",
        "\n",
        "Z = np.genfromtxt(s, delimiter=\",\", dtype=np.int)\n",
        "\n",
        "print(Z)"
      ]
    },
    {
      "cell_type": "markdown",
      "metadata": {
        "id": "IK0P9rHpkLuc"
      },
      "source": [
        "#### 55. What is the equivalent of enumerate for numpy arrays? (★★☆) \n",
        "(**hint**: np.ndenumerate, np.ndindex)"
      ]
    },
    {
      "cell_type": "code",
      "execution_count": null,
      "metadata": {
        "colab": {
          "base_uri": "https://localhost:8080/"
        },
        "id": "X9r5njjCkLud",
        "outputId": "5d22a772-576b-4cae-cc4c-3b46bec579f3"
      },
      "outputs": [
        {
          "output_type": "stream",
          "name": "stdout",
          "text": [
            "numerate : \n",
            "(0, 0) 0\n",
            "(0, 1) 1\n",
            "(0, 2) 2\n",
            "(1, 0) 3\n",
            "(1, 1) 4\n",
            "(1, 2) 5\n",
            "(2, 0) 6\n",
            "(2, 1) 7\n",
            "(2, 2) 8\n",
            "\n",
            " index : \n",
            "(0, 0) 0\n",
            "(0, 1) 1\n",
            "(0, 2) 2\n",
            "(1, 0) 3\n",
            "(1, 1) 4\n",
            "(1, 2) 5\n",
            "(2, 0) 6\n",
            "(2, 1) 7\n",
            "(2, 2) 8\n"
          ]
        }
      ],
      "source": [
        "Z = np.arange(9).reshape(3,3)\n",
        "\n",
        "print(\"numerate : \")\n",
        "for index, value in np.ndenumerate(Z):\n",
        "    print(index, value)\n",
        "\n",
        "\n",
        "print(\"\\n\",\"index : \")  \n",
        "for index in np.ndindex(Z.shape):\n",
        "    print(index, Z[index])"
      ]
    },
    {
      "cell_type": "markdown",
      "metadata": {
        "id": "VwGl1stykLud"
      },
      "source": [
        "#### 56. Generate a generic 2D Gaussian-like array (★★☆) \n",
        "(**hint**: np.meshgrid, np.exp)"
      ]
    },
    {
      "cell_type": "code",
      "execution_count": null,
      "metadata": {
        "colab": {
          "base_uri": "https://localhost:8080/"
        },
        "id": "O5XkJYjxkLud",
        "outputId": "da372d3a-f577-400e-b977-8d3424afe485"
      },
      "outputs": [
        {
          "output_type": "stream",
          "name": "stdout",
          "text": [
            "[[0.36787944 0.44822088 0.51979489 0.57375342 0.60279818 0.60279818 0.57375342 0.51979489 0.44822088 0.36787944]\n",
            " [0.44822088 0.54610814 0.63331324 0.69905581 0.73444367 0.73444367 0.69905581 0.63331324 0.54610814 0.44822088]\n",
            " [0.51979489 0.63331324 0.73444367 0.81068432 0.85172308 0.85172308 0.81068432 0.73444367 0.63331324 0.51979489]\n",
            " [0.57375342 0.69905581 0.81068432 0.89483932 0.9401382  0.9401382  0.89483932 0.81068432 0.69905581 0.57375342]\n",
            " [0.60279818 0.73444367 0.85172308 0.9401382  0.98773022 0.98773022 0.9401382  0.85172308 0.73444367 0.60279818]\n",
            " [0.60279818 0.73444367 0.85172308 0.9401382  0.98773022 0.98773022 0.9401382  0.85172308 0.73444367 0.60279818]\n",
            " [0.57375342 0.69905581 0.81068432 0.89483932 0.9401382  0.9401382  0.89483932 0.81068432 0.69905581 0.57375342]\n",
            " [0.51979489 0.63331324 0.73444367 0.81068432 0.85172308 0.85172308 0.81068432 0.73444367 0.63331324 0.51979489]\n",
            " [0.44822088 0.54610814 0.63331324 0.69905581 0.73444367 0.73444367 0.69905581 0.63331324 0.54610814 0.44822088]\n",
            " [0.36787944 0.44822088 0.51979489 0.57375342 0.60279818 0.60279818 0.57375342 0.51979489 0.44822088 0.36787944]]\n"
          ]
        }
      ],
      "source": [
        "X, Y = np.meshgrid(np.linspace(-1,1,10), np.linspace(-1,1,10))\n",
        "D = np.sqrt(X*X+Y*Y)\n",
        "sigma, mu = 1.0, 0.0\n",
        "\n",
        "G = np.exp(-( (D-mu)**2 / ( 2.0 * sigma**2 ) ) )\n",
        "\n",
        "print(G)"
      ]
    },
    {
      "cell_type": "markdown",
      "metadata": {
        "id": "mal-xLYikLue"
      },
      "source": [
        "#### 57. How to randomly place p elements in a 2D array? (★★☆) \n",
        "(**hint**: np.put, np.random.choice)"
      ]
    },
    {
      "cell_type": "code",
      "execution_count": null,
      "metadata": {
        "colab": {
          "base_uri": "https://localhost:8080/"
        },
        "id": "wTM-kJgckLue",
        "outputId": "3167cdf3-c011-4ad0-f445-50c9dce6cdcc"
      },
      "outputs": [
        {
          "output_type": "stream",
          "name": "stdout",
          "text": [
            "[[0. 0. 0. 0. 0. 0. 0. 0. 0. 0.]\n",
            " [0. 0. 0. 0. 0. 0. 0. 0. 0. 0.]\n",
            " [0. 0. 0. 0. 0. 0. 0. 0. 0. 0.]\n",
            " [0. 0. 0. 0. 0. 0. 0. 0. 0. 0.]\n",
            " [0. 0. 0. 0. 0. 0. 0. 1. 0. 0.]\n",
            " [0. 0. 0. 0. 0. 0. 0. 0. 0. 0.]\n",
            " [0. 0. 0. 0. 0. 0. 0. 0. 0. 0.]\n",
            " [0. 0. 0. 0. 0. 0. 1. 0. 0. 0.]\n",
            " [1. 0. 0. 0. 0. 0. 0. 0. 0. 0.]\n",
            " [0. 0. 0. 0. 0. 0. 0. 0. 0. 0.]]\n"
          ]
        }
      ],
      "source": [
        "n = 10\n",
        "p = 3\n",
        "Z = np.zeros((n,n))\n",
        "\n",
        "np.put(Z, np.random.choice(range(n*n), p, replace=False),1)\n",
        "\n",
        "print (Z)"
      ]
    },
    {
      "cell_type": "markdown",
      "metadata": {
        "id": "5K-CKJhZkLue"
      },
      "source": [
        "#### 58. Subtract the mean of each row of a matrix (★★☆) \n",
        "(**hint**: mean(axis=,keepdims=))"
      ]
    },
    {
      "cell_type": "code",
      "execution_count": null,
      "metadata": {
        "colab": {
          "base_uri": "https://localhost:8080/"
        },
        "id": "l6zjtiFjkLue",
        "outputId": "7500a65b-bcd3-4882-e1f6-2b1ef26fad05"
      },
      "outputs": [
        {
          "output_type": "stream",
          "name": "stdout",
          "text": [
            "[[-0.3138326  -0.17303491  0.4415264   0.43986559  0.48901378  0.1326427  -0.2050438  -0.01407909  0.3220103  -0.03289422  0.42868521 -0.35282983 -0.44573909  0.17308151 -0.27340876 -0.29130042 -0.1966591  -0.32506649 -0.13025534  0.32731815]\n",
            " [-0.23292527 -0.27831623 -0.32237274  0.14746905  0.4248699   0.01074495  0.17231209 -0.27411727  0.04070713  0.07947269 -0.43382496  0.10201991 -0.19872287 -0.02132741  0.32606951  0.43007235 -0.2370184  -0.1388595   0.46738225 -0.06363518]\n",
            " [-0.38705631  0.28991502  0.28448874  0.17061765 -0.19575021 -0.19308814 -0.33940686  0.54943255 -0.16306908 -0.26185389 -0.17242196  0.14139632  0.21336841  0.15027041  0.04646558 -0.26229961 -0.21361629 -0.0816271   0.21806609  0.20616866]\n",
            " [-0.22863967  0.26183623  0.24009482  0.2471272  -0.08794718 -0.24911009  0.13009562 -0.5596864   0.27199012  0.26777009  0.33205465 -0.35926641 -0.01550317 -0.12279588 -0.29194673  0.26501445 -0.06257818  0.24854572 -0.32869915  0.04164395]\n",
            " [ 0.30510133  0.10743922  0.37556497 -0.15953005 -0.21414501 -0.23638273  0.46009138 -0.32609858  0.32762243 -0.2817051   0.22192939  0.39997786  0.25056584 -0.26758446 -0.47878563  0.12403018 -0.2687848  -0.43449792 -0.36583262  0.4610243 ]\n",
            " [-0.43491548  0.22580506  0.30483804 -0.3874103  -0.03916228 -0.37935726  0.32284013  0.31783427  0.08485251  0.17564647  0.18029017  0.05740837 -0.34105742  0.0917698  -0.36411578  0.19763014  0.19244316  0.05480424 -0.321288    0.06114414]\n",
            " [ 0.14890863 -0.23867212  0.49188686 -0.30186038 -0.37327282 -0.16189777 -0.24883962  0.090744    0.34935074  0.4661826  -0.3273443   0.05594369  0.27433541 -0.0136723  -0.2465283   0.20467043  0.04535953 -0.22694414 -0.04327822  0.05492808]\n",
            " [ 0.59637056  0.29959844 -0.35048773  0.17066174 -0.1029316  -0.07662298 -0.01976492 -0.3247777  -0.32328358 -0.13404434 -0.06971953  0.19457202  0.51187547 -0.29140118  0.26557586 -0.1672949  -0.20186219 -0.04948585  0.38232915 -0.30930674]\n",
            " [-0.37570954  0.03896742 -0.12067974 -0.17127094 -0.08378916 -0.15369122 -0.31053166  0.4103384  -0.23255185  0.09513725 -0.34611167 -0.05345627  0.14547315  0.2504774   0.04055799  0.36867624  0.22412564  0.00969211  0.52878396 -0.26443753]\n",
            " [ 0.30325779  0.02092075  0.29144707 -0.41192708 -0.15249379  0.07688769 -0.14985319  0.50974299  0.52389827 -0.39459164  0.1714212   0.536215   -0.02040173 -0.22481533 -0.05572652 -0.23757432 -0.1301179  -0.1073813  -0.37121528 -0.17769267]]\n"
          ]
        }
      ],
      "source": [
        "X = np.random.rand(10, 20)\n",
        "\n",
        "Y = X - X.mean(axis=1, keepdims=True)\n",
        "print(Y)"
      ]
    },
    {
      "cell_type": "markdown",
      "metadata": {
        "id": "LW_b7GHHkLuf"
      },
      "source": [
        "#### 59. How to sort an array by the nth column? (★★☆) \n",
        "(**hint**: argsort)"
      ]
    },
    {
      "cell_type": "code",
      "execution_count": null,
      "metadata": {
        "colab": {
          "base_uri": "https://localhost:8080/"
        },
        "id": "TlsO_xsAkLuf",
        "outputId": "f3c5e1e4-8abe-4e4b-a449-62f12a5d2398"
      },
      "outputs": [
        {
          "output_type": "stream",
          "name": "stdout",
          "text": [
            "Before Sorted :  \n",
            " [[3 5 4 9 4]\n",
            " [7 3 6 6 9]\n",
            " [2 6 6 0 3]\n",
            " [3 8 9 3 1]\n",
            " [0 2 1 1 8]] \n",
            "\n",
            "After Sorted the nth column :  \n",
            " [[0 2 1 1 8]\n",
            " [7 3 6 6 9]\n",
            " [3 5 4 9 4]\n",
            " [2 6 6 0 3]\n",
            " [3 8 9 3 1]]\n"
          ]
        }
      ],
      "source": [
        "Z = np.random.randint(0,10,(5,5))\n",
        "print(\"Before Sorted : \",\"\\n\",Z,\"\\n\")\n",
        "\n",
        "print(\"After Sorted the nth column : \",\"\\n\",Z[Z[:,1].argsort()])"
      ]
    },
    {
      "cell_type": "markdown",
      "metadata": {
        "id": "5HPe-NaZkLuf"
      },
      "source": [
        "#### 60. How to tell if a given 2D array has null columns? (★★☆) \n",
        "(**hint**: any, ~)"
      ]
    },
    {
      "cell_type": "code",
      "execution_count": null,
      "metadata": {
        "colab": {
          "base_uri": "https://localhost:8080/"
        },
        "id": "R8BYNSwDkLug",
        "outputId": "3daba6a2-f88a-4163-a87e-bb74058150a3"
      },
      "outputs": [
        {
          "output_type": "stream",
          "name": "stdout",
          "text": [
            "False\n"
          ]
        }
      ],
      "source": [
        "Z = np.random.randint(0,5,(5,12))\n",
        "\n",
        "print((~Z.any(axis=0)).any())\n"
      ]
    },
    {
      "cell_type": "markdown",
      "metadata": {
        "id": "EnXcKkQOkLug"
      },
      "source": [
        "#### 61. Find the nearest value from a given value in an array (★★☆) \n",
        "(**hint**: np.abs, argmin, flat)"
      ]
    },
    {
      "cell_type": "code",
      "execution_count": null,
      "metadata": {
        "colab": {
          "base_uri": "https://localhost:8080/"
        },
        "id": "lqO7o9HSkLuh",
        "outputId": "bb7af5ff-75a2-4793-a995-f17cbae9a70d"
      },
      "outputs": [
        {
          "output_type": "stream",
          "name": "stdout",
          "text": [
            "1.299854794213053\n"
          ]
        }
      ],
      "source": [
        "Z = np.random.uniform(0,5,10)\n",
        "z = 1\n",
        "m = Z.flat[np.abs(Z - z).argmin()]\n",
        "\n",
        "print(m)"
      ]
    },
    {
      "cell_type": "markdown",
      "metadata": {
        "id": "3da-kqbZkLuh"
      },
      "source": [
        "#### 62. Considering two arrays with shape (1,3) and (3,1), how to compute their sum using an iterator? (★★☆) \n",
        "(**hint**: np.nditer)"
      ]
    },
    {
      "cell_type": "code",
      "execution_count": null,
      "metadata": {
        "colab": {
          "base_uri": "https://localhost:8080/"
        },
        "id": "-ChItSUrkLuh",
        "outputId": "6a2db1fd-3242-4732-c660-e3996d26b3c4"
      },
      "outputs": [
        {
          "output_type": "stream",
          "name": "stdout",
          "text": [
            "[[0 1 2]\n",
            " [1 2 3]\n",
            " [2 3 4]]\n"
          ]
        }
      ],
      "source": [
        "A = np.arange(3).reshape(1,3)\n",
        "B = np.arange(3).reshape(3,1)\n",
        "it = np.nditer([A,B,None])\n",
        "\n",
        "for x,y,z in it: z[...] = x + y\n",
        "print(it.operands[2])"
      ]
    },
    {
      "cell_type": "markdown",
      "metadata": {
        "id": "AOXwFx0ykLuh"
      },
      "source": [
        "#### 63. Create an array class that has a name attribute (★★☆) \n",
        "(**hint**: class method)"
      ]
    },
    {
      "cell_type": "code",
      "execution_count": null,
      "metadata": {
        "colab": {
          "base_uri": "https://localhost:8080/"
        },
        "id": "YoCMpNr_kLui",
        "outputId": "1d1761c3-a51c-42a4-922c-b777971d1eca"
      },
      "outputs": [
        {
          "output_type": "stream",
          "name": "stdout",
          "text": [
            "Range_10\n"
          ]
        }
      ],
      "source": [
        "class NamedArray(np.ndarray):\n",
        "    def __new__(cls, array, name=\"no name\"):\n",
        "        obj = np.asarray(array).view(cls)\n",
        "        obj.name = name\n",
        "        return obj\n",
        "    def __array_finalize__(self, obj):\n",
        "        if obj is None: return\n",
        "        self.info = getattr(obj, 'name', \"no name\")\n",
        "\n",
        "Z = NamedArray(np.arange(10),\"Range_10\")\n",
        "print (Z.name)"
      ]
    },
    {
      "cell_type": "markdown",
      "metadata": {
        "id": "hDL3v9rmkLui"
      },
      "source": [
        "#### 64. Consider a given vector, how to add 1 to each element indexed by a second vector (be careful with repeated indices)? (★★★) \n",
        "(**hint**: np.bincount | np.add.at)"
      ]
    },
    {
      "cell_type": "code",
      "execution_count": null,
      "metadata": {
        "colab": {
          "base_uri": "https://localhost:8080/"
        },
        "id": "vl5RsYTGkLui",
        "outputId": "a0db0543-7491-41aa-b87c-545bd4709c26"
      },
      "outputs": [
        {
          "output_type": "stream",
          "name": "stdout",
          "text": [
            "[3. 1. 5. 2. 2. 2. 4. 3. 3. 5.]\n"
          ]
        }
      ],
      "source": [
        "Z = np.ones(10)\n",
        "I = np.random.randint(0,len(Z),20)\n",
        "Z += np.bincount(I, minlength=len(Z))\n",
        "\n",
        "print(Z)"
      ]
    },
    {
      "cell_type": "markdown",
      "metadata": {
        "id": "9Gca73mhkLuj"
      },
      "source": [
        "#### 65. How to accumulate elements of a vector (X) to an array (F) based on an index list (I)? (★★★) \n",
        "(**hint**: np.bincount)"
      ]
    },
    {
      "cell_type": "code",
      "execution_count": null,
      "metadata": {
        "colab": {
          "base_uri": "https://localhost:8080/"
        },
        "id": "lubCvpdZkLuj",
        "outputId": "b446279f-7d8f-49b7-ed8e-ccc950f1e161"
      },
      "outputs": [
        {
          "output_type": "stream",
          "name": "stdout",
          "text": [
            "[0. 7. 0. 6. 5. 0. 0. 0. 0. 3.]\n"
          ]
        }
      ],
      "source": [
        "X = [1,2,3,4,5,6]\n",
        "I = [1,3,9,3,4,1]\n",
        "F = np.bincount(I,X)\n",
        "\n",
        "print(F)"
      ]
    },
    {
      "cell_type": "markdown",
      "metadata": {
        "id": "MHi41yTQkLuj"
      },
      "source": [
        "#### 66. Considering a (w,h,3) image of (dtype=ubyte), compute the number of unique colors (★★★) \n",
        "(**hint**: np.unique)"
      ]
    },
    {
      "cell_type": "code",
      "execution_count": null,
      "metadata": {
        "colab": {
          "base_uri": "https://localhost:8080/"
        },
        "id": "3qGpIERIkLuk",
        "outputId": "4da4857a-4bca-416d-d89b-9e6b6ad25398"
      },
      "outputs": [
        {
          "output_type": "stream",
          "name": "stdout",
          "text": [
            "[0 1]\n"
          ]
        }
      ],
      "source": [
        "w,h = 16,16\n",
        "I = np.random.randint(0,2,(h,w,3)).astype(np.ubyte)\n",
        "F = I[...,0]*256*256 + I[...,1]*256 +I[...,2]\n",
        "n = len(np.unique(F))\n",
        "\n",
        "print(np.unique(I))"
      ]
    },
    {
      "cell_type": "markdown",
      "metadata": {
        "id": "I3dWIviYkLuk"
      },
      "source": [
        "#### 67. Considering a four dimensions array, how to get sum over the last two axis at once? (★★★) \n",
        "(**hint**: sum(axis=(-2,-1)))"
      ]
    },
    {
      "cell_type": "code",
      "execution_count": null,
      "metadata": {
        "colab": {
          "base_uri": "https://localhost:8080/"
        },
        "id": "dTjlbDcakLuk",
        "outputId": "ea9c3b4c-936f-4f3a-9f37-e6bf30581664"
      },
      "outputs": [
        {
          "output_type": "stream",
          "name": "stdout",
          "text": [
            "[[67 43 38 58]\n",
            " [56 64 53 61]\n",
            " [53 65 69 52]]\n"
          ]
        }
      ],
      "source": [
        "A = np.random.randint(0,10,(3,4,3,4))\n",
        "sum = A.reshape(A.shape[:-2] + (-1,)).sum(axis=-1)\n",
        "\n",
        "print(sum)"
      ]
    },
    {
      "cell_type": "markdown",
      "metadata": {
        "id": "V5RSPBOpkLul"
      },
      "source": [
        "#### 68. Considering a one-dimensional vector D, how to compute means of subsets of D using a vector S of same size describing subset  indices? (★★★) \n",
        "(**hint**: np.bincount)"
      ]
    },
    {
      "cell_type": "code",
      "execution_count": null,
      "metadata": {
        "colab": {
          "base_uri": "https://localhost:8080/"
        },
        "id": "R8oX_HQPkLul",
        "outputId": "6016d6d7-8525-41b5-a2dd-3347217c3d97"
      },
      "outputs": [
        {
          "output_type": "stream",
          "name": "stdout",
          "text": [
            "[0.42190615 0.5445532  0.50000087 0.65696836 0.55098836 0.56804773 0.41903973 0.68097123 0.54648954 0.5515042 ]\n"
          ]
        }
      ],
      "source": [
        "D = np.random.uniform(0,1,100)\n",
        "S = np.random.randint(0,10,100)\n",
        "\n",
        "D_sums = np.bincount(S, weights=D)\n",
        "D_counts = np.bincount(S)\n",
        "\n",
        "D_means = D_sums / D_counts\n",
        "\n",
        "print(D_means)"
      ]
    },
    {
      "cell_type": "markdown",
      "metadata": {
        "id": "hHq7gV79kLul"
      },
      "source": [
        "#### 69. How to get the diagonal of a dot product? (★★★) \n",
        "(**hint**: np.diag)"
      ]
    },
    {
      "cell_type": "code",
      "execution_count": null,
      "metadata": {
        "colab": {
          "base_uri": "https://localhost:8080/"
        },
        "id": "RTOA7doikLum",
        "outputId": "bdca4a8b-8857-4894-f705-380648c83c96"
      },
      "outputs": [
        {
          "output_type": "stream",
          "name": "stdout",
          "text": [
            "[419 494 590 395 530]\n"
          ]
        }
      ],
      "source": [
        "A = np.random.randint(0,20,(5,5))\n",
        "B= np.random.randint(0,20,(5,5))\n",
        "\n",
        "print(np.diag(np.dot(A, B)))"
      ]
    },
    {
      "cell_type": "markdown",
      "metadata": {
        "id": "KGSfrH3xkLum"
      },
      "source": [
        "#### 70. Consider the vector \\[1, 2, 3, 4, 5\\], how to build a new vector with 3 consecutive zeros interleaved between each value? (★★★) \n",
        "(**hint**: array\\[::4\\])"
      ]
    },
    {
      "cell_type": "code",
      "execution_count": null,
      "metadata": {
        "colab": {
          "base_uri": "https://localhost:8080/"
        },
        "id": "d0LGDQ2RkLum",
        "outputId": "a1fb52b2-b512-4785-f044-9e9fe085851f"
      },
      "outputs": [
        {
          "output_type": "stream",
          "name": "stdout",
          "text": [
            "[1. 0. 0. 0. 2. 0. 0. 0. 3. 0. 0. 0. 4. 0. 0. 0. 5.]\n"
          ]
        }
      ],
      "source": [
        "Z = np.array([1,2,3,4,5])\n",
        "nz = 3\n",
        "\n",
        "Z0 = np.zeros(len(Z) + (len(Z)-1)*(nz))\n",
        "Z0[::nz+1] = Z\n",
        "\n",
        "print(Z0)"
      ]
    },
    {
      "cell_type": "markdown",
      "metadata": {
        "id": "UbimqINIkLun"
      },
      "source": [
        "#### 71. Consider an array of dimension (5,5,3), how to mulitply it by an array with dimensions (5,5)? (★★★) \n",
        "(**hint**: array\\[:, :, None\\])"
      ]
    },
    {
      "cell_type": "code",
      "execution_count": null,
      "metadata": {
        "collapsed": true,
        "colab": {
          "base_uri": "https://localhost:8080/"
        },
        "id": "iY7q-ilvkLun",
        "outputId": "ff371ab1-d7b9-495e-c56e-03a151f1e822"
      },
      "outputs": [
        {
          "output_type": "stream",
          "name": "stdout",
          "text": [
            "[[[2. 2. 2.]\n",
            "  [2. 2. 2.]\n",
            "  [2. 2. 2.]\n",
            "  [2. 2. 2.]\n",
            "  [2. 2. 2.]]\n",
            "\n",
            " [[2. 2. 2.]\n",
            "  [2. 2. 2.]\n",
            "  [2. 2. 2.]\n",
            "  [2. 2. 2.]\n",
            "  [2. 2. 2.]]\n",
            "\n",
            " [[2. 2. 2.]\n",
            "  [2. 2. 2.]\n",
            "  [2. 2. 2.]\n",
            "  [2. 2. 2.]\n",
            "  [2. 2. 2.]]\n",
            "\n",
            " [[2. 2. 2.]\n",
            "  [2. 2. 2.]\n",
            "  [2. 2. 2.]\n",
            "  [2. 2. 2.]\n",
            "  [2. 2. 2.]]\n",
            "\n",
            " [[2. 2. 2.]\n",
            "  [2. 2. 2.]\n",
            "  [2. 2. 2.]\n",
            "  [2. 2. 2.]\n",
            "  [2. 2. 2.]]]\n"
          ]
        }
      ],
      "source": [
        "A = np.ones((5,5,3))\n",
        "B = 2*np.ones((5,5))\n",
        "\n",
        "print(A * B[:,:,None])"
      ]
    },
    {
      "cell_type": "markdown",
      "metadata": {
        "id": "HTZO4_N2kLun"
      },
      "source": [
        "#### 72. How to swap two rows of an array? (★★★) \n",
        "(**hint**: array\\[\\[\\]\\] = array\\[\\[\\]\\])"
      ]
    },
    {
      "cell_type": "code",
      "execution_count": null,
      "metadata": {
        "colab": {
          "base_uri": "https://localhost:8080/"
        },
        "id": "Srglhh9okLuo",
        "outputId": "c1dc2c52-c495-4529-b94e-e8f30d0a3ac5"
      },
      "outputs": [
        {
          "output_type": "stream",
          "name": "stdout",
          "text": [
            "Before Swap :  \n",
            " [[ 0  1  2  3  4]\n",
            " [ 5  6  7  8  9]\n",
            " [10 11 12 13 14]\n",
            " [15 16 17 18 19]\n",
            " [20 21 22 23 24]] \n",
            "\n",
            "After Swap :  \n",
            " [[ 5  6  7  8  9]\n",
            " [ 0  1  2  3  4]\n",
            " [10 11 12 13 14]\n",
            " [15 16 17 18 19]\n",
            " [20 21 22 23 24]]\n"
          ]
        }
      ],
      "source": [
        "A = np.arange(25).reshape(5,5)\n",
        "print(\"Before Swap : \",\"\\n\",A,\"\\n\")\n",
        "\n",
        "A[[0,1]] = A[[1,0]]\n",
        "print(\"After Swap : \",\"\\n\",A)"
      ]
    },
    {
      "cell_type": "markdown",
      "metadata": {
        "id": "GJkN2OsikLuo"
      },
      "source": [
        "#### 73. Consider a set of 10 triplets describing 10 triangles (with shared vertices), find the set of unique line segments composing all the  triangles (★★★) \n",
        "(**hint**: repeat, np.roll, np.sort, view, np.unique)"
      ]
    },
    {
      "cell_type": "code",
      "execution_count": null,
      "metadata": {
        "colab": {
          "base_uri": "https://localhost:8080/"
        },
        "id": "tCmUZztokLup",
        "outputId": "248be6b2-898c-417b-a35e-13b5729eddff"
      },
      "outputs": [
        {
          "output_type": "stream",
          "name": "stdout",
          "text": [
            "[( 5, 36) ( 5, 46) ( 7, 23) ( 7, 69) (12, 22) (12, 29) (12, 36) (12, 69) (17, 31) (17, 87) (18, 32) (18, 60) (22, 29) (23, 69) (31, 87) (32, 60) (36, 46) (36, 69) (36, 70) (36, 73) (36, 81) (36, 88) (40, 55) (40, 81) (55, 81) (70, 81) (71, 73) (71, 84) (73, 84) (73, 88)]\n"
          ]
        }
      ],
      "source": [
        "faces = np.random.randint(0,100,(10,3))\n",
        "\n",
        "F = np.roll(faces.repeat(2,axis=1),-1,axis=1)\n",
        "F = F.reshape(len(F)*3,2)\n",
        "F = np.sort(F,axis=1)\n",
        "G = F.view( dtype=[('p0',F.dtype),('p1',F.dtype)] )\n",
        "G = np.unique(G)\n",
        "\n",
        "print(G)"
      ]
    },
    {
      "cell_type": "markdown",
      "metadata": {
        "id": "dDcxxGffkLup"
      },
      "source": [
        "#### 74. Given an array C that is a bincount, how to produce an array A such that np.bincount(A) == C? (★★★) \n",
        "(**hint**: np.repeat)"
      ]
    },
    {
      "cell_type": "code",
      "execution_count": null,
      "metadata": {
        "colab": {
          "base_uri": "https://localhost:8080/"
        },
        "id": "fMG9vvwLkLup",
        "outputId": "937735bd-9cd0-4522-a100-c2e3eaf4f0f9"
      },
      "outputs": [
        {
          "output_type": "stream",
          "name": "stdout",
          "text": [
            "[1 1 2 3 4 4 6 7 8 8 9 9]\n"
          ]
        }
      ],
      "source": [
        "C = np.bincount([1,1,2,3,4,4,6,7,8,8,9,9])\n",
        "A = np.repeat(np.arange(len(C)), C)\n",
        "\n",
        "print(A)"
      ]
    },
    {
      "cell_type": "markdown",
      "metadata": {
        "id": "mf9akAqokLuq"
      },
      "source": [
        "#### 75. How to compute averages using a sliding window over an array? (★★★) \n",
        "(**hint**: np.cumsum)"
      ]
    },
    {
      "cell_type": "code",
      "execution_count": null,
      "metadata": {
        "colab": {
          "base_uri": "https://localhost:8080/"
        },
        "id": "vfB3tY7ckLuq",
        "outputId": "b3bf94db-53e3-4b9d-dcca-e9fb780d3d61"
      },
      "outputs": [
        {
          "output_type": "stream",
          "name": "stdout",
          "text": [
            "[ 1.  2.  3.  4.  5.  6.  7.  8.  9. 10. 11. 12. 13. 14. 15. 16. 17. 18. 19. 20. 21. 22. 23. 24. 25. 26. 27. 28. 29. 30. 31. 32. 33. 34. 35. 36. 37. 38. 39. 40. 41. 42. 43. 44. 45. 46. 47. 48.]\n"
          ]
        }
      ],
      "source": [
        "def moving_average(a, n=3) :\n",
        "    ret = np.cumsum(a, dtype=float)\n",
        "    ret[n:] = ret[n:] - ret[:-n]\n",
        "    return ret[n - 1:] / n\n",
        "\n",
        "Z = np.arange(50)\n",
        "print(moving_average(Z, n=3))"
      ]
    },
    {
      "cell_type": "markdown",
      "metadata": {
        "id": "PjEH1BqEkLuq"
      },
      "source": [
        "#### 76. Consider a one-dimensional array Z, build a two-dimensional array whose first row is (Z\\[0\\],Z\\[1\\],Z\\[2\\]) and each subsequent row is  shifted by 1 (last row should be (Z\\[-3\\],Z\\[-2\\],Z\\[-1\\]) (★★★) \n",
        "(**hint**: from numpy.lib import stride_tricks)"
      ]
    },
    {
      "cell_type": "code",
      "execution_count": null,
      "metadata": {
        "colab": {
          "base_uri": "https://localhost:8080/"
        },
        "id": "-jIresVJkLur",
        "outputId": "82175ec5-e817-4ef0-fca5-55cd2232ff99"
      },
      "outputs": [
        {
          "output_type": "stream",
          "name": "stdout",
          "text": [
            "[[0 1 2]\n",
            " [1 2 3]\n",
            " [2 3 4]\n",
            " [3 4 5]\n",
            " [4 5 6]\n",
            " [5 6 7]\n",
            " [6 7 8]\n",
            " [7 8 9]]\n"
          ]
        }
      ],
      "source": [
        "def rolling(a, window):\n",
        "    shape = (a.size - window + 1, window)\n",
        "    strides = (a.itemsize, a.itemsize)\n",
        "    return np.lib.stride_tricks.as_strided(a, shape=shape, strides=strides)\n",
        "    \n",
        "Z = rolling(np.arange(10), 3)\n",
        "print(Z)"
      ]
    },
    {
      "cell_type": "markdown",
      "metadata": {
        "id": "QRpNXiFHkLur"
      },
      "source": [
        "#### 77. How to negate a boolean, or to change the sign of a float inplace? (★★★) \n",
        "(**hint**: np.logical_not, np.negative)"
      ]
    },
    {
      "cell_type": "code",
      "execution_count": null,
      "metadata": {
        "colab": {
          "base_uri": "https://localhost:8080/"
        },
        "id": "NibR3qPGkLur",
        "outputId": "12e9f593-ed98-422c-fb19-0116ab788750"
      },
      "outputs": [
        {
          "output_type": "stream",
          "name": "stdout",
          "text": [
            "Negating a boolean: \n",
            "[0 0 0 0 0 1 0 0 0 0 0 0 0 0 0 0 0 0 1 0 0 0 0 0 0 0 0 0 0 0 0 0 0 0 0 0 0 0 0 0 0 0 0 0 0 0 0 0 0 1 0 0 1 0 0 0 0 0 0 0 0 0 0 0 0 0 0 0 0 0 0 1 0 0 0 0 0 0 0 0 0 0 0 0 0 0 0 0 0 0 0 0 0 0 0 0 0 0 0 0] \n",
            "\n",
            "Change the sign of float inplace: \n",
            "[-0.90542683  0.60383775  0.87800987  0.78887565 -0.72298832 -0.22194569  0.60753116 -0.67404655  0.52737949 -0.67374172]\n"
          ]
        }
      ],
      "source": [
        "Z = np.random.randint(0,20,100)\n",
        "\n",
        "print('Negating a boolean: ')\n",
        "print(np.logical_not(Z, out=Z),\"\\n\")\n",
        "\n",
        "Z = np.random.uniform(-1.0,1.0,10)\n",
        "\n",
        "print ('Change the sign of float inplace: ')\n",
        "print(np.negative(Z, out=Z))"
      ]
    },
    {
      "cell_type": "markdown",
      "metadata": {
        "id": "LNPpzzyBkLus"
      },
      "source": [
        "#### 78. Consider 2 sets of points P0,P1 describing lines (2d) and a point p, how to compute distance from p to each line i  (P0\\[i\\],P1\\[i\\])? (★★★)"
      ]
    },
    {
      "cell_type": "code",
      "execution_count": null,
      "metadata": {
        "colab": {
          "base_uri": "https://localhost:8080/"
        },
        "id": "SUIql1emkLus",
        "outputId": "e4d083ac-65b9-4214-a239-e73954e4cdc9"
      },
      "outputs": [
        {
          "output_type": "stream",
          "name": "stdout",
          "text": [
            "[ 7.40322371  2.57528167  5.15247409  5.23639187  9.93417581  7.05187926 12.04238044  4.77413088  2.72286032  8.05829934]\n"
          ]
        }
      ],
      "source": [
        "def distance(P0, P1, p):\n",
        "    T = P1 - P0\n",
        "    L = (T**2).sum(axis=1)\n",
        "    U = -((P0[:,0]-p[...,0])*T[:,0] + (P0[:,1]-p[...,1])*T[:,1]) / L\n",
        "    U = U.reshape(len(U),1)\n",
        "    D = P0 + U*T - p\n",
        "    return np.sqrt((D**2).sum(axis=1))\n",
        "\n",
        "P0 = np.random.uniform(-10,10,(10,2))\n",
        "P1 = np.random.uniform(-10,10,(10,2))\n",
        "p  = np.random.uniform(-10,10,( 1,2))\n",
        "print(distance(P0, P1, p))"
      ]
    },
    {
      "cell_type": "markdown",
      "metadata": {
        "id": "_-lqOBSmkLus"
      },
      "source": [
        "#### 79. Consider 2 sets of points P0,P1 describing lines (2d) and a set of points P, how to compute distance from each point j (P\\[j\\]) to each line i (P0\\[i\\],P1\\[i\\])? (★★★)"
      ]
    },
    {
      "cell_type": "code",
      "execution_count": null,
      "metadata": {
        "colab": {
          "base_uri": "https://localhost:8080/"
        },
        "id": "okUDKQ5JkLut",
        "outputId": "0ebf0200-5334-4586-a8e1-c8da47d8412b"
      },
      "outputs": [
        {
          "output_type": "stream",
          "name": "stdout",
          "text": [
            "[[14.1147016  20.8685658  28.11524024 21.00815676 18.69234311 18.4239619  20.72478718 11.4791524  13.1711761  15.02611132]\n",
            " [12.25023169 19.7272091  20.61911684 15.62912694 10.75197575 18.86358923 17.38784283 18.61619406 14.73854614 12.1706397 ]\n",
            " [19.77023404 13.35598585 17.54533711 15.11790072 10.80930178 16.62639976  9.23152784 19.43152889 17.81717223 15.27945314]\n",
            " [14.14654433 15.6105142  20.65351568 18.79516158  9.46172292 17.93764078 14.75721735  7.70558987 15.06685976 16.20854282]\n",
            " [12.30589251 15.22927585 28.80970712 16.3560418  16.61503718 11.22612016 17.3340918  15.89235557  7.41508782  5.0953004 ]\n",
            " [14.75571186 22.50687635 21.85764844 12.14284793 22.28886261 18.01351162 22.68750641 18.67619014 20.56136406 11.79101791]\n",
            " [14.69635076 21.7919378  24.32365688 20.23456645 13.39095666 20.70566467 19.65059237 16.85000903 16.33166713 14.33736701]\n",
            " [19.96819574 16.30212991 20.20339272 19.69695187 15.38536125 19.41099895 17.04178999  8.97335522 18.4211342  19.53874833]\n",
            " [11.83424404 24.64546936 13.9017559  18.46169876 15.21022037 24.48988453 18.11718972 20.28830935 19.95527102 11.36812166]\n",
            " [13.52114328 15.95805827 20.59511676 14.2300384  15.96518376 14.19859614 15.75395137  9.59318531 13.17474458 12.6432421 ]]\n"
          ]
        }
      ],
      "source": [
        "P0 = np.random.uniform(-10, 10, (10,5))\n",
        "P1 = np.random.uniform(-10,10,(10,5))\n",
        "p = np.random.uniform(-10, 10, (10,5))\n",
        "\n",
        "print (np.array([distance(P0,P1,p_i) for p_i in p]))"
      ]
    },
    {
      "cell_type": "markdown",
      "metadata": {
        "id": "62EV32e3kLut"
      },
      "source": [
        "#### 80. Consider an arbitrary array, write a function that extract a subpart with a fixed shape and centered on a given element (pad with a `fill` value when necessary) (★★★) \n",
        "(**hint**: minimum, maximum)"
      ]
    },
    {
      "cell_type": "code",
      "execution_count": null,
      "metadata": {
        "colab": {
          "base_uri": "https://localhost:8080/"
        },
        "id": "2XRnmCGCkLut",
        "outputId": "8fdc82ac-eac1-4e73-e19a-ae4f4578e518"
      },
      "outputs": [
        {
          "output_type": "stream",
          "name": "stdout",
          "text": [
            "[[ 9 11  8  8 13  5 10  3  6  1  8  0 13  1  7  0  6  4  7 12]\n",
            " [10  3  5  7 11 13 14  5  5  8  8  4  6  0  1 11 13 11  3 13]\n",
            " [11  1  8  0 13  2  3 14  1  1  1 11  9 14  8  9  6 14  0  1]\n",
            " [ 3  7  6  5  3  8 12  1  4  4  2  4  8 10  9  4 10 13 11  1]\n",
            " [ 0  5 10  0  6  0 13  7 12  1  0  1  6  2  7  5 13  4  5  9]\n",
            " [ 7 12  8  1 13  0 13  5  2 11  0  6 13 11  1  7 10  8 12 11]\n",
            " [14 14  0  7 11  0  2  1 13  8  7 13  1  4  7  2  8  7  0 10]\n",
            " [ 8 10  4 11  7 11 13  7 11  4 13  4  6  9  5 14 14  7  9  6]\n",
            " [ 9  1  5 11  8 13  9  5 14 10  4 12  1  8  8  7  3  8 14 14]\n",
            " [ 7 14  7 14 13  5  3  4 13 13  8 10  0  8  7  9 11 12  8 14]] \n",
            "\n",
            "[[ 0  0  0  0  0]\n",
            " [ 0  9 11  8  8]\n",
            " [ 0 10  3  5  7]\n",
            " [ 0 11  1  8  0]\n",
            " [ 0  3  7  6  5]]\n"
          ]
        },
        {
          "output_type": "stream",
          "name": "stderr",
          "text": [
            "/usr/local/lib/python3.7/dist-packages/ipykernel_launcher.py:23: FutureWarning: Using a non-tuple sequence for multidimensional indexing is deprecated; use `arr[tuple(seq)]` instead of `arr[seq]`. In the future this will be interpreted as an array index, `arr[np.array(seq)]`, which will result either in an error or a different result.\n"
          ]
        }
      ],
      "source": [
        "Z = np.random.randint(0,15,(10,20))\n",
        "shape = (5,5)\n",
        "fill  = 0\n",
        "position = (1,1)\n",
        "\n",
        "R = np.ones(shape, dtype=Z.dtype)*fill\n",
        "P  = np.array(list(position)).astype(int)\n",
        "Rs = np.array(list(R.shape)).astype(int)\n",
        "Zs = np.array(list(Z.shape)).astype(int)\n",
        "\n",
        "R_start = np.zeros((len(shape),)).astype(int)\n",
        "R_stop  = np.array(list(shape)).astype(int)\n",
        "Z_start = (P-Rs//2)\n",
        "Z_stop  = (P+Rs//2)+Rs%2\n",
        "\n",
        "R_start = (R_start - np.minimum(Z_start,0)).tolist()\n",
        "Z_start = (np.maximum(Z_start,0)).tolist()\n",
        "R_stop = np.maximum(R_start, (R_stop - np.maximum(Z_stop-Zs,0))).tolist()\n",
        "Z_stop = (np.minimum(Z_stop,Zs)).tolist()\n",
        "\n",
        "r = [slice(start,stop) for start,stop in zip(R_start,R_stop)]\n",
        "z = [slice(start,stop) for start,stop in zip(Z_start,Z_stop)]\n",
        "R[r] = Z[z]\n",
        "\n",
        "print(Z,\"\\n\")\n",
        "print(R)"
      ]
    },
    {
      "cell_type": "markdown",
      "metadata": {
        "id": "USMjjZXEkLuu"
      },
      "source": [
        "#### 81. Consider an array Z = \\[1,2,3,4,5,6,7,8,9,10,11,12,13,14\\], how to generate an array R = \\[\\[1,2,3,4\\], \\[2,3,4,5\\], \\[3,4,5,6\\], ..., \\[11,12,13,14\\]\\]? (★★★) \n",
        "(**hint**: stride\\_tricks.as\\_strided)"
      ]
    },
    {
      "cell_type": "code",
      "execution_count": null,
      "metadata": {
        "colab": {
          "base_uri": "https://localhost:8080/"
        },
        "id": "iwhwxiFskLuu",
        "outputId": "d8913afb-781c-4a79-a91e-aeeafa7b2222"
      },
      "outputs": [
        {
          "output_type": "stream",
          "name": "stdout",
          "text": [
            "Before stride: \n",
            "[ 1  2  3  4  5  6  7  8  9 10 11 12 13 14] \n",
            "\n",
            "after strides: \n",
            "[[ 1  2  3  4]\n",
            " [ 2  3  4  5]\n",
            " [ 3  4  5  6]\n",
            " [ 4  5  6  7]\n",
            " [ 5  6  7  8]\n",
            " [ 6  7  8  9]\n",
            " [ 7  8  9 10]\n",
            " [ 8  9 10 11]\n",
            " [ 9 10 11 12]\n",
            " [10 11 12 13]\n",
            " [11 12 13 14]]\n"
          ]
        }
      ],
      "source": [
        "Z = np.arange(1,15,dtype=int)\n",
        "\n",
        "def rolling(a, window):\n",
        "    shape = (a.size - window + 1, window)\n",
        "    strides = (a.itemsize, a.itemsize)\n",
        "    return np.lib.stride_tricks.as_strided(a, shape=shape, strides=strides)\n",
        "R = rolling(Z, 4)\n",
        "\n",
        "print ('Before stride: ')\n",
        "print (Z,\"\\n\")\n",
        "print ('after strides: ')\n",
        "print(R)"
      ]
    },
    {
      "cell_type": "markdown",
      "metadata": {
        "id": "26P2azaWkLuv"
      },
      "source": [
        "#### 82. Compute a matrix rank (★★★) \n",
        "(**hint**: np.linalg.svd) (suggestion: np.linalg.svd)"
      ]
    },
    {
      "cell_type": "code",
      "execution_count": null,
      "metadata": {
        "colab": {
          "base_uri": "https://localhost:8080/"
        },
        "id": "D2jPYHn9kLuv",
        "outputId": "a6e0a6e9-b323-4043-f8ba-58afe0583f37"
      },
      "outputs": [
        {
          "output_type": "stream",
          "name": "stdout",
          "text": [
            "The rank of the matrix is :  5\n"
          ]
        }
      ],
      "source": [
        "Z = np.random.uniform(0,2,(5,5))\n",
        "U, S, V = np.linalg.svd(Z) \n",
        "rank = np.sum(S > 1e-10)\n",
        "\n",
        "print (\"The rank of the matrix is : \",rank)"
      ]
    },
    {
      "cell_type": "markdown",
      "metadata": {
        "id": "ZA7DW899kLuv"
      },
      "source": [
        "#### 83. How to find the most frequent value in an array? \n",
        "(**hint**: np.bincount, argmax)"
      ]
    },
    {
      "cell_type": "code",
      "execution_count": null,
      "metadata": {
        "colab": {
          "base_uri": "https://localhost:8080/"
        },
        "id": "8T2e1EDmkLuw",
        "outputId": "257cec53-5584-4769-a5c2-9b580fc45acb"
      },
      "outputs": [
        {
          "output_type": "stream",
          "name": "stdout",
          "text": [
            "[9 6 8 8 3 7 9 6 7 3 2 1 2 1 1 3 0 7 2 3 8 6 7 9 2 2 0 2 1 9 0 1 1 8 1 1 1 8 2 2 6 1 6 8 0 2 2 1 6 1 3 5 6 3 7 6 6 6 1 0 7 9 1 6 4 4 7 0 2 1 2 5 3 4 2 4 3 5 9 2 6 9 9 3 0 3 7 7 4 8 6 1 5 4 6 0 2 7 6 5]\n",
            "rank: 1\n"
          ]
        }
      ],
      "source": [
        "Z = np.random.randint(0,10,100)\n",
        "\n",
        "print (Z)\n",
        "print('rank:', np.bincount(Z).argmax())"
      ]
    },
    {
      "cell_type": "markdown",
      "metadata": {
        "id": "_J6LughjkLuw"
      },
      "source": [
        "#### 84. Extract all the contiguous 3x3 blocks from a random 10x10 matrix (★★★) \n",
        "(**hint**: stride\\_tricks.as\\_strided)"
      ]
    },
    {
      "cell_type": "code",
      "execution_count": null,
      "metadata": {
        "colab": {
          "base_uri": "https://localhost:8080/"
        },
        "id": "3l0fyskSkLuw",
        "outputId": "1c9ff0fd-1e7d-4571-f27f-d8d536c91cc9"
      },
      "outputs": [
        {
          "output_type": "stream",
          "name": "stdout",
          "text": [
            "[[[[0 2 3]\n",
            "   [4 3 3]\n",
            "   [1 0 2]]\n",
            "\n",
            "  [[2 3 3]\n",
            "   [3 3 2]\n",
            "   [0 2 3]]\n",
            "\n",
            "  [[3 3 0]\n",
            "   [3 2 1]\n",
            "   [2 3 0]]\n",
            "\n",
            "  [[3 0 0]\n",
            "   [2 1 2]\n",
            "   [3 0 4]]\n",
            "\n",
            "  [[0 0 1]\n",
            "   [1 2 0]\n",
            "   [0 4 2]]\n",
            "\n",
            "  [[0 1 1]\n",
            "   [2 0 3]\n",
            "   [4 2 2]]\n",
            "\n",
            "  [[1 1 4]\n",
            "   [0 3 1]\n",
            "   [2 2 2]]\n",
            "\n",
            "  [[1 4 4]\n",
            "   [3 1 4]\n",
            "   [2 2 3]]]\n",
            "\n",
            "\n",
            " [[[4 3 3]\n",
            "   [1 0 2]\n",
            "   [4 4 0]]\n",
            "\n",
            "  [[3 3 2]\n",
            "   [0 2 3]\n",
            "   [4 0 3]]\n",
            "\n",
            "  [[3 2 1]\n",
            "   [2 3 0]\n",
            "   [0 3 0]]\n",
            "\n",
            "  [[2 1 2]\n",
            "   [3 0 4]\n",
            "   [3 0 4]]\n",
            "\n",
            "  [[1 2 0]\n",
            "   [0 4 2]\n",
            "   [0 4 2]]\n",
            "\n",
            "  [[2 0 3]\n",
            "   [4 2 2]\n",
            "   [4 2 4]]\n",
            "\n",
            "  [[0 3 1]\n",
            "   [2 2 2]\n",
            "   [2 4 1]]\n",
            "\n",
            "  [[3 1 4]\n",
            "   [2 2 3]\n",
            "   [4 1 1]]]\n",
            "\n",
            "\n",
            " [[[1 0 2]\n",
            "   [4 4 0]\n",
            "   [0 2 4]]\n",
            "\n",
            "  [[0 2 3]\n",
            "   [4 0 3]\n",
            "   [2 4 0]]\n",
            "\n",
            "  [[2 3 0]\n",
            "   [0 3 0]\n",
            "   [4 0 4]]\n",
            "\n",
            "  [[3 0 4]\n",
            "   [3 0 4]\n",
            "   [0 4 3]]\n",
            "\n",
            "  [[0 4 2]\n",
            "   [0 4 2]\n",
            "   [4 3 0]]\n",
            "\n",
            "  [[4 2 2]\n",
            "   [4 2 4]\n",
            "   [3 0 0]]\n",
            "\n",
            "  [[2 2 2]\n",
            "   [2 4 1]\n",
            "   [0 0 4]]\n",
            "\n",
            "  [[2 2 3]\n",
            "   [4 1 1]\n",
            "   [0 4 1]]]\n",
            "\n",
            "\n",
            " [[[4 4 0]\n",
            "   [0 2 4]\n",
            "   [1 0 1]]\n",
            "\n",
            "  [[4 0 3]\n",
            "   [2 4 0]\n",
            "   [0 1 1]]\n",
            "\n",
            "  [[0 3 0]\n",
            "   [4 0 4]\n",
            "   [1 1 3]]\n",
            "\n",
            "  [[3 0 4]\n",
            "   [0 4 3]\n",
            "   [1 3 0]]\n",
            "\n",
            "  [[0 4 2]\n",
            "   [4 3 0]\n",
            "   [3 0 0]]\n",
            "\n",
            "  [[4 2 4]\n",
            "   [3 0 0]\n",
            "   [0 0 3]]\n",
            "\n",
            "  [[2 4 1]\n",
            "   [0 0 4]\n",
            "   [0 3 2]]\n",
            "\n",
            "  [[4 1 1]\n",
            "   [0 4 1]\n",
            "   [3 2 4]]]\n",
            "\n",
            "\n",
            " [[[0 2 4]\n",
            "   [1 0 1]\n",
            "   [3 4 0]]\n",
            "\n",
            "  [[2 4 0]\n",
            "   [0 1 1]\n",
            "   [4 0 1]]\n",
            "\n",
            "  [[4 0 4]\n",
            "   [1 1 3]\n",
            "   [0 1 3]]\n",
            "\n",
            "  [[0 4 3]\n",
            "   [1 3 0]\n",
            "   [1 3 0]]\n",
            "\n",
            "  [[4 3 0]\n",
            "   [3 0 0]\n",
            "   [3 0 1]]\n",
            "\n",
            "  [[3 0 0]\n",
            "   [0 0 3]\n",
            "   [0 1 0]]\n",
            "\n",
            "  [[0 0 4]\n",
            "   [0 3 2]\n",
            "   [1 0 0]]\n",
            "\n",
            "  [[0 4 1]\n",
            "   [3 2 4]\n",
            "   [0 0 3]]]\n",
            "\n",
            "\n",
            " [[[1 0 1]\n",
            "   [3 4 0]\n",
            "   [1 0 2]]\n",
            "\n",
            "  [[0 1 1]\n",
            "   [4 0 1]\n",
            "   [0 2 3]]\n",
            "\n",
            "  [[1 1 3]\n",
            "   [0 1 3]\n",
            "   [2 3 1]]\n",
            "\n",
            "  [[1 3 0]\n",
            "   [1 3 0]\n",
            "   [3 1 3]]\n",
            "\n",
            "  [[3 0 0]\n",
            "   [3 0 1]\n",
            "   [1 3 1]]\n",
            "\n",
            "  [[0 0 3]\n",
            "   [0 1 0]\n",
            "   [3 1 3]]\n",
            "\n",
            "  [[0 3 2]\n",
            "   [1 0 0]\n",
            "   [1 3 0]]\n",
            "\n",
            "  [[3 2 4]\n",
            "   [0 0 3]\n",
            "   [3 0 1]]]\n",
            "\n",
            "\n",
            " [[[3 4 0]\n",
            "   [1 0 2]\n",
            "   [1 0 1]]\n",
            "\n",
            "  [[4 0 1]\n",
            "   [0 2 3]\n",
            "   [0 1 2]]\n",
            "\n",
            "  [[0 1 3]\n",
            "   [2 3 1]\n",
            "   [1 2 4]]\n",
            "\n",
            "  [[1 3 0]\n",
            "   [3 1 3]\n",
            "   [2 4 3]]\n",
            "\n",
            "  [[3 0 1]\n",
            "   [1 3 1]\n",
            "   [4 3 0]]\n",
            "\n",
            "  [[0 1 0]\n",
            "   [3 1 3]\n",
            "   [3 0 0]]\n",
            "\n",
            "  [[1 0 0]\n",
            "   [1 3 0]\n",
            "   [0 0 0]]\n",
            "\n",
            "  [[0 0 3]\n",
            "   [3 0 1]\n",
            "   [0 0 2]]]\n",
            "\n",
            "\n",
            " [[[1 0 2]\n",
            "   [1 0 1]\n",
            "   [4 2 0]]\n",
            "\n",
            "  [[0 2 3]\n",
            "   [0 1 2]\n",
            "   [2 0 2]]\n",
            "\n",
            "  [[2 3 1]\n",
            "   [1 2 4]\n",
            "   [0 2 3]]\n",
            "\n",
            "  [[3 1 3]\n",
            "   [2 4 3]\n",
            "   [2 3 4]]\n",
            "\n",
            "  [[1 3 1]\n",
            "   [4 3 0]\n",
            "   [3 4 3]]\n",
            "\n",
            "  [[3 1 3]\n",
            "   [3 0 0]\n",
            "   [4 3 0]]\n",
            "\n",
            "  [[1 3 0]\n",
            "   [0 0 0]\n",
            "   [3 0 3]]\n",
            "\n",
            "  [[3 0 1]\n",
            "   [0 0 2]\n",
            "   [0 3 1]]]]\n"
          ]
        }
      ],
      "source": [
        "Z = np.random.randint(0,5,(10,10))\n",
        "n = 3\n",
        "i = 1 + (Z.shape[0]-3)\n",
        "j = 1 + (Z.shape[1]-3)\n",
        "C = np.lib.stride_tricks.as_strided(Z, shape=(i, j, n, n), strides=Z.strides + Z.strides)\n",
        "\n",
        "print(C)"
      ]
    },
    {
      "cell_type": "markdown",
      "metadata": {
        "id": "Q4J3NWZIkLuw"
      },
      "source": [
        "#### 85. Create a 2D array subclass such that Z\\[i,j\\] == Z\\[j,i\\] (★★★) \n",
        "(**hint**: class method)"
      ]
    },
    {
      "cell_type": "code",
      "execution_count": null,
      "metadata": {
        "colab": {
          "base_uri": "https://localhost:8080/"
        },
        "id": "IZp683C_kLux",
        "outputId": "743b4452-c560-4a7e-d88e-468b8dc1da71"
      },
      "outputs": [
        {
          "output_type": "stream",
          "name": "stdout",
          "text": [
            "[[ 1 14  7  9  7]\n",
            " [14  9 14 12 14]\n",
            " [ 7 14  4 42 11]\n",
            " [ 9 12 42  6 17]\n",
            " [ 7 14 11 17  6]]\n"
          ]
        }
      ],
      "source": [
        "class Symetric(np.ndarray):\n",
        "    def __setitem__(self, index, value):\n",
        "        i,j = index\n",
        "        super(Symetric, self).__setitem__((i,j), value)\n",
        "        super(Symetric, self).__setitem__((j,i), value)\n",
        "\n",
        "def symetric(Z):\n",
        "    return np.asarray(Z + Z.T - np.diag(Z.diagonal())).view(Symetric)\n",
        "\n",
        "S = symetric(np.random.randint(0,10,(5,5)))\n",
        "S[2,3] = 42\n",
        "print(S)"
      ]
    },
    {
      "cell_type": "markdown",
      "metadata": {
        "id": "7Rehu6hdkLux"
      },
      "source": [
        "#### 86. Consider a set of p matrices wich shape (n,n) and a set of p vectors with shape (n,1). How to compute the sum of of the p matrix products at once? (result has shape (n,1)) (★★★) \n",
        "(**hint**: np.tensordot)"
      ]
    },
    {
      "cell_type": "code",
      "execution_count": null,
      "metadata": {
        "colab": {
          "base_uri": "https://localhost:8080/"
        },
        "id": "qxYzECr9kLux",
        "outputId": "bfe2aaca-0605-44f0-aa2c-6eb1e82ec672"
      },
      "outputs": [
        {
          "output_type": "stream",
          "name": "stdout",
          "text": [
            "[[20000.]\n",
            " [20000.]\n",
            " [20000.]\n",
            " [20000.]\n",
            " [20000.]\n",
            " [20000.]\n",
            " [20000.]\n",
            " [20000.]\n",
            " [20000.]\n",
            " [20000.]\n",
            " [20000.]\n",
            " [20000.]\n",
            " [20000.]\n",
            " [20000.]\n",
            " [20000.]\n",
            " [20000.]\n",
            " [20000.]\n",
            " [20000.]\n",
            " [20000.]\n",
            " [20000.]\n",
            " [20000.]\n",
            " [20000.]\n",
            " [20000.]\n",
            " [20000.]\n",
            " [20000.]\n",
            " [20000.]\n",
            " [20000.]\n",
            " [20000.]\n",
            " [20000.]\n",
            " [20000.]\n",
            " [20000.]\n",
            " [20000.]\n",
            " [20000.]\n",
            " [20000.]\n",
            " [20000.]\n",
            " [20000.]\n",
            " [20000.]\n",
            " [20000.]\n",
            " [20000.]\n",
            " [20000.]\n",
            " [20000.]\n",
            " [20000.]\n",
            " [20000.]\n",
            " [20000.]\n",
            " [20000.]\n",
            " [20000.]\n",
            " [20000.]\n",
            " [20000.]\n",
            " [20000.]\n",
            " [20000.]\n",
            " [20000.]\n",
            " [20000.]\n",
            " [20000.]\n",
            " [20000.]\n",
            " [20000.]\n",
            " [20000.]\n",
            " [20000.]\n",
            " [20000.]\n",
            " [20000.]\n",
            " [20000.]\n",
            " [20000.]\n",
            " [20000.]\n",
            " [20000.]\n",
            " [20000.]\n",
            " [20000.]\n",
            " [20000.]\n",
            " [20000.]\n",
            " [20000.]\n",
            " [20000.]\n",
            " [20000.]\n",
            " [20000.]\n",
            " [20000.]\n",
            " [20000.]\n",
            " [20000.]\n",
            " [20000.]\n",
            " [20000.]\n",
            " [20000.]\n",
            " [20000.]\n",
            " [20000.]\n",
            " [20000.]\n",
            " [20000.]\n",
            " [20000.]\n",
            " [20000.]\n",
            " [20000.]\n",
            " [20000.]\n",
            " [20000.]\n",
            " [20000.]\n",
            " [20000.]\n",
            " [20000.]\n",
            " [20000.]\n",
            " [20000.]\n",
            " [20000.]\n",
            " [20000.]\n",
            " [20000.]\n",
            " [20000.]\n",
            " [20000.]\n",
            " [20000.]\n",
            " [20000.]\n",
            " [20000.]\n",
            " [20000.]\n",
            " [20000.]\n",
            " [20000.]\n",
            " [20000.]\n",
            " [20000.]\n",
            " [20000.]\n",
            " [20000.]\n",
            " [20000.]\n",
            " [20000.]\n",
            " [20000.]\n",
            " [20000.]\n",
            " [20000.]\n",
            " [20000.]\n",
            " [20000.]\n",
            " [20000.]\n",
            " [20000.]\n",
            " [20000.]\n",
            " [20000.]\n",
            " [20000.]\n",
            " [20000.]\n",
            " [20000.]\n",
            " [20000.]\n",
            " [20000.]\n",
            " [20000.]\n",
            " [20000.]\n",
            " [20000.]\n",
            " [20000.]\n",
            " [20000.]\n",
            " [20000.]\n",
            " [20000.]\n",
            " [20000.]\n",
            " [20000.]\n",
            " [20000.]\n",
            " [20000.]\n",
            " [20000.]\n",
            " [20000.]\n",
            " [20000.]\n",
            " [20000.]\n",
            " [20000.]\n",
            " [20000.]\n",
            " [20000.]\n",
            " [20000.]\n",
            " [20000.]\n",
            " [20000.]\n",
            " [20000.]\n",
            " [20000.]\n",
            " [20000.]\n",
            " [20000.]\n",
            " [20000.]\n",
            " [20000.]\n",
            " [20000.]\n",
            " [20000.]\n",
            " [20000.]\n",
            " [20000.]\n",
            " [20000.]\n",
            " [20000.]\n",
            " [20000.]\n",
            " [20000.]\n",
            " [20000.]\n",
            " [20000.]\n",
            " [20000.]\n",
            " [20000.]\n",
            " [20000.]\n",
            " [20000.]\n",
            " [20000.]\n",
            " [20000.]\n",
            " [20000.]\n",
            " [20000.]\n",
            " [20000.]\n",
            " [20000.]\n",
            " [20000.]\n",
            " [20000.]\n",
            " [20000.]\n",
            " [20000.]\n",
            " [20000.]\n",
            " [20000.]\n",
            " [20000.]\n",
            " [20000.]\n",
            " [20000.]\n",
            " [20000.]\n",
            " [20000.]\n",
            " [20000.]\n",
            " [20000.]\n",
            " [20000.]\n",
            " [20000.]\n",
            " [20000.]\n",
            " [20000.]\n",
            " [20000.]\n",
            " [20000.]\n",
            " [20000.]\n",
            " [20000.]\n",
            " [20000.]\n",
            " [20000.]\n",
            " [20000.]\n",
            " [20000.]\n",
            " [20000.]\n",
            " [20000.]\n",
            " [20000.]\n",
            " [20000.]\n",
            " [20000.]\n",
            " [20000.]]\n"
          ]
        }
      ],
      "source": [
        "p, n = 100, 200\n",
        "M = np.ones((p,n,n))\n",
        "V = np.ones((p,n,1))\n",
        "S = np.tensordot(M, V, axes=[[0, 2], [0, 1]])\n",
        "\n",
        "print(S)"
      ]
    },
    {
      "cell_type": "markdown",
      "metadata": {
        "id": "FDkWpNaKkLuy"
      },
      "source": [
        "#### 87. Consider a 16x16 array, how to get the block-sum (block size is 4x4)? (★★★) \n",
        "(**hint**: np.add.reduceat)"
      ]
    },
    {
      "cell_type": "code",
      "execution_count": null,
      "metadata": {
        "colab": {
          "base_uri": "https://localhost:8080/"
        },
        "id": "URLn4FKSkLuy",
        "outputId": "c6b0e1f5-ba89-4bb9-a598-67d2b1c9a334"
      },
      "outputs": [
        {
          "output_type": "stream",
          "name": "stdout",
          "text": [
            "[[16. 16. 16. 16.]\n",
            " [16. 16. 16. 16.]\n",
            " [16. 16. 16. 16.]\n",
            " [16. 16. 16. 16.]]\n"
          ]
        }
      ],
      "source": [
        "Z = np.ones((16,16))\n",
        "k = 4\n",
        "S = np.add.reduceat(np.add.reduceat(Z, np.arange(0, Z.shape[0], k), axis=0),\n",
        "                                       np.arange(0, Z.shape[1], k), axis=1)\n",
        "print (S)"
      ]
    },
    {
      "cell_type": "markdown",
      "metadata": {
        "id": "RoMIL6gCkLuy"
      },
      "source": [
        "#### 88. How to implement the Game of Life using numpy arrays? (★★★)"
      ]
    },
    {
      "cell_type": "code",
      "execution_count": null,
      "metadata": {
        "colab": {
          "base_uri": "https://localhost:8080/"
        },
        "id": "vAeaB0z2kLuy",
        "outputId": "f0318180-3b87-4c0d-be7f-271b9b55bc2b"
      },
      "outputs": [
        {
          "output_type": "stream",
          "name": "stdout",
          "text": [
            "[[0 0 0 0 0 0 0 0 0 0 0 0 0 0 0 0 0 0 0 0 0 0 0 0 0 0 0 0 0 0 0 0 0 0 0 0 0 0 0 0 0 0 0 0 0 0 0 0 0 0]\n",
            " [0 0 0 0 0 0 0 0 0 0 0 0 0 0 0 0 0 0 0 0 0 0 0 0 0 0 1 1 0 0 0 0 0 0 0 0 0 0 0 0 0 0 0 0 0 0 0 0 0 0]\n",
            " [0 0 0 0 0 0 0 0 0 0 0 0 0 0 0 0 0 0 0 0 0 0 0 0 0 0 1 1 0 0 0 0 0 0 0 0 0 0 0 0 0 0 0 0 0 0 0 0 0 0]\n",
            " [0 0 0 0 0 0 0 0 0 0 0 0 0 0 0 0 0 0 0 0 0 0 0 0 0 0 0 0 0 0 0 0 0 0 0 0 0 0 0 0 0 0 0 0 0 0 0 0 0 0]\n",
            " [0 0 0 0 0 0 0 0 0 0 0 0 0 0 0 0 0 0 0 0 0 0 0 0 0 0 0 0 0 0 0 0 0 0 0 0 0 0 0 0 0 0 0 0 0 0 0 0 0 0]\n",
            " [0 0 0 0 0 0 0 0 0 0 0 0 0 0 0 0 0 0 0 0 0 0 0 0 0 0 0 0 0 0 0 0 0 0 0 0 0 0 0 1 1 0 0 0 0 0 0 0 0 0]\n",
            " [0 0 0 0 0 0 0 0 0 0 0 0 0 0 0 0 0 0 0 0 0 0 0 0 0 0 0 0 0 0 0 0 0 0 0 0 0 0 0 1 1 0 0 0 0 0 0 0 0 0]\n",
            " [0 0 0 0 0 0 0 0 0 0 0 0 0 0 0 0 0 0 0 0 0 0 1 0 0 0 0 0 0 0 0 0 0 0 0 0 0 0 0 0 0 0 0 0 0 0 0 0 0 0]\n",
            " [0 0 0 0 0 0 0 0 0 0 0 0 0 0 0 0 0 0 0 0 0 1 0 1 0 0 0 0 0 0 0 0 0 0 0 0 0 0 0 0 0 0 0 0 0 0 0 0 0 0]\n",
            " [0 0 0 0 0 0 0 1 1 0 0 0 0 0 0 0 0 0 0 0 0 0 1 1 0 0 0 0 0 0 0 0 0 0 0 0 0 0 0 0 0 0 0 0 0 0 0 0 0 0]\n",
            " [0 0 0 0 0 0 1 0 1 1 0 0 0 0 0 0 0 0 0 0 0 0 0 0 0 0 0 0 0 0 0 0 0 0 0 0 0 0 0 0 0 0 0 0 0 0 0 0 0 0]\n",
            " [0 0 0 0 1 1 1 1 1 0 0 0 0 1 1 0 0 0 0 0 0 0 0 0 0 0 0 0 0 0 0 0 0 0 0 0 0 0 0 0 0 0 0 0 0 0 0 0 0 0]\n",
            " [0 1 0 1 1 1 1 1 0 0 0 0 1 1 1 1 0 0 0 0 0 0 0 0 0 0 0 0 0 0 0 0 0 0 0 0 0 0 0 0 0 0 0 1 0 0 0 0 0 0]\n",
            " [0 1 1 1 0 0 0 0 0 0 0 1 0 1 0 1 1 0 0 0 0 0 0 0 0 0 0 0 0 0 0 0 0 0 0 0 0 0 0 0 0 0 0 1 0 0 0 0 0 0]\n",
            " [0 0 1 0 0 0 0 0 0 0 0 0 1 0 0 0 0 1 1 0 0 0 0 0 0 0 0 0 0 0 0 0 0 0 0 0 0 0 0 0 0 0 0 1 0 0 0 0 0 0]\n",
            " [0 0 0 0 0 0 0 0 0 0 0 0 0 0 1 0 0 0 0 1 0 0 0 0 0 0 0 0 0 0 0 0 0 0 0 0 0 0 0 0 0 0 0 0 0 0 0 0 0 0]\n",
            " [0 0 0 0 0 0 0 0 0 0 0 0 0 1 0 0 0 0 0 1 0 0 0 0 0 0 0 0 0 0 0 1 1 0 0 0 0 0 1 1 0 0 0 1 0 0 0 0 0 0]\n",
            " [0 0 0 0 0 0 0 0 0 0 0 0 0 0 0 0 0 1 1 1 0 0 0 0 1 0 0 0 0 0 0 1 1 0 0 0 0 0 0 0 0 0 0 1 0 0 0 0 0 0]\n",
            " [0 0 0 0 0 0 0 0 0 0 0 0 0 0 1 1 1 0 0 0 0 0 0 1 0 1 0 0 1 0 0 0 0 0 0 0 0 0 0 0 0 0 0 0 0 0 0 0 0 0]\n",
            " [0 0 0 0 0 0 0 0 0 0 0 0 0 0 0 0 0 0 0 0 0 0 0 0 0 0 0 0 1 0 0 0 0 0 0 0 0 0 0 0 0 0 0 0 0 0 0 0 0 0]\n",
            " [0 0 0 0 0 0 0 0 0 0 0 0 0 0 0 0 0 0 0 0 0 0 0 1 0 0 0 0 0 0 0 0 0 0 0 0 0 0 0 0 0 0 0 0 0 0 0 0 0 0]\n",
            " [0 0 0 0 0 0 0 0 0 0 0 0 0 0 0 0 0 0 0 0 0 0 0 1 1 0 1 0 0 0 0 0 0 0 0 0 0 0 0 0 0 0 0 0 0 0 0 0 0 0]\n",
            " [0 0 0 0 0 0 0 0 0 0 0 0 0 0 0 0 0 0 0 0 0 0 0 0 0 1 0 0 0 0 0 0 0 0 0 0 0 0 0 0 0 0 0 0 0 0 0 0 0 0]\n",
            " [0 0 0 0 0 0 0 0 0 0 0 0 0 0 0 0 0 0 0 0 0 0 0 0 1 0 1 0 0 0 0 0 0 0 0 0 0 0 0 0 0 0 0 0 0 0 0 0 0 0]\n",
            " [0 0 0 0 0 0 0 0 0 0 0 0 0 0 0 0 0 0 0 0 0 0 0 0 0 1 0 0 0 0 0 0 0 0 0 0 0 0 0 0 0 0 0 0 0 0 0 0 0 0]\n",
            " [0 0 0 0 0 0 0 0 0 0 0 0 0 0 0 0 0 0 0 0 0 1 1 0 0 1 0 0 0 0 0 0 0 0 0 0 0 0 0 0 0 0 0 0 0 0 0 0 0 0]\n",
            " [0 0 0 0 0 0 0 0 0 0 0 0 0 0 0 0 0 0 0 0 1 1 1 0 0 0 0 0 0 0 0 0 0 0 0 0 0 0 0 0 0 0 0 0 0 0 0 0 0 0]\n",
            " [0 0 0 0 0 0 0 0 0 0 0 0 0 0 0 0 0 0 0 0 0 0 0 0 0 0 0 0 0 0 0 0 0 0 0 0 0 0 0 0 0 0 0 0 0 0 0 0 0 0]\n",
            " [0 0 0 0 0 0 0 0 0 0 0 0 0 0 0 0 0 0 0 0 0 0 0 0 0 0 0 0 0 0 0 0 0 0 0 0 0 0 0 0 0 0 0 0 0 0 0 0 0 0]\n",
            " [0 0 0 0 0 0 0 0 0 0 0 0 0 0 0 0 1 1 1 0 0 0 1 1 1 0 0 0 0 0 0 0 0 0 0 0 0 0 0 0 0 0 0 0 0 0 0 0 0 0]\n",
            " [0 0 0 0 0 0 0 0 0 0 0 0 0 0 0 0 0 0 0 0 0 0 0 0 0 0 0 0 0 0 0 0 0 0 0 0 0 0 0 0 0 0 0 0 0 0 0 0 0 0]\n",
            " [0 0 0 0 0 0 0 0 0 0 0 0 0 0 0 0 0 0 0 0 0 0 0 0 0 0 0 0 0 0 0 0 0 0 0 0 0 0 0 0 0 0 0 0 0 0 0 1 1 0]\n",
            " [0 0 0 0 0 0 0 0 0 0 0 0 0 0 0 0 0 0 0 0 0 0 0 0 0 0 0 0 0 0 0 0 0 0 0 0 0 0 0 0 0 0 0 0 0 0 0 1 1 0]\n",
            " [0 0 0 0 0 0 0 0 0 0 0 0 0 0 0 0 0 0 0 0 0 0 0 0 0 0 0 0 0 0 0 0 0 0 1 1 0 0 0 0 0 0 0 0 0 0 0 0 0 0]\n",
            " [0 0 0 0 0 0 0 0 0 0 0 0 0 0 0 0 0 0 0 0 0 0 0 0 0 0 0 0 0 0 0 0 0 0 1 1 0 0 0 0 0 0 0 0 0 0 0 0 0 0]\n",
            " [0 0 0 0 0 0 0 0 0 0 0 0 0 0 0 0 0 0 0 0 0 0 0 0 0 0 0 0 0 0 0 0 0 0 0 0 0 0 0 0 0 0 0 0 0 0 0 0 0 0]\n",
            " [0 0 0 0 0 0 0 0 0 0 0 0 0 0 0 0 0 0 0 0 0 0 0 0 0 0 0 0 0 0 0 0 0 0 0 0 0 0 0 0 0 0 0 0 0 0 0 0 0 0]\n",
            " [0 0 0 0 0 0 0 0 0 0 0 0 0 0 0 0 0 0 0 0 0 0 0 0 0 0 0 0 0 0 0 0 0 0 0 0 0 0 0 0 0 0 0 0 0 0 0 0 0 0]\n",
            " [0 0 0 0 0 0 0 0 0 0 0 0 0 0 0 0 0 0 0 0 0 0 0 0 0 0 0 0 0 0 0 0 0 0 0 0 0 0 0 0 0 0 0 0 0 0 0 0 0 0]\n",
            " [0 0 0 0 0 0 0 0 0 0 0 0 0 0 0 0 0 0 0 0 0 0 0 0 0 0 0 0 0 0 0 0 0 0 0 0 0 0 0 0 0 0 0 0 0 0 0 0 0 0]\n",
            " [0 0 0 0 0 0 0 0 0 0 0 0 0 1 1 0 0 0 0 0 0 0 0 0 0 0 0 0 0 0 0 0 0 0 0 0 0 0 0 0 0 0 0 0 0 0 0 0 0 0]\n",
            " [0 0 0 0 0 0 0 0 0 0 1 1 0 0 1 0 0 0 0 0 0 0 0 0 0 0 0 0 0 0 0 0 0 0 0 0 0 0 0 0 0 0 0 0 0 0 0 0 0 0]\n",
            " [0 0 0 0 0 0 0 0 0 0 1 1 0 1 0 0 0 0 0 0 0 0 0 0 0 0 0 0 0 0 0 0 0 0 0 0 0 0 0 0 0 0 0 0 0 0 0 0 0 0]\n",
            " [0 0 0 0 0 0 0 0 0 0 0 1 1 0 0 0 0 0 0 0 0 0 0 0 0 0 0 0 0 0 0 0 0 0 0 0 0 0 0 0 0 0 0 0 0 0 0 0 0 0]\n",
            " [0 0 0 0 0 0 0 0 0 0 0 0 0 0 0 0 0 0 0 0 0 0 0 0 0 0 0 0 0 0 0 0 0 0 0 0 0 0 0 0 0 0 0 0 0 0 0 0 0 0]\n",
            " [0 0 0 0 0 0 0 0 0 0 0 0 0 0 0 0 0 0 1 1 0 0 0 0 0 0 0 0 0 0 0 0 0 0 1 0 0 0 0 0 0 0 0 0 0 0 0 0 0 0]\n",
            " [0 0 0 0 0 0 0 0 0 0 0 0 0 0 0 0 0 0 1 1 0 0 0 0 0 0 0 0 0 0 0 0 0 1 0 1 0 0 0 0 0 0 0 0 0 0 0 0 0 0]\n",
            " [0 0 0 0 0 0 0 0 0 0 0 0 0 0 0 0 0 0 0 0 0 0 0 0 0 0 0 0 0 0 0 0 0 1 0 1 0 0 0 0 0 0 0 0 0 0 0 0 0 0]\n",
            " [0 0 0 0 0 0 0 0 0 0 0 0 0 0 0 0 0 0 0 0 0 0 0 0 0 0 0 0 0 0 0 0 0 0 1 0 0 0 0 0 0 0 0 0 0 0 0 0 0 0]\n",
            " [0 0 0 0 0 0 0 0 0 0 0 0 0 0 0 0 0 0 0 0 0 0 0 0 0 0 0 0 0 0 0 0 0 0 0 0 0 0 0 0 0 0 0 0 0 0 0 0 0 0]]\n"
          ]
        }
      ],
      "source": [
        "\n",
        "def iterate(Z):\n",
        "   \n",
        "    N = (Z[0:-2,0:-2] + Z[0:-2,1:-1] + Z[0:-2,2:] +\n",
        "         Z[1:-1,0:-2]                + Z[1:-1,2:] +\n",
        "         Z[2:  ,0:-2] + Z[2:  ,1:-1] + Z[2:  ,2:])\n",
        "\n",
        "    birth = (N==3) & (Z[1:-1,1:-1]==0)\n",
        "    survive = ((N==2) | (N==3)) & (Z[1:-1,1:-1]==1)\n",
        "    Z[...] = 0\n",
        "    Z[1:-1,1:-1][birth | survive] = 1\n",
        "    return Z\n",
        "\n",
        "Z = np.random.randint(0,2,(50,50))\n",
        "for i in range(100): Z = iterate(Z)\n",
        "print(Z)"
      ]
    },
    {
      "cell_type": "markdown",
      "metadata": {
        "id": "yLNXCt71kLuz"
      },
      "source": [
        "#### 89. How to get the n largest values of an array (★★★) \n",
        "(**hint**: np.argsort | np.argpartition)"
      ]
    },
    {
      "cell_type": "code",
      "execution_count": null,
      "metadata": {
        "id": "BffyU5gGkLuz"
      },
      "outputs": [],
      "source": [
        "Z = np.arange(10000)\n",
        "np.random.shuffle(Z)\n",
        "n = 5\n",
        "\n",
        "print (Z[np.argsort(Z)[-n:]])\n",
        "\n",
        "print (Z[np.argpartition(-Z,n)[:n]])"
      ]
    },
    {
      "cell_type": "markdown",
      "metadata": {
        "id": "Lgr7-s5rkLuz"
      },
      "source": [
        "#### 90. Given an arbitrary number of vectors, build the cartesian product (every combinations of every item) (★★★) \n",
        "(**hint**: np.indices)"
      ]
    },
    {
      "cell_type": "code",
      "execution_count": null,
      "metadata": {
        "scrolled": true,
        "colab": {
          "base_uri": "https://localhost:8080/"
        },
        "id": "UGeZro1nkLu0",
        "outputId": "aeb09ef2-a9e6-4f7d-a21c-84ef89584413"
      },
      "outputs": [
        {
          "output_type": "stream",
          "name": "stdout",
          "text": [
            "[[1 4 6]\n",
            " [1 4 7]\n",
            " [1 5 6]\n",
            " [1 5 7]\n",
            " [2 4 6]\n",
            " [2 4 7]\n",
            " [2 5 6]\n",
            " [2 5 7]\n",
            " [3 4 6]\n",
            " [3 4 7]\n",
            " [3 5 6]\n",
            " [3 5 7]]\n"
          ]
        }
      ],
      "source": [
        "def cartesian(arrays):\n",
        "    arrays = [np.asarray(a) for a in arrays]\n",
        "    shape = (len(x) for x in arrays)\n",
        "\n",
        "    ix = np.indices(shape, dtype=int)\n",
        "    ix = ix.reshape(len(arrays), -1).T\n",
        "\n",
        "    for n, arr in enumerate(arrays):\n",
        "        ix[:, n] = arrays[n][ix[:, n]]\n",
        "\n",
        "    return ix\n",
        "\n",
        "print (cartesian(([1, 2, 3], [4, 5], [6, 7])))"
      ]
    },
    {
      "cell_type": "markdown",
      "metadata": {
        "id": "6NBQeQcokLu0"
      },
      "source": [
        "#### 91. How to create a record array from a regular array? (★★★) \n",
        "(**hint**: np.core.records.fromarrays)"
      ]
    },
    {
      "cell_type": "code",
      "execution_count": null,
      "metadata": {
        "colab": {
          "base_uri": "https://localhost:8080/"
        },
        "id": "iuv8eIV6kLu0",
        "outputId": "c1a6bd71-c7c8-4b70-9dba-7fcaeeeb509b"
      },
      "outputs": [
        {
          "output_type": "stream",
          "name": "stdout",
          "text": [
            "[(b'Hello', 2.5, 3) (b'World', 3.6, 2)]\n"
          ]
        }
      ],
      "source": [
        "Z = np.array([(\"Hello\", 2.5, 3),\n",
        "              (\"World\", 3.6, 2)])\n",
        "R = np.core.records.fromarrays(Z.T,\n",
        "                               names='col1, col2, col3',\n",
        "                               formats = 'S8, f8, i8')\n",
        "print(R)"
      ]
    },
    {
      "cell_type": "markdown",
      "metadata": {
        "id": "O61VhreJkLu0"
      },
      "source": [
        "#### 92. Consider a large vector Z, compute Z to the power of 3 using 3 different methods (★★★) \n",
        "(**hint**: np.power, \\*, np.einsum)"
      ]
    },
    {
      "cell_type": "code",
      "execution_count": null,
      "metadata": {
        "colab": {
          "base_uri": "https://localhost:8080/"
        },
        "id": "zHp_VVSTkLu1",
        "outputId": "96f7954d-8c76-41ac-b764-f2eaa5d78226"
      },
      "outputs": [
        {
          "output_type": "stream",
          "name": "stdout",
          "text": [
            "3.75 s ± 16.8 ms per loop (mean ± std. dev. of 7 runs, 1 loop each)\n",
            "181 ms ± 10.5 ms per loop (mean ± std. dev. of 7 runs, 10 loops each)\n",
            "143 ms ± 16.9 ms per loop (mean ± std. dev. of 7 runs, 10 loops each)\n"
          ]
        }
      ],
      "source": [
        "x = np.random.rand(int(5e7))\n",
        "\n",
        "%timeit np.power(x,3)\n",
        "%timeit x*x*x\n",
        "%timeit np.einsum('i,i,i->i',x,x,x)"
      ]
    },
    {
      "cell_type": "markdown",
      "metadata": {
        "id": "rYtX1CBhkLu1"
      },
      "source": [
        "#### 93. Consider two arrays A and B of shape (8,3) and (2,2). How to find rows of A that contain elements of each row of B regardless of the order of the elements in B? (★★★) \n",
        "(**hint**: np.where)"
      ]
    },
    {
      "cell_type": "code",
      "execution_count": null,
      "metadata": {
        "colab": {
          "base_uri": "https://localhost:8080/"
        },
        "id": "qp3KF4xMkLu1",
        "outputId": "ecfa009b-e879-439f-8879-e3bb71bd0c5b"
      },
      "outputs": [
        {
          "output_type": "stream",
          "name": "stdout",
          "text": [
            "[6]\n"
          ]
        }
      ],
      "source": [
        "A = np.random.randint(0,5,(8,3))\n",
        "B = np.random.randint(0,5,(2,2))\n",
        "\n",
        "C = (A[..., np.newaxis, np.newaxis] == B)\n",
        "rows = np.where(C.any((3,1)).all(1))[0]\n",
        "print(rows)"
      ]
    },
    {
      "cell_type": "markdown",
      "metadata": {
        "id": "v-BsTL0-kLu2"
      },
      "source": [
        "#### 94. Considering a 10x3 matrix, extract rows with unequal values (e.g. \\[2,2,3\\]) (★★★)"
      ]
    },
    {
      "cell_type": "code",
      "execution_count": null,
      "metadata": {
        "colab": {
          "base_uri": "https://localhost:8080/"
        },
        "id": "pt21pZDdkLu2",
        "outputId": "83ecfdb4-aee5-4056-948a-bef53fd0ad6e"
      },
      "outputs": [
        {
          "output_type": "stream",
          "name": "stdout",
          "text": [
            "[[1 0 2]\n",
            " [0 4 2]\n",
            " [4 1 2]\n",
            " [4 3 2]\n",
            " [3 3 1]\n",
            " [3 1 4]\n",
            " [4 4 4]\n",
            " [3 4 2]\n",
            " [1 3 0]\n",
            " [3 0 2]] \n",
            "\n",
            "[[1 0 2]\n",
            " [0 4 2]\n",
            " [4 1 2]\n",
            " [4 3 2]\n",
            " [3 3 1]\n",
            " [3 1 4]\n",
            " [3 4 2]\n",
            " [1 3 0]\n",
            " [3 0 2]]\n"
          ]
        }
      ],
      "source": [
        "Z = np.random.randint(0,5,(10,3))\n",
        "E = np.logical_and.reduce(Z[:,1:] == Z[:,:-1], axis=1)\n",
        "U = Z[~E]\n",
        "\n",
        "print(Z,\"\\n\")\n",
        "print(U)"
      ]
    },
    {
      "cell_type": "markdown",
      "metadata": {
        "id": "Do8WozBDkLu2"
      },
      "source": [
        "#### 95. Convert a vector of ints into a matrix binary representation (★★★) \n",
        "(**hint**: np.unpackbits)"
      ]
    },
    {
      "cell_type": "code",
      "execution_count": null,
      "metadata": {
        "colab": {
          "base_uri": "https://localhost:8080/"
        },
        "id": "Rizt8kXOkLu2",
        "outputId": "b26a71b2-b268-40aa-e99d-fd666d4ec0d3"
      },
      "outputs": [
        {
          "output_type": "stream",
          "name": "stdout",
          "text": [
            "[[0 0 0 0 0 0 0 0]\n",
            " [0 0 0 0 0 0 0 1]\n",
            " [0 0 0 0 0 0 1 0]\n",
            " [0 0 0 0 0 0 1 1]\n",
            " [0 0 0 0 1 1 1 1]\n",
            " [0 0 0 1 0 0 0 0]\n",
            " [0 0 1 0 0 0 0 0]\n",
            " [0 1 0 0 0 0 0 0]\n",
            " [1 0 0 0 0 0 0 0]]\n"
          ]
        }
      ],
      "source": [
        "I = np.array([0, 1, 2, 3, 15, 16, 32, 64, 128], dtype=np.uint8)\n",
        "\n",
        "print(np.unpackbits(I[:, np.newaxis], axis=1))"
      ]
    },
    {
      "cell_type": "markdown",
      "metadata": {
        "id": "6ABb_EE6kLu3"
      },
      "source": [
        "#### 96. Given a two dimensional array, how to extract unique rows? (★★★) \n",
        "(**hint**: np.ascontiguousarray)"
      ]
    },
    {
      "cell_type": "code",
      "execution_count": null,
      "metadata": {
        "colab": {
          "base_uri": "https://localhost:8080/"
        },
        "id": "bh1nOohXkLu3",
        "outputId": "972a877d-ff7c-431f-d5d0-29de8ad87397"
      },
      "outputs": [
        {
          "output_type": "stream",
          "name": "stdout",
          "text": [
            "[[1 0 1 0]\n",
            " [0 1 1 0]\n",
            " [1 1 0 0]\n",
            " [0 1 1 0]\n",
            " [1 1 0 0]\n",
            " [0 0 0 0]] \n",
            "\n",
            "[[0 0 0 0]\n",
            " [0 1 1 0]\n",
            " [1 0 1 0]\n",
            " [1 1 0 0]]\n"
          ]
        }
      ],
      "source": [
        "Z = np.random.randint(0,2,(6,4))\n",
        "T = np.ascontiguousarray(Z).view(np.dtype((np.void, Z.dtype.itemsize * Z.shape[1])))\n",
        "_, idx = np.unique(T, return_index=True)\n",
        "uZ = Z[idx]\n",
        "print(Z,\"\\n\")\n",
        "print(uZ)"
      ]
    },
    {
      "cell_type": "markdown",
      "metadata": {
        "id": "GtEilZ_7kLu3"
      },
      "source": [
        "#### 97. Considering 2 vectors A & B, write the einsum equivalent of inner, outer, sum, and mul function (★★★) \n",
        "(**hint**: np.einsum)"
      ]
    },
    {
      "cell_type": "code",
      "execution_count": null,
      "metadata": {
        "colab": {
          "base_uri": "https://localhost:8080/"
        },
        "id": "mz1bGeI4kLu3",
        "outputId": "22dbabb5-b248-4940-dc38-781ea9d197ab"
      },
      "outputs": [
        {
          "output_type": "stream",
          "name": "stdout",
          "text": [
            "4.5312295447287525 \n",
            "\n",
            "[0.6336094  0.29841342 0.32888614 0.00132057 0.09309772 0.00107991 0.27673793 0.00374664 0.96811162 0.05708149] \n",
            "\n",
            "2.6620848411992464 \n",
            "\n",
            "[[6.33609400e-01 6.46263457e-01 2.96616512e-01 1.10449618e-01 5.20990614e-01 4.83272139e-02 6.69835554e-01 5.51982940e-02 8.71703343e-01 8.28060446e-02]\n",
            " [2.92570385e-01 2.98413421e-01 1.36963257e-01 5.10003282e-02 2.40568439e-01 2.23151860e-02 3.09297883e-01 2.54879207e-02 4.02510731e-01 3.82358538e-02]\n",
            " [7.02541303e-01 7.16572025e-01 3.28886141e-01 1.22465700e-01 5.77670445e-01 5.35848487e-02 7.42708587e-01 6.12034502e-02 9.66538063e-01 9.18147149e-02]\n",
            " [7.57562957e-03 7.72692537e-03 3.54643857e-03 1.32056973e-03 6.22912459e-03 5.77815087e-04 8.00876064e-03 6.59967841e-04 1.04223542e-02 9.90054629e-04]\n",
            " [1.13221984e-01 1.15483183e-01 5.30034905e-02 1.97366467e-02 9.30977202e-02 8.63576679e-03 1.19695368e-01 9.86358524e-03 1.55767862e-01 1.47969153e-02]\n",
            " [1.41585263e-02 1.44412916e-02 6.62814136e-03 2.46808810e-03 1.16419663e-02 1.07991158e-03 1.49680296e-02 1.23345155e-03 1.94789324e-02 1.85036958e-03]\n",
            " [2.61771341e-01 2.66999277e-01 1.22545060e-01 4.56314958e-02 2.15243668e-01 1.99660541e-02 2.76737926e-01 2.28047933e-02 3.60138206e-01 3.42107445e-02]\n",
            " [4.30068441e-02 4.38657503e-02 2.01331295e-02 7.49687349e-03 3.53627362e-02 3.28025587e-03 4.54657289e-02 3.74663700e-03 5.91676982e-02 5.62053948e-03]\n",
            " [7.03685066e-01 7.17738630e-01 3.29421580e-01 1.22665079e-01 5.78610914e-01 5.36720868e-02 7.43917744e-01 6.13030916e-02 9.68111622e-01 9.19641927e-02]\n",
            " [4.36772102e-01 4.45495045e-01 2.04469532e-01 7.61373047e-02 3.59139504e-01 3.33138662e-02 4.61744227e-01 3.80503744e-02 6.00899705e-01 5.70814924e-02]]\n"
          ]
        }
      ],
      "source": [
        "A = np.random.uniform(0,1,10)\n",
        "B = np.random.uniform(0,1,10)\n",
        "\n",
        "print(np.einsum('i->', A),\"\\n\" )      \n",
        "print(np.einsum('i,i->i', A, B),\"\\n\") \n",
        "print(np.einsum('i,i', A, B),\"\\n\")    \n",
        "print(np.einsum('i,j->ij', A, B))"
      ]
    },
    {
      "cell_type": "markdown",
      "metadata": {
        "id": "aWR96ZHgkLu4"
      },
      "source": [
        "#### 98. Considering a path described by two vectors (X,Y), how to sample it using equidistant samples (★★★)? \n",
        "(**hint**: np.cumsum, np.interp)"
      ]
    },
    {
      "cell_type": "code",
      "execution_count": null,
      "metadata": {
        "collapsed": true,
        "colab": {
          "base_uri": "https://localhost:8080/"
        },
        "id": "KSIzdvUjkLu4",
        "outputId": "471738b7-5ebf-40d9-fbea-c12fa04af4d4"
      },
      "outputs": [
        {
          "output_type": "stream",
          "name": "stdout",
          "text": [
            "[1.00000000e-01 2.00994225e-01 3.03948099e-01 4.09773428e-01 5.19310334e-01 6.33316917e-01 7.52465988e-01 8.77347271e-01 1.00847317e+00 1.14628646e+00 1.29116861e+00 1.44344797e+00 1.60340735e+00 1.77129076e+00 1.94730924e+00 2.13164591e+00 2.32446017e+00 2.52589132e+00 2.73606151e+00 2.95507828e+00 3.18303664e+00 3.42002084e+00 3.66610588e+00 3.92135873e+00 4.18583938e+00 4.45960178e+00 4.74269456e+00 5.03516168e+00 5.33704304e+00 5.64837490e+00 5.96919031e+00 6.29951948e+00 6.63939009e+00 6.98882753e+00 7.34785520e+00 7.71649464e+00 8.09476576e+00 8.48268698e+00 8.88027538e+00 9.28754684e+00 9.70451612e+00 1.01311970e+01 1.05676022e+01 1.10137439e+01 1.14696332e+01 1.19352807e+01 1.24106962e+01 1.28958890e+01 1.33908678e+01 1.38956409e+01 1.44102161e+01 1.49346005e+01 1.54688013e+01 1.60128248e+01 1.65666773e+01 1.71303646e+01 1.77038924e+01 1.82872658e+01 1.88804900e+01 1.94835697e+01 2.00965094e+01 2.07193135e+01 2.13519861e+01 2.19945311e+01 2.26469523e+01 2.33092533e+01 2.39814376e+01 2.46635083e+01 2.53554686e+01 2.60573216e+01 2.67690702e+01 2.74907170e+01 2.82222648e+01 2.89637160e+01 2.97150732e+01 3.04763387e+01 3.12475148e+01 3.20286035e+01 3.28196071e+01 3.36205275e+01 3.44313667e+01 3.52521266e+01 3.60828088e+01 3.69234153e+01 3.77739476e+01 3.86344073e+01 3.95047962e+01 4.03851155e+01 4.12753669e+01 4.21755518e+01 4.30856714e+01 4.40057271e+01 4.49357203e+01 4.58756521e+01 4.68255237e+01 4.77853363e+01 4.87550910e+01 4.97347890e+01 5.07244312e+01 5.17240188e+01 5.27335526e+01 5.37530338e+01 5.47824631e+01 5.58218416e+01 5.68711701e+01 5.79304495e+01 5.89996806e+01 6.00788642e+01 6.11680012e+01 6.22670923e+01 6.33761382e+01 6.44951397e+01 6.56240975e+01 6.67630122e+01 6.79118847e+01 6.90707154e+01 7.02395051e+01 7.14182544e+01 7.26069639e+01 7.38056341e+01 7.50142658e+01 7.62328593e+01 7.74614153e+01 7.86999344e+01 7.99484170e+01 8.12068636e+01 8.24752748e+01 8.37536510e+01 8.50419928e+01 8.63403005e+01 8.76485747e+01 8.89668157e+01 9.02950241e+01 9.16332002e+01 9.29813445e+01 9.43394574e+01 9.57075392e+01 9.70855903e+01 9.84736112e+01 9.98716023e+01 1.01279564e+02 1.02697496e+02 1.04125400e+02 1.05563275e+02 1.07011121e+02 1.08468941e+02 1.09936732e+02 1.11414496e+02 1.12902234e+02 1.14399945e+02 1.15907630e+02 1.17425288e+02 1.18952921e+02 1.20490529e+02 1.22038111e+02 1.23595669e+02 1.25163202e+02 1.26740711e+02 1.28328195e+02 1.29925656e+02 1.31533093e+02 1.33150507e+02 1.34777897e+02 1.36415265e+02 1.38062610e+02 1.39719933e+02 1.41387233e+02 1.43064512e+02 1.44751768e+02 1.46449003e+02 1.48156217e+02 1.49873409e+02 1.51600581e+02 1.53337731e+02 1.55084861e+02 1.56841971e+02 1.58609060e+02 1.60386130e+02 1.62173179e+02 1.63970209e+02 1.65777219e+02 1.67594210e+02 1.69421182e+02 1.71258134e+02 1.73105068e+02 1.74961983e+02 1.76828879e+02 1.78705758e+02 1.80592617e+02 1.82489459e+02 1.84396283e+02 1.86313089e+02 1.88239877e+02 1.90176648e+02 1.92123401e+02 1.94080137e+02 1.96046856e+02 1.98023558e+02 2.00010243e+02 2.02006911e+02 2.04013563e+02 2.06030198e+02 2.08056817e+02 2.10093420e+02 2.12140006e+02 2.14196577e+02 2.16263131e+02 2.18339670e+02 2.20426193e+02 2.22522701e+02 2.24629193e+02 2.26745669e+02 2.28872131e+02 2.31008577e+02 2.33155008e+02 2.35311425e+02 2.37477826e+02 2.39654213e+02 2.41840585e+02 2.44036942e+02 2.46243285e+02 2.48459614e+02 2.50685929e+02 2.52922229e+02 2.55168515e+02 2.57424787e+02 2.59691045e+02 2.61967290e+02 2.64253520e+02 2.66549737e+02 2.68855941e+02 2.71172130e+02 2.73498307e+02 2.75834470e+02 2.78180620e+02 2.80536756e+02 2.82902880e+02 2.85278991e+02 2.87665088e+02 2.90061173e+02 2.92467244e+02 2.94883304e+02 2.97309350e+02 2.99745384e+02 3.02191405e+02 3.04647414e+02 3.07113410e+02 3.09589394e+02 3.12075366e+02 3.14571326e+02 3.17077273e+02 3.19593208e+02 3.22119132e+02 3.24655043e+02 3.27200943e+02 3.29756830e+02 3.32322706e+02 3.34898570e+02 3.37484423e+02 3.40080264e+02 3.42686093e+02 3.45301911e+02 3.47927718e+02 3.50563513e+02 3.53209297e+02 3.55865069e+02 3.58530831e+02 3.61206581e+02 3.63892320e+02 3.66588048e+02 3.69293765e+02 3.72009471e+02 3.74735166e+02 3.77470850e+02 3.80216524e+02 3.82972187e+02 3.85737839e+02 3.88513480e+02 3.91299111e+02 3.94094731e+02 3.96900341e+02 3.99715940e+02 4.02541528e+02 4.05377107e+02 4.08222675e+02 4.11078232e+02 4.13943780e+02 4.16819317e+02 4.19704844e+02 4.22600361e+02 4.25505868e+02 4.28421365e+02 4.31346851e+02 4.34282328e+02 4.37227795e+02 4.40183252e+02 4.43148699e+02 4.46124136e+02 4.49109564e+02 4.52104982e+02 4.55110390e+02 4.58125788e+02 4.61151177e+02 4.64186556e+02 4.67231925e+02 4.70287286e+02 4.73352636e+02 4.76427977e+02 4.79513309e+02 4.82608631e+02 4.85713944e+02 4.88829248e+02 4.91954542e+02 4.95089827e+02] \n",
            "\n",
            "[  0.           2.48788858   4.97577716   7.46366574   9.95155432  12.43944289  14.92733147  17.41522005  19.90310863  22.39099721  24.87888579  27.36677437  29.85466295  32.34255152  34.8304401   37.31832868  39.80621726  42.29410584  44.78199442  47.269883    49.75777158  52.24566016  54.73354873  57.22143731  59.70932589  62.19721447  64.68510305  67.17299163  69.66088021  72.14876879  74.63665736  77.12454594  79.61243452  82.1003231   84.58821168  87.07610026  89.56398884  92.05187742  94.539766    97.02765457  99.51554315 102.00343173 104.49132031 106.97920889 109.46709747 111.95498605 114.44287463 116.9307632  119.41865178 121.90654036 124.39442894 126.88231752 129.3702061  131.85809468 134.34598326 136.83387184 139.32176041 141.80964899 144.29753757 146.78542615 149.27331473 151.76120331 154.24909189 156.73698047 159.22486904 161.71275762 164.2006462  166.68853478 169.17642336 171.66431194 174.15220052 176.6400891  179.12797768 181.61586625 184.10375483 186.59164341 189.07953199 191.56742057 194.05530915 196.54319773 199.03108631 201.51897488 204.00686346 206.49475204 208.98264062 211.4705292  213.95841778 216.44630636 218.93419494 221.42208352 223.90997209 226.39786067 228.88574925 231.37363783 233.86152641 236.34941499 238.83730357 241.32519215 243.81308072 246.3009693  248.78885788 251.27674646 253.76463504 256.25252362 258.7404122  261.22830078 263.71618936 266.20407793 268.69196651 271.17985509 273.66774367 276.15563225 278.64352083 281.13140941 283.61929799 286.10718656 288.59507514 291.08296372 293.5708523  296.05874088 298.54662946 301.03451804 303.52240662 306.0102952  308.49818377 310.98607235 313.47396093 315.96184951 318.44973809 320.93762667 323.42551525 325.91340383 328.4012924  330.88918098 333.37706956 335.86495814 338.35284672 340.8407353  343.32862388 345.81651246 348.30440104 350.79228961 353.28017819 355.76806677 358.25595535 360.74384393 363.23173251 365.71962109 368.20750967 370.69539824 373.18328682 375.6711754  378.15906398 380.64695256 383.13484114 385.62272972 388.1106183  390.59850688 393.08639545 395.57428403 398.06217261 400.55006119 403.03794977 405.52583835 408.01372693 410.50161551 412.98950408 415.47739266 417.96528124 420.45316982 422.9410584  425.42894698 427.91683556 430.40472414 432.89261272 435.38050129 437.86838987 440.35627845 442.84416703 445.33205561 447.81994419 450.30783277 452.79572135 455.28360992 457.7714985  460.25938708 462.74727566 465.23516424 467.72305282 470.2109414  472.69882998 475.18671856 477.67460713 480.16249571 482.65038429 485.13827287 487.62616145 490.11405003 492.60193861 495.08982719] \n",
            "\n",
            "[ 0.00000000e+00 -3.73131229e-01 -2.59817608e+00 -3.26212050e+00 -2.18442687e+00 -2.98929946e-02  2.42923642e+00  4.54913599e+00  5.92318348e+00  6.35117933e+00  5.82369277e+00  4.46259540e+00  2.47320794e+00  1.09577220e-01 -2.36575300e+00 -4.71261671e+00 -6.72701769e+00 -8.25541575e+00 -9.18486120e+00 -9.46381505e+00 -9.11085788e+00 -8.12875279e+00 -6.63306046e+00 -4.69271059e+00 -2.44736165e+00 -2.05444585e-02  2.46101146e+00  4.86841760e+00  7.08937968e+00  9.02539126e+00  1.05948609e+01  1.17357250e+01  1.24068974e+01  1.25885805e+01  1.22815267e+01  1.15053927e+01  1.02963689e+01  8.70429550e+00  6.78948686e+00  4.61716636e+00  2.25853448e+00 -1.98731680e-01 -2.68040566e+00 -5.11543300e+00 -7.41973991e+00 -9.53891040e+00 -1.14237629e+01 -1.29919305e+01 -1.42355069e+01 -1.51243232e+01 -1.56061571e+01 -1.57219415e+01 -1.54217066e+01 -1.47579136e+01 -1.37255236e+01 -1.23634834e+01 -1.07024632e+01 -8.78327367e+00 -6.65029558e+00 -4.35514246e+00 -1.94290275e+00  5.28038914e-01  3.00985904e+00  5.45450275e+00  7.80093594e+00  1.00179639e+01  1.20595602e+01  1.38732623e+01  1.54564938e+01  1.67497894e+01  1.77435802e+01  1.84439878e+01  1.87990820e+01  1.88271003e+01  1.85472755e+01  1.79378850e+01  1.70105456e+01  1.58085777e+01  1.43501808e+01  1.26222364e+01  1.06905445e+01  8.58498641e+00  6.33562529e+00  3.96179025e+00  1.51802643e+00 -9.61699044e-01 -3.44349301e+00 -5.88951759e+00 -8.26006582e+00 -1.05270865e+01 -1.26610269e+01 -1.46343020e+01 -1.64206033e+01 -1.79708499e+01 -1.92894561e+01 -2.03605967e+01 -2.11716587e+01 -2.17133504e+01 -2.19797677e+01 -2.19626531e+01 -2.16476737e+01 -2.10622561e+01 -2.02145809e+01 -1.91158467e+01 -1.77800930e+01 -1.62239930e+01 -1.44666197e+01 -1.25291882e+01 -1.04347777e+01 -8.20773276e+00 -5.86978851e+00 -3.45563299e+00 -9.92556869e-01  1.49191203e+00  3.97031733e+00  6.41557503e+00  8.80126359e+00  1.11019001e+01  1.32931995e+01  1.53523150e+01  1.72580567e+01  1.89910866e+01  2.05340895e+01  2.18719167e+01  2.29917039e+01  2.38829603e+01  2.45376309e+01  2.49501314e+01  2.51173551e+01  2.50386548e+01  2.47157984e+01  2.41529019e+01  2.33563391e+01  2.23346314e+01  2.10983193e+01  1.96598169e+01  1.80332532e+01  1.62343003e+01  1.42799934e+01  1.21885425e+01  9.97914013e+00  7.67176574e+00  5.28699023e+00  2.84441658e+00  3.68190102e-01 -2.11846865e+00 -4.59426061e+00 -7.03829202e+00 -9.43024209e+00 -1.17505186e+01 -1.39803999e+01 -1.61021634e+01 -1.80991985e+01 -1.99561058e+01 -2.16587804e+01 -2.31850397e+01 -2.45166960e+01 -2.56568097e+01 -2.65976904e+01 -2.73332424e+01 -2.78589555e+01 -2.81718833e+01 -2.82706110e+01 -2.81552119e+01 -2.78066635e+01 -2.72341677e+01 -2.64578863e+01 -2.54844118e+01 -2.43214986e+01 -2.29779690e+01 -2.14636172e+01 -1.97837046e+01 -1.79341987e+01 -1.59545785e+01 -1.38585628e+01 -1.16602783e+01 -9.37416511e+00 -7.01488958e+00 -4.59184632e+00 -2.12995331e+00  3.50691071e-01  2.83498918e+00  5.30813450e+00  7.75565814e+00  1.01522531e+01  1.24813227e+01  1.47337756e+01  1.68973642e+01  1.89604991e+01  2.09071945e+01  2.26943693e+01  2.43420179e+01  2.58422998e+01  2.71881423e+01  2.83731992e+01  2.93376609e+01  3.01222558e+01  3.07280750e+01  3.11531219e+01  3.13960177e+01] \n",
            "\n",
            "[ 0.00000000e+00  1.74026724e+00  9.81816584e-01 -1.34251287e+00 -3.53191891e+00 -4.70449474e+00 -4.59573427e+00 -3.33831870e+00 -1.28956083e+00  1.14234685e+00  3.55645601e+00  5.62188218e+00  7.09389488e+00  7.82951803e+00  7.78700678e+00  6.99685666e+00  5.55535240e+00  3.60417006e+00  1.30506373e+00 -1.15819722e+00 -3.61328132e+00 -5.89130465e+00 -7.87065053e+00 -9.41689057e+00 -1.04714836e+01 -1.09903787e+01 -1.09354306e+01 -1.03330912e+01 -9.22690166e+00 -7.67489830e+00 -5.75257980e+00 -3.54832201e+00 -1.15854355e+00  1.31709956e+00  3.78023622e+00  6.13780326e+00  8.30540149e+00  1.02098724e+01  1.17910419e+01  1.29972950e+01  1.37774249e+01  1.41319792e+01  1.40585758e+01  1.35636816e+01  1.26345244e+01  1.13409083e+01  9.72216360e+00  7.79464305e+00  5.64544223e+00  3.32503222e+00  8.88107041e-01 -1.59329248e+00 -4.05992507e+00 -6.45313746e+00 -8.71327144e+00 -1.07900854e+01 -1.26380653e+01 -1.42147006e+01 -1.54892299e+01 -1.64390858e+01 -1.70351433e+01 -1.72938948e+01 -1.71685631e+01 -1.67219979e+01 -1.59044166e+01 -1.47824153e+01 -1.33665280e+01 -1.16678134e+01 -9.75246391e+00 -7.63091465e+00 -5.35345831e+00 -2.96905840e+00 -5.09631905e-01  1.97507060e+00  4.44430515e+00  6.85344809e+00  9.15903461e+00  1.13337844e+01  1.33467125e+01  1.51336120e+01  1.66966787e+01  1.80162922e+01  1.90746708e+01  1.98127969e+01  2.02634499e+01  2.04221761e+01  2.02877631e+01  1.98449702e+01  1.90974465e+01  1.80799531e+01  1.68069397e+01  1.52959771e+01  1.35665801e+01  1.16227312e+01  9.51601869e+00  7.27388893e+00  4.92519240e+00  2.49981337e+00  2.82932820e-02 -2.45817963e+00 -4.92460367e+00 -7.34030894e+00 -9.67635928e+00 -1.19050601e+01 -1.40002645e+01 -1.59376556e+01 -1.76950019e+01 -1.92523833e+01 -2.05923861e+01 -2.16995543e+01 -2.25478860e+01 -2.31432552e+01 -2.34800725e+01 -2.35556687e+01 -2.33702741e+01 -2.29269662e+01 -2.22315865e+01 -2.12926288e+01 -2.01211000e+01 -1.87303570e+01 -1.71359212e+01 -1.53552740e+01 -1.34076356e+01 -1.13137308e+01 -9.09554383e+00 -6.77606668e+00 -4.37904252e+00 -1.92870828e+00  5.50461201e-01  3.03400451e+00  5.49771780e+00  7.91788934e+00  1.02715222e+01  1.25365431e+01  1.46919953e+01  1.67182148e+01  1.85969872e+01  2.03116866e+01  2.18473923e+01  2.31909872e+01  2.43312337e+01  2.52588296e+01  2.59664444e+01  2.64391214e+01  2.66748505e+01  2.66796333e+01  2.64545680e+01  2.60026765e+01  2.53288265e+01  2.44396400e+01  2.33433894e+01  2.20498837e+01  2.05703459e+01  1.89172843e+01  1.71043584e+01  1.51396391e+01  1.30387952e+01  1.08294252e+01  8.52903617e+00  6.15551380e+00  3.72697869e+00  1.26164946e+00 -1.22228693e+00 -3.70679651e+00 -6.17014862e+00 -8.59028675e+00 -1.09516293e+01 -1.32379536e+01 -1.54338179e+01 -1.75246263e+01 -1.94966815e+01 -2.13317519e+01 -2.29952001e+01 -2.44987532e+01 -2.58335652e+01 -2.69919481e+01 -2.79673583e+01 -2.87543764e+01 -2.93186910e+01 -2.96679958e+01 -2.98181354e+01 -2.97693731e+01 -2.95229769e+01 -2.90811595e+01 -2.84133854e+01 -2.75430665e+01 -2.64934034e+01 -2.52713717e+01 -2.38845608e+01 -2.23353782e+01 -2.06051319e+01 -1.87442619e+01 -1.67635423e+01 -1.46739620e+01 -1.24866789e+01 -1.01933401e+01 -7.83474328e+00 -5.42495146e+00 -2.97607515e+00 -5.00072086e-01]\n"
          ]
        }
      ],
      "source": [
        "phi = np.arange(0, 10*np.pi, 0.1)\n",
        "a = 1\n",
        "x = a*phi*np.cos(phi)\n",
        "y = a*phi*np.sin(phi)\n",
        "\n",
        "dr = (np.diff(x)**2 + np.diff(y)**2)**.5 \n",
        "r = np.zeros_like(x)\n",
        "r[1:] = np.cumsum(dr)               \n",
        "r_int = np.linspace(0, r.max(), 200) \n",
        "x_int = np.interp(r_int, r, x)       \n",
        "y_int = np.interp(r_int, r, y)\n",
        "\n",
        "print(r[1:],\"\\n\")\n",
        "print(r_int,\"\\n\")\n",
        "print(x_int,\"\\n\")\n",
        "print(y_int)"
      ]
    },
    {
      "cell_type": "markdown",
      "metadata": {
        "id": "hjh6P1S8kLu4"
      },
      "source": [
        "#### 99. Given an integer n and a 2D array X, select from X the rows which can be interpreted as draws from a multinomial distribution with n degrees, i.e., the rows which only contain integers and which sum to n. (★★★) \n",
        "(**hint**: np.logical\\_and.reduce, np.mod)"
      ]
    },
    {
      "cell_type": "code",
      "execution_count": null,
      "metadata": {
        "colab": {
          "base_uri": "https://localhost:8080/"
        },
        "id": "VjzfzIEnkLu5",
        "outputId": "13125f92-12f7-49c0-9ef8-45760fe6f2a1"
      },
      "outputs": [
        {
          "output_type": "stream",
          "name": "stdout",
          "text": [
            "[[2. 0. 1. 1.]]\n"
          ]
        }
      ],
      "source": [
        "X = np.asarray([[1.0, 0.0, 3.0, 8.0],\n",
        "                [2.0, 0.0, 1.0, 1.0],\n",
        "                [1.5, 2.5, 1.0, 0.0]])\n",
        "n = 4\n",
        "M = np.logical_and.reduce(np.mod(X, 1) == 0, axis=-1)\n",
        "M &= (X.sum(axis=-1) == n)\n",
        "\n",
        "print(X[M])"
      ]
    },
    {
      "cell_type": "markdown",
      "metadata": {
        "id": "FpNsuXm5kLu5"
      },
      "source": [
        "#### 100. Compute bootstrapped 95% confidence intervals for the mean of a 1D array X (i.e., resample the elements of an array with replacement N times, compute the mean of each sample, and then compute percentiles over the means). (★★★) \n",
        "(**hint**: np.percentile)"
      ]
    },
    {
      "cell_type": "code",
      "execution_count": null,
      "metadata": {
        "colab": {
          "base_uri": "https://localhost:8080/"
        },
        "id": "U-HM3j3UkLu5",
        "outputId": "d92e3ba4-6412-4a9a-8659-4e6197c47fd4"
      },
      "outputs": [
        {
          "output_type": "stream",
          "name": "stdout",
          "text": [
            "[-0.11284214  0.25656943]\n"
          ]
        }
      ],
      "source": [
        "X = np.random.randn(100) \n",
        "N = 1000 \n",
        "\n",
        "idx = np.random.randint(0, X.size, (N, X.size))\n",
        "means = X[idx].mean(axis=1)\n",
        "confint = np.percentile(means, [5,95])\n",
        "\n",
        "print(confint)"
      ]
    }
  ],
  "metadata": {
    "kernelspec": {
      "display_name": "Python 3",
      "language": "python",
      "name": "python3"
    },
    "language_info": {
      "codemirror_mode": {
        "name": "ipython",
        "version": 3
      },
      "file_extension": ".py",
      "mimetype": "text/x-python",
      "name": "python",
      "nbconvert_exporter": "python",
      "pygments_lexer": "ipython3",
      "version": "3.8.3"
    },
    "colab": {
      "provenance": [],
      "collapsed_sections": [
        "DhhoED4_kLt4",
        "jyTrg-XRkLt5",
        "TH6B2LHOkLt6",
        "M5G9CBW5kLt8",
        "yjO17W7YkLt8",
        "rZJIJOWfkLt9",
        "EZIqtL4BkLt-",
        "xEpP8-ndkLt-",
        "_Bh4Y3FjkLt_",
        "yrGRSGlBkLuA",
        "2EOk78aPkLuB",
        "kbWhViVtkLuC",
        "LyNhkRfhkLuC",
        "NZ5yAt5_kLuD",
        "NgIKupgVkLuE",
        "8AH_3w1hkLuE",
        "G_4QqbeakLuF",
        "jQWJEmoIkLuF",
        "jTGz2rCJkLuG",
        "nqh0ia8ZkLuG",
        "fdIvuHOQkLuH",
        "9gR80ZmbkLuI",
        "tAgvBtANkLuI",
        "BuFusicdkLuJ",
        "AmHbJpDBkLuJ",
        "1uW4-2C5kLuK",
        "ryw4SyalkLuK",
        "sq-AH50okLuL",
        "YYizJxCYkLuL",
        "ADdRbRKykLuM",
        "c3kLVNcYkLuM",
        "XENIrZAzkLuN",
        "p-dRXN0LkLuN",
        "WNblKt5hkLuN",
        "HQmbxl2rkLuO",
        "_YhjkhNHkLuO",
        "uyjoQ62zkLuP",
        "NRafubSekLuP",
        "qslZmofYkLuQ",
        "v2zBKxQnkLuQ",
        "JCHDV7uvkLuR",
        "riKTgFNakLuY",
        "Dl0kfRDAkLuZ",
        "yUDt2edQkLuZ",
        "w4BgiMcpkLua",
        "spRgWVo_kLub",
        "BJiAz8wLkLuc",
        "IK0P9rHpkLuc",
        "VwGl1stykLud",
        "mal-xLYikLue",
        "5K-CKJhZkLue",
        "LW_b7GHHkLuf",
        "5HPe-NaZkLuf",
        "EnXcKkQOkLug",
        "3da-kqbZkLuh",
        "AOXwFx0ykLuh",
        "hDL3v9rmkLui",
        "9Gca73mhkLuj",
        "MHi41yTQkLuj",
        "I3dWIviYkLuk",
        "V5RSPBOpkLul",
        "hHq7gV79kLul",
        "KGSfrH3xkLum",
        "UbimqINIkLun",
        "HTZO4_N2kLun",
        "GJkN2OsikLuo",
        "dDcxxGffkLup",
        "mf9akAqokLuq",
        "PjEH1BqEkLuq",
        "QRpNXiFHkLur",
        "LNPpzzyBkLus",
        "_-lqOBSmkLus",
        "62EV32e3kLut",
        "USMjjZXEkLuu",
        "26P2azaWkLuv",
        "ZA7DW899kLuv",
        "_J6LughjkLuw",
        "Q4J3NWZIkLuw",
        "7Rehu6hdkLux",
        "FDkWpNaKkLuy",
        "RoMIL6gCkLuy",
        "yLNXCt71kLuz",
        "Lgr7-s5rkLuz",
        "6NBQeQcokLu0",
        "O61VhreJkLu0",
        "rYtX1CBhkLu1",
        "v-BsTL0-kLu2",
        "Do8WozBDkLu2",
        "6ABb_EE6kLu3",
        "GtEilZ_7kLu3",
        "aWR96ZHgkLu4",
        "hjh6P1S8kLu4",
        "FpNsuXm5kLu5"
      ],
      "include_colab_link": true
    }
  },
  "nbformat": 4,
  "nbformat_minor": 0
}
